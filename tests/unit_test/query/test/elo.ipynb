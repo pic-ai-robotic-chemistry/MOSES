{
 "cells": [
  {
   "cell_type": "code",
   "execution_count": 2,
   "metadata": {},
   "outputs": [
    {
     "name": "stdout",
     "output_type": "stream",
     "text": [
      "模型i vs. 模型j 的胜率分析（i战胜j的概率）:\n",
      "模型1 vs. 模型2 | Mu差距: 0.780 | 预测胜率: 55.20%\n",
      "模型2 vs. 模型3 | Mu差距: 2.180 | 预测胜率: 64.27%\n",
      "模型3 vs. 模型4 | Mu差距: 0.350 | 预测胜率: 52.34%\n",
      "模型4 vs. 模型5 | Mu差距: 2.120 | 预测胜率: 63.89%\n",
      "模型5 vs. 模型6 | Mu差距: 5.990 | 预测胜率: 84.19%\n"
     ]
    }
   ],
   "source": [
    "import math\n",
    "from scipy.stats import norm\n",
    "\n",
    "# 默认的beta值，根据trueskill库的默认设置\n",
    "BETA = 25 / 6\n",
    "\n",
    "def predict_win_probability_by_index(stats, idx1, idx2):\n",
    "    \"\"\"\n",
    "    根据两个模型的TrueSkill评分索引，预测模型idx1战胜模型idx2的概率。\n",
    "    stats: [(mu, sigma), ...]\n",
    "    idx1, idx2: 需要比较的模型编号（从0开始）\n",
    "    \"\"\"\n",
    "    mu1, sigma1 = stats[idx1]\n",
    "    mu2, sigma2 = stats[idx2]\n",
    "    delta_mu = mu1 - mu2\n",
    "    total_sigma = math.sqrt(sigma1**2 + sigma2**2 + 2 * BETA**2)\n",
    "    win_prob = norm.cdf(delta_mu / total_sigma)\n",
    "    return win_prob\n",
    "\n",
    "# 6组mu和sigma，分别放入列表，方便索引\n",
    "stats = [\n",
    "    (29.20, 0.66),  # 0: mu_1, sigma_1\n",
    "    (28.42, 0.65),  # 1: mu_2, sigma_2\n",
    "    (26.24, 0.64),  # 2: mu_3, sigma_3\n",
    "    (25.89, 0.64),  # 3: mu_4, sigma_4\n",
    "    (23.77, 0.65),  # 4: mu_5, sigma_5\n",
    "    (17.78, 0.76),  # 5: mu_6, sigma_6\n",
    "]\n",
    "\n",
    "# 只比较1-2, 2-3, 3-4, 4-5, 5-6的胜率\n",
    "print(\"模型i vs. 模型j 的胜率分析（i战胜j的概率）:\")\n",
    "pairs = [(0,1), (1,2), (2,3), (3,4), (4,5)]\n",
    "for i, j in pairs:\n",
    "    prob = predict_win_probability_by_index(stats, i, j)\n",
    "    mu_diff = stats[i][0] - stats[j][0]\n",
    "    print(f\"模型{i+1} vs. 模型{j+1} | Mu差距: {mu_diff:.3f} | 预测胜率: {prob:.2%}\")"
   ]
  },
  {
   "cell_type": "code",
   "execution_count": null,
   "metadata": {},
   "outputs": [],
   "source": []
  }
 ],
 "metadata": {
  "kernelspec": {
   "display_name": "OntologyConstruction",
   "language": "python",
   "name": "python3"
  },
  "language_info": {
   "codemirror_mode": {
    "name": "ipython",
    "version": 3
   },
   "file_extension": ".py",
   "mimetype": "text/x-python",
   "name": "python",
   "nbconvert_exporter": "python",
   "pygments_lexer": "ipython3",
   "version": "3.13.0"
  }
 },
 "nbformat": 4,
 "nbformat_minor": 2
}
