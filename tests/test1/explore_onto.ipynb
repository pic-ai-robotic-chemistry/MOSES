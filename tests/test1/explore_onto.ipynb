{
 "cells": [
  {
   "cell_type": "code",
   "execution_count": 1,
   "metadata": {},
   "outputs": [],
   "source": [
    "import sys\n",
    "import os\n",
    "sys.path.append(r\"D:\\CursorProj\\Chem-Ontology-Constructor\")\n",
    "os.environ[\"PROJECT_ROOT\"] = \"D:\\\\CursorProj\\\\Chem-Ontology-Constructor\\\\\""
   ]
  },
  {
   "cell_type": "code",
   "execution_count": 2,
   "metadata": {},
   "outputs": [],
   "source": [
    "from owlready2 import *\n",
    "\n",
    "from config.settings import _ONTOLOGY_CONFIG\n",
    "\n",
    "onto = get_ontology(r\"D:\\CursorProj\\Chem-Ontology-Constructor\\data\\ontology\\backup-4.owl\").load(only_local=True)\n",
    "class_namespace = onto.get_namespace(_ONTOLOGY_CONFIG[\"namespace_classes_iri\"])"
   ]
  },
  {
   "cell_type": "code",
   "execution_count": 3,
   "metadata": {},
   "outputs": [
    {
     "name": "stdout",
     "output_type": "stream",
     "text": [
      "找到 0 对互斥类:\n",
      "本体中没有定义互斥类关系\n"
     ]
    }
   ],
   "source": [
    "# 执行SPARQL查询获取所有互斥类\n",
    "query = \"\"\"\n",
    "SELECT DISTINCT ?class1 ?class2 WHERE {\n",
    "  ?class1 owl:disjointWith ?class2 .\n",
    "}\n",
    "\"\"\"\n",
    "\n",
    "# 执行查询\n",
    "results = list(default_world.sparql(query))\n",
    "\n",
    "# 显示结果\n",
    "print(f\"找到 {len(results)} 对互斥类:\")\n",
    "for class1, class2 in results:\n",
    "    print(f\"{class1.name} 与 {class2.name} 互斥\")\n",
    "\n",
    "# 如果没有结果\n",
    "if not results:\n",
    "    print(\"本体中没有定义互斥类关系\")\n"
   ]
  },
  {
   "cell_type": "code",
   "execution_count": null,
   "metadata": {},
   "outputs": [],
   "source": []
  }
 ],
 "metadata": {
  "kernelspec": {
   "display_name": "OntologyConstruction",
   "language": "python",
   "name": "python3"
  },
  "language_info": {
   "codemirror_mode": {
    "name": "ipython",
    "version": 3
   },
   "file_extension": ".py",
   "mimetype": "text/x-python",
   "name": "python",
   "nbconvert_exporter": "python",
   "pygments_lexer": "ipython3",
   "version": "3.13.0"
  }
 },
 "nbformat": 4,
 "nbformat_minor": 2
}
