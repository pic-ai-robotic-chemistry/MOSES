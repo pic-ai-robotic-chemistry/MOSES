{
 "cells": [
  {
   "cell_type": "code",
   "execution_count": 1,
   "metadata": {},
   "outputs": [
    {
     "name": "stderr",
     "output_type": "stream",
     "text": [
      "d:\\AnacondaEnPs\\envs\\OntologyConstruction\\Lib\\site-packages\\tqdm\\auto.py:21: TqdmWarning: IProgress not found. Please update jupyter and ipywidgets. See https://ipywidgets.readthedocs.io/en/stable/user_install.html\n",
      "  from .autonotebook import tqdm as notebook_tqdm\n"
     ]
    }
   ],
   "source": [
    "from pydantic import BaseModel, Field\n",
    "from typing import List, Tuple\n",
    "import dspy\n"
   ]
  },
  {
   "cell_type": "code",
   "execution_count": 2,
   "metadata": {},
   "outputs": [],
   "source": [
    "\n",
    "lm = dspy.LM('openai/gpt-4o', temperature=0)\n",
    "dspy.configure(lm=lm)\n",
    "teacher = dspy.LM(\"openai/gpt-4o\",temperature=1)\n"
   ]
  },
  {
   "cell_type": "code",
   "execution_count": 4,
   "metadata": {},
   "outputs": [],
   "source": [
    "\n",
    "class DataProperty(BaseModel):\n",
    "    \"\"\"Extracted data properties from text for ontology creation. These should be value-based properties, not entities.\"\"\"\n",
    "    name: str = Field(description=\"Provide a clear and concise name for the data property.\")\n",
    "    information: str = Field(description=\"Offer a complete and comprehensive sentence detailing the data property from the text.\")\n",
    "\n",
    "class Entity(BaseModel):\n",
    "    \"\"\"Extracted entities from text for ontology creation, including classes and individuals, excluding data properties.\"\"\"\n",
    "    name: str = Field(description=\"Provide a clear and concise name for the entity. Use the format [Full name]([Abbreviation]) if applicable.\")\n",
    "    information: str = Field(description=\"Offer a complete and comprehensive sentence detailing the entity from the text.\")\n",
    "\n",
    "class ObjectProperty(BaseModel):\n",
    "    \"\"\"Extracted object properties from text for ontology creation.\"\"\"\n",
    "    name: str = Field(description=\"Provide a clear and concise name for the object property. It should be separated by underscores between words.\")\n",
    "    domain: str = Field(\n",
    "        description=\"Domain entity name of the object property, it should be an existing entity in the Entity list\"\n",
    "    )\n",
    "    range: str = Field(\n",
    "        description=\"Range entity name of the object property, it should be an existing entity in the Entity list\"\n",
    "    )\n",
    "    restriction: str = Field(\n",
    "        description=\"Specify 'only' to indicate a universal restriction (owl:allValuesFrom), meaning all possible values of the property must belong to the specified range. Specify 'some' to indicate an existential restriction (owl:someValuesFrom), meaning at least one value of the property must belong to the specified range.\"\n",
    "\n",
    "    )\n",
    "    information: str = Field(\n",
    "        description=\"Offer a complete and comprehensive sentence detailing the object property from the text.\"\n",
    "    )\n",
    "\n",
    "class Ontology(BaseModel):\n",
    "    \"\"\"Graph representation of the ontology for text.\"\"\"\n",
    "\n",
    "    entities: List[Entity] = Field(\n",
    "        description=\"List of entities in the knowledge graph\"\n",
    "    )\n",
    "    data_properties: List[DataProperty] = Field(\n",
    "        description=\"List of data properties in the ontology\"\n",
    "    )\n",
    "    object_properties: List[ObjectProperty] = Field(\n",
    "        description=\"List of object properties in the ontology\"\n",
    "    )\n",
    "\n",
    "def ontology_to_string(ontology: Ontology) -> str:\n",
    "    result = []\n",
    "    \n",
    "    result.append(\"Entities:\")\n",
    "    for entity in ontology.entities:\n",
    "        result.append(f\"  - Name: {entity.name}\")\n",
    "        result.append(f\"    Information: {entity.information}\")\n",
    "    \n",
    "    result.append(\"\\nData Properties:\")\n",
    "    for prop in ontology.data_properties:\n",
    "        result.append(f\"  - Name: {prop.name}\")\n",
    "        result.append(f\"    Information: {prop.information}\")\n",
    "        \n",
    "    result.append(\"\\nObject Properties:\")\n",
    "    for prop in ontology.object_properties:\n",
    "        result.append(f\"  - Name: {prop.name}\")\n",
    "        result.append(f\"    Domain: {prop.domain}\")\n",
    "        result.append(f\"    Range: {prop.range}\")\n",
    "        result.append(f\"    Restriction: {prop.restriction}\")\n",
    "        result.append(f\"    Information: {prop.information}\")\n",
    "        \n",
    "    return \"\\n\".join(result)"
   ]
  },
  {
   "cell_type": "code",
   "execution_count": 54,
   "metadata": {},
   "outputs": [],
   "source": [
    "class ExtractOntologyElements(dspy.Signature):\n",
    "    \"\"\"Analyze the provided text from research papers in the field of chemistry to identify all chemistry-related entities, data properties, and object properties within an ontological framework.\n",
    "\n",
    "    Follow these Step-by-Step Analysis:\n",
    "\n",
    "    1. Extract Chemistry-Related Entities:\n",
    "      - Identify all significant nouns, proper nouns, and technical terminologies that represent chemistry-related concepts, such as molecules, reactions, compounds, processes, or any substantial entities.\n",
    "      - Ensure that you capture entities across different levels of detail, from broad chemical categories to specific molecular structures, to create a comprehensive representation of the subject matter.\n",
    "      - Choose names for entities that are specific enough to indicate their meaning without additional context, avoiding overly generic terms.\n",
    "      - Consolidate similar entities to avoid redundancy, ensuring each represents a distinct concept at appropriate granularity levels.\n",
    "\n",
    "    2. Identify Data Properties:\n",
    "      - Extract attributes or characteristics of the identified entities that can be classified as data properties, ensuring they are value-based and not entities themselves.\n",
    "      - Clearly define each data property, ensuring it accurately describes an attribute of an entity.\n",
    "\n",
    "    3. Establish Object Properties:\n",
    "      - Carefully examine the text to identify all relationships between entities, ensuring each relationship is correctly captured with accurate details about the interactions.\n",
    "      - Analyze the context and interactions between the identified entities to determine how they are interconnected, focusing on actions, associations, dependencies, or similarities.\n",
    "      - Clearly define the relationships, ensuring accurate directionality that reflects the logical or functional dependencies among entities.\n",
    "\n",
    "    Objective: Produce a detailed and comprehensive ontology that captures the full spectrum of chemistry-related entities, data properties, and object properties mentioned in the text, along with their interrelations, reflecting both broad concepts and intricate details specific to the chemistry domain.\n",
    "\n",
    "    \"\"\"\n",
    "\n",
    "    text: str = dspy.InputField(\n",
    "        desc=\"a paragraph of text to extract entities, data properties, and object properties to form an ontology\"\n",
    "    )\n",
    "    ontology: Ontology = dspy.OutputField(\n",
    "        desc=\"List representation of the ontology extracted from the text.\"\n",
    "    )\n",
    "\n",
    "class ChemOntology(dspy.Module):\n",
    "    def __init__(self):\n",
    "        super().__init__()\n",
    "\n",
    "        self.extractor = dspy.ChainOfThought(ExtractOntologyElements)\n",
    "    \n",
    "    def forward(self, context):\n",
    "        return self.extractor(text=context)\n"
   ]
  },
  {
   "cell_type": "code",
   "execution_count": 31,
   "metadata": {},
   "outputs": [],
   "source": [
    "import json\n",
    "import os\n",
    "\n",
    "def load_json_files(folder_path, template_str):\n",
    "    combined_data = []\n",
    "    \n",
    "    # 遍历文件夹中的所有文件\n",
    "    for filename in os.listdir(folder_path):\n",
    "        # 检查文件是否是json且名称包含模板字符串\n",
    "        if filename.endswith('.json') and template_str in filename:\n",
    "            file_path = os.path.join(folder_path, filename)\n",
    "            # 读取json文件\n",
    "            with open(file_path, 'r', encoding='utf-8') as f:\n",
    "                data = json.load(f)\n",
    "                combined_data.extend(data)\n",
    "                \n",
    "    return combined_data\n"
   ]
  },
  {
   "cell_type": "code",
   "execution_count": 35,
   "metadata": {},
   "outputs": [
    {
     "data": {
      "text/plain": [
       "6924"
      ]
     },
     "execution_count": 35,
     "metadata": {},
     "output_type": "execute_result"
    }
   ],
   "source": [
    "\n",
    "# 使用示例\n",
    "folder_path = r'./data'\n",
    "template_str = 'content_list'\n",
    "data = load_json_files(folder_path, template_str)\n",
    "len(data)\n"
   ]
  },
  {
   "cell_type": "code",
   "execution_count": 152,
   "metadata": {},
   "outputs": [],
   "source": [
    "entity_accuracy = \"\"\"Entity Accuracy Score (0-5 points):\n",
    "Award 1 point for each criterion met:\n",
    "- Entity names are specific and meaningful without being overly generic (1 point)\n",
    "- Entity definitions align with established chemical concepts (1 point) \n",
    "- Entity relationships reflect valid chemical principles (1 point)\n",
    "- Entities are properly consolidated without redundancy (1 point)\n",
    "- Entity hierarchy captures appropriate chemical classification (1 point)\"\"\"\n",
    "\n",
    "data_property_correctness = \"\"\"Data Property Correctness Score (0-5 points):\n",
    "Award 1 point for each criterion met:\n",
    "- Data properties are truly value-based attributes (1 point)\n",
    "- Each data property describes a single measurable characteristic (1 point)\n",
    "- Data property units and ranges are chemically valid (1 point)\n",
    "- Data property dependencies are accurately captured (1 point)\n",
    "- Data properties maintain consistency across the ontology (1 point)\"\"\"\n",
    "\n",
    "object_property_completeness = \"\"\"Object Property Completeness Score (0-5 points):\n",
    "Award 1 point for each criterion met:\n",
    "- Object properties capture all key chemical interactions (1 point)\n",
    "- Domain and range specifications reflect valid chemical relationships (1 point)\n",
    "- Relationship restrictions ('only'/'some') are properly applied (1 point)\n",
    "- Object property chains represent complex chemical processes (1 point)\n",
    "- Inverse relationships are correctly identified where applicable (1 point)\n",
    "\"\"\"\n",
    "\n",
    "ontology_structure = \"\"\"Ontology Structure Score (0-4 points):\n",
    "Award 1 point for each criterion met:\n",
    "- Entities span appropriate levels of chemical granularity (1 point)\n",
    "- Properties and relationships form a coherent chemical knowledge graph (1 point)\n",
    "- The ontology maintains semantic clarity independent of source text (1 point)\n",
    "- Cross-references between concepts are meaningful and accurate (1 point)\"\"\"\n",
    "\n",
    "overall_score = \"\"\"Overall Score (0-8 points):\n",
    "Each criterion is evaluated on three levels - excellent (2 points), adequate (1 point), or poor (0 points):\n",
    "\n",
    "- Extraction Accuracy (2 points):\n",
    "  * Excellent: No errors in entity and property extraction\n",
    "  * Adequate: Minor non-critical errors present \n",
    "  * Poor: Some extraction errors exist\n",
    "\n",
    "- Professional Validity (2 points):\n",
    "  * Excellent: Extractions fully align with chemical expertise\n",
    "  * Adequate: Most extractions align with chemical knowledge\n",
    "  * Poor: Some deviations from chemical principles\n",
    "\n",
    "- Comprehensiveness (2 points):\n",
    "  * Excellent: Complete extraction of all relevant information\n",
    "  * Adequate: Most key information captured\n",
    "  * Poor: Some key information missing\n",
    "\n",
    "- Knowledge Independence (2 points):\n",
    "  * Excellent: Entities and properties can be accurately understood without source text context\n",
    "  * Adequate: Most entities and properties are clear without background text\n",
    "  * Poor: Some understanding requires source text context\"\"\"\n",
    "\n",
    "class Assess(dspy.Signature):\n",
    "    \"\"\"Assess the quality of a tweet along the specified dimension.\"\"\"\n",
    "\n",
    "    assessed_text = dspy.InputField()\n",
    "    assessment_ontology = dspy.InputField()\n",
    "    assessment_criteria = dspy.InputField()\n",
    "    assessment_score: int = dspy.OutputField(\n",
    "        desc=\"Score with extreme rigor - only award full points when the ontology achieves perfect alignment with assessment criteria and would be deemed flawless by expert chemists\"\n",
    "    )\n",
    "    assessment_reason: str = dspy.OutputField(\n",
    "        desc=\"Fill this field with a space if score is the full score.\"\n",
    "    )\n",
    "\n",
    "class Assessment(dspy.Module):\n",
    "    def __init__(self):\n",
    "        super().__init__()\n",
    "        self.assessor = dspy.ChainOfThought(Assess)\n",
    "    \n",
    "    def forward(self, assessed_text, assessment_ontology, verbose=False):\n",
    "        score_list = [\n",
    "            self.assessor(assessed_text=assessed_text, assessment_ontology=ontology_to_string(assessment_ontology), assessment_criteria=criteria).assessment_score for criteria in [entity_accuracy, data_property_correctness, object_property_completeness, ontology_structure, overall_score]\n",
    "        ]\n",
    "        reason_list = [\n",
    "            self.assessor(assessed_text=assessed_text, assessment_ontology=ontology_to_string(assessment_ontology), assessment_criteria=criteria).assessment_reason for criteria in [entity_accuracy, data_property_correctness, object_property_completeness, ontology_structure, overall_score]\n",
    "        ]\n",
    "        if verbose:\n",
    "            return f\"\"\"\n",
    "Entity Accuracy Score: {int(score_list[0])}\n",
    "Data Property Correctness Score: {int(score_list[1])}\n",
    "Object Property Completeness Score: {int(score_list[2])}\n",
    "Ontology Structure Score: {int(score_list[3])}\n",
    "Overall Score: {int(score_list[4])}\n",
    "\n",
    "Total Score: {int(sum(score_list))}\n",
    "Percentage Score: {(sum(score_list)/27.0)*100:.2f}%\n",
    "\n",
    "Reason:\n",
    "entity accuracy: {reason_list[0]}\n",
    "data property correctness: {reason_list[1]}\n",
    "object property completeness: {reason_list[2]}\n",
    "ontology structure: {reason_list[3]}\n",
    "overall score: {reason_list[4]}\n",
    "\"\"\"\n",
    "        return sum(score_list)/27.0\n",
    "    \n",
    "def assessor_metric(gold, pred, trace=None):\n",
    "    standard_score = gold['score']\n",
    "    assessor_score = pred['assessment_score']\n",
    "    return standard_score == assessor_score\n",
    "\n",
    "def metric(gold, pred, trace=None, verbose=False):\n",
    "    assessment = Assessment()\n",
    "    return assessment(assessed_text=gold['context'], assessment_ontology=pred['ontology'], verbose=verbose)\n"
   ]
  },
  {
   "cell_type": "code",
   "execution_count": 116,
   "metadata": {},
   "outputs": [
    {
     "name": "stdout",
     "output_type": "stream",
     "text": [
      "总共分割出50个句子:\n",
      "\n",
      "1. ###### How electron donation and withdrawal change chemical shifts  \n",
      "We can get an idea of the effect of electron distribution by looking at a series of benzene rings\n",
      "with the same substituent in the 1 and 4 positions\n",
      "\n",
      "2. This pattern makes all four hydrogens on\n",
      "the ring identical\n",
      "\n",
      "3. Here are a few compounds listed in order of chemical shift: largest shift\n",
      "(lowest fi eld; most deshielded) fi rst\n",
      "\n",
      "4. Conjugation is shown by the usual curly arrows, and\n",
      "inductive effects by a straight arrow by the side of the group\n",
      "\n",
      "5. Only one hydrogen atom and\n",
      "one set of arrows are shown\n",
      "\n",
      "6. Conjugation, as discussed in\n",
      "Chapter 7, is felt through π bonds,\n",
      "while inductive effects are the\n",
      "result of electron withdrawal or\n",
      "donation felt simply by polarization\n",
      "of the σ bonds of the molecule\n",
      "\n",
      "7. See p\n",
      "\n",
      "8. 135\n",
      "\n",
      "9. the effect of electron-withdrawing groups\n",
      "by conjugation  \n",
      "by inductive effects  \n",
      "**H**  \n",
      "**O**  \n",
      "**O**  \n",
      "**HO**  \n",
      "**N**  \n",
      "δH 8\n",
      "\n",
      "10. 48 δH 8\n",
      "\n",
      "11. 10 **C** δH 8\n",
      "\n",
      "12. 10 δH 8\n",
      "\n",
      "13. 07 δH 7\n",
      "\n",
      "14. 78  \n",
      "**N**  \n",
      "**O**  \n",
      "**O**  \n",
      "**OH**  \n",
      "**C**  \n",
      "**N**  \n",
      "**O**  \n",
      "**H**  \n",
      "**F** **F**  \n",
      "**F**  \n",
      "The largest shifts come from groups that withdraw electrons by conjugation\n",
      "\n",
      "15. Nitro is the\n",
      "most powerful—this should not surprise you as we saw the same in non-aromatic compounds\n",
      "in both [13]C and [1]H NMR spectra\n",
      "\n",
      "16. Then come the carbonyl and nitrile group followed by groups\n",
      "showing simple inductive withdrawal\n",
      "\n",
      "17. CF3 is an important example of this kind of group—\n",
      "three fl uorine atoms combine to exert a powerful effect\n",
      "\n",
      "18. -----  \n",
      "In the middle of our sequence, around the position of benzene itself at 7\n",
      "\n",
      "19. 27 ppm, come\n",
      "the halogens, whose inductive electron withdrawal and lone pair donation are nearly\n",
      "balanced\n",
      "\n",
      "20. balance between withdrawal by inductive effect and donation of lone pairs by conjugation  \n",
      "**I** δH 7\n",
      "\n",
      "21. 40 **Br** δH 7\n",
      "\n",
      "22. 32 δH 7\n",
      "\n",
      "23. 27 **Cl** δH 7\n",
      "\n",
      "24. 24 **F** δH 7\n",
      "\n",
      "25. 00  \n",
      "**I**  \n",
      "**Br**  \n",
      "**Cl**  \n",
      "**F**  \n",
      "Alkyl groups are weak inductive donators, but the groups which give the most shielding—\n",
      "perhaps surprisingly—are those containing the electronegative atoms O and N\n",
      "\n",
      "26. Despite being\n",
      "inductively electron withdrawing (the C–O and C–N σ bonds are polarized with δ + C), on\n",
      "balance conjugation of their lone pairs with the ring (as you saw on p\n",
      "\n",
      "27. 278) makes them net\n",
      "electron donors\n",
      "\n",
      "28. They increase the shielding at the ring hydrogens\n",
      "\n",
      "29. Amino groups are the best\n",
      "\n",
      "30. Note that one nitrogen-based functional group (NO2) is the best electron withdrawer while\n",
      "another (NH2) is the best electron donor\n",
      "\n",
      "31. the effect of electron-donating groups  \n",
      "by inductive effect  \n",
      "balance between withdrawal by inductive effect and donation\n",
      "of lone pairs by conjugation—electron donation wins  \n",
      "**H**  \n",
      "δH 7\n",
      "\n",
      "32. 03  \n",
      "**H**  \n",
      "**H**  \n",
      "**CH3**  \n",
      "δH 6\n",
      "\n",
      "33. 80 **O**  \n",
      "**H** **H**  \n",
      "δH 6\n",
      "\n",
      "34. 59 **N**  \n",
      "**H**  \n",
      "δH 6\n",
      "\n",
      "35. 35  \n",
      "**H**  \n",
      "**H**  \n",
      "**CH3**  \n",
      "**O**  \n",
      "**CH3**  \n",
      "**H**  \n",
      "**H**  \n",
      "**N**  \n",
      "**O**  \n",
      "δH 7\n",
      "\n",
      "36. 27  \n",
      "**H**  \n",
      "**H**  \n",
      "δH 7\n",
      "\n",
      "37. 27  \n",
      "δH 5\n",
      "\n",
      "38. 68  \n",
      "**H**  \n",
      "**H**  \n",
      "δH 5\n",
      "\n",
      "39. 68  \n",
      "**O**  \n",
      "δH 6\n",
      "\n",
      "40. 0  \n",
      "**H**  \n",
      "**H**  \n",
      "δH 7\n",
      "\n",
      "41. 0  \n",
      "δH 4\n",
      "\n",
      "42. 65  \n",
      "**H**  \n",
      "**H**  \n",
      "δH 6\n",
      "\n",
      "43. 35  \n",
      "As far as the donors with lone pairs are concerned (the halogens plus O and N), two factors\n",
      "are important—the size of the lone pairs and the electronegativity of the element\n",
      "\n",
      "44. If we look\n",
      "at the four halides at the top of this page the lone pairs are in 2p (F), 3p (Cl), 4p (Br), and 5p (I)\n",
      "orbitals\n",
      "\n",
      "45. In all cases the orbitals on the benzene ring are 2p so the fl uorine orbital is of the\n",
      "right size to interact well and the others too large\n",
      "\n",
      "46. Even though fl uorine is the most electronegative, it is still the best donor\n",
      "\n",
      "47. The others don’t pull so much electron density away, but\n",
      "they can’t give so much back either\n",
      "\n",
      "48. If we compare the fi rst row of the p block elements—F, OH, and NH2—all have lone pairs\n",
      "in 2p orbitals so now electronegativity is the only variable\n",
      "\n",
      "49. As you would expect, the most\n",
      "electronegative element, F, is now the weakest donor\n"
     ]
    }
   ],
   "source": [
    "test_context = \"\"\"\n",
    "###### How electron donation and withdrawal change chemical shifts  \\nWe can get an idea of the effect of electron distribution by looking at a series of benzene rings\\nwith the same substituent in the 1 and 4 positions. This pattern makes all four hydrogens on\\nthe ring identical. Here are a few compounds listed in order of chemical shift: largest shift\\n(lowest fi eld; most deshielded) fi rst. Conjugation is shown by the usual curly arrows, and\\ninductive effects by a straight arrow by the side of the group. Only one hydrogen atom and\\none set of arrows are shown.  \\nConjugation, as discussed in\\nChapter 7, is felt through π bonds,\\nwhile inductive effects are the\\nresult of electron withdrawal or\\ndonation felt simply by polarization\\nof the σ bonds of the molecule.\\nSee p. 135.  \\nthe effect of electron-withdrawing groups\\nby conjugation  \\nby inductive effects  \\n**H**  \\n**O**  \\n**O**  \\n**HO**  \\n**N**  \\nδH 8.48 δH 8.10 **C** δH 8.10 δH 8.07 δH 7.78  \\n**N**  \\n**O**  \\n**O**  \\n**OH**  \\n**C**  \\n**N**  \\n**O**  \\n**H**  \\n**F** **F**  \\n**F**  \\nThe largest shifts come from groups that withdraw electrons by conjugation. Nitro is the\\nmost powerful—this should not surprise you as we saw the same in non-aromatic compounds\\nin both [13]C and [1]H NMR spectra. Then come the carbonyl and nitrile group followed by groups\\nshowing simple inductive withdrawal. CF3 is an important example of this kind of group—\\nthree fl uorine atoms combine to exert a powerful effect.  \\n-----  \\nIn the middle of our sequence, around the position of benzene itself at 7.27 ppm, come\\nthe halogens, whose inductive electron withdrawal and lone pair donation are nearly\\nbalanced.  \\nbalance between withdrawal by inductive effect and donation of lone pairs by conjugation  \\n**I** δH 7.40 **Br** δH 7.32 δH 7.27 **Cl** δH 7.24 **F** δH 7.00  \\n**I**  \\n**Br**  \\n**Cl**  \\n**F**  \\nAlkyl groups are weak inductive donators, but the groups which give the most shielding—\\nperhaps surprisingly—are those containing the electronegative atoms O and N. Despite being\\ninductively electron withdrawing (the C–O and C–N σ bonds are polarized with δ + C), on\\nbalance conjugation of their lone pairs with the ring (as you saw on p. 278) makes them net\\nelectron donors. They increase the shielding at the ring hydrogens. Amino groups are the best.\\nNote that one nitrogen-based functional group (NO2) is the best electron withdrawer while\\nanother (NH2) is the best electron donor.  \\nthe effect of electron-donating groups  \\nby inductive effect  \\nbalance between withdrawal by inductive effect and donation\\nof lone pairs by conjugation—electron donation wins  \\n**H**  \\nδH 7.03  \\n**H**  \\n**H**  \\n**CH3**  \\nδH 6.80 **O**  \\n**H** **H**  \\nδH 6.59 **N**  \\n**H**  \\nδH 6.35  \\n**H**  \\n**H**  \\n**CH3**  \\n**O**  \\n**CH3**  \\n**H**  \\n**H**  \\n**N**  \\n**O**  \\nδH 7.27  \\n**H**  \\n**H**  \\nδH 7.27  \\nδH 5.68  \\n**H**  \\n**H**  \\nδH 5.68  \\n**O**  \\nδH 6.0  \\n**H**  \\n**H**  \\nδH 7.0  \\nδH 4.65  \\n**H**  \\n**H**  \\nδH 6.35  \\nAs far as the donors with lone pairs are concerned (the halogens plus O and N), two factors\\nare important—the size of the lone pairs and the electronegativity of the element. If we look\\nat the four halides at the top of this page the lone pairs are in 2p (F), 3p (Cl), 4p (Br), and 5p (I)\\norbitals. In all cases the orbitals on the benzene ring are 2p so the fl uorine orbital is of the\\nright size to interact well and the others too large. Even though fl uorine is the most electronegative, it is still the best donor. The others don’t pull so much electron density away, but\\nthey can’t give so much back either.\\nIf we compare the fi rst row of the p block elements—F, OH, and NH2—all have lone pairs\\nin 2p orbitals so now electronegativity is the only variable. As you would expect, the most\\nelectronegative element, F, is now the weakest donor.\n",
    "\"\"\"\n",
    "\n",
    "\n",
    "\n"
   ]
  },
  {
   "cell_type": "code",
   "execution_count": 57,
   "metadata": {},
   "outputs": [
    {
     "name": "stdout",
     "output_type": "stream",
     "text": [
      "随机抽取到10个开发集文本:\n",
      "\n",
      "1. 文本长度: 435\n",
      "文本内容: The situation with magnesium chloride is similar. In magnesium chloride, found in trace quantities i...\n",
      "\n",
      "2. 文本长度: 337\n",
      "文本内容: For the elements $\\mathsf{K},\\mathsf{C}\\mathsf{I}.$ and $\\bigcirc$ in the following equations, the r...\n",
      "\n",
      "3. 文本长度: 557\n",
      "文本内容: (a) A $5.00\\;\\mathrm{{mL}}$ sample of vinegar, a small quantity of water, and a few drops of  phenol...\n",
      "\n",
      "4. 文本长度: 483\n",
      "文本内容:  Reactions involving gases as reactants or products (or both) are no strangers to us. We now have a ...\n",
      "\n",
      "5. 文本长度: 645\n",
      "文本内容: The equation $p=h/\\lambda$ also helps us understand the effect of a transfer of momen- tum in a coll...\n",
      "\n",
      "6. 文本长度: 439\n",
      "文本内容: 55. We want to determine the acetyl s ali cyclic acid content  of a series of aspirin tablets by tit...\n",
      "\n",
      "7. 文本长度: 347\n",
      "文本内容: Example 4-17 illustrates the calculation of the extent of reaction and introduces a tabular approach...\n",
      "\n",
      "8. 文本长度: 466\n",
      "文本内容:  34. Explain why these reactions cannot occur as written. (a) (b) $\\begin{array}{r}{\\mathrm{Fe^{3+}(...\n",
      "\n",
      "9. 文本长度: 673\n",
      "文本内容: Although biofuels are appealing replacements for fossil fuels, their wide.  spread adoption has seve...\n",
      "\n",
      "10. 文本长度: 697\n",
      "文本内容: $\\mathbf{CCl}_{4}$ . Carbon tetrachloride molecules are nonpolar. Based on the elec- tronegativity d...\n",
      "\n",
      "随机抽取到10个训练集文本:\n",
      "\n",
      "1. 文本长度: 1373\n",
      "文本内容: Calculate $\\Delta_{\\mathrm{r}}H$ for this reaction.\n",
      "\n",
      " 60. Use information from Chapters 8 and 9 to c...\n",
      "\n",
      "2. 文本长度: 415\n",
      "文本内容: We are given a pressure (ir $\\imath\\,\\mathrm{mmHg},$ ), a temperature $(\\mathrm{in}\\,^{\\circ}\\mathrm...\n",
      "\n",
      "3. 文本长度: 941\n",
      "文本内容: Figure 4-5 illustrates a method commonly used to prepare a solution. A solid sample is weighed out a...\n",
      "\n",
      "4. 文本长度: 411\n",
      "文本内容: This can be done with the apparatus shown in Figure 6-17. An oven and attached evacuated chamber are...\n",
      "\n",
      "5. 文本长度: 332\n",
      "文本内容: The central conversion factor in Example 4-10 is the same as in previous stoi- chiometry problems—-t...\n",
      "\n",
      "6. 文本长度: 731\n",
      "文本内容:  Recall that in Chapter 2 a mole was defined as an amount of substance having. the same number of el...\n",
      "\n",
      "7. 文本长度: 391\n",
      "文本内容: the products have a higher enthalpy than the reactants; $\\Delta_{\\mathrm{r}}H$ is positive. To  prod...\n",
      "\n",
      "8. 文本长度: 1154\n",
      "文本内容: Now consider a different way to carry out the expansion from state 1 to state 2 (see Figure 7-12). T...\n",
      "\n",
      "9. 文本长度: 981\n",
      "文本内容: $\\mathrm{HC_{9}H_{7}O_{4}(a q)\\,+\\ O H^{-}(a q)\\longrightarrow}$ 56. For use in titrations, we want ...\n",
      "\n",
      "10. 文本长度: 303\n",
      "文本内容: · Two moles of $\\mathrm{H}_{2}\\mathrm{O}$ are produced for every two moles of $\\mathrm{H}_{2}$ consu...\n"
     ]
    }
   ],
   "source": [
    "import random\n",
    "\n",
    "# 设置开发集和训练集的大小\n",
    "dev_size = 10\n",
    "train_size = 10\n",
    "chunk_size = 300\n",
    "max_attempts = 5000\n",
    "\n",
    "# 创建两个列表分别存储开发集和训练集数据\n",
    "dev_data = []\n",
    "train_data = []\n",
    "used_texts = set()  # 用于检查重复\n",
    "\n",
    "attempts = 0\n",
    "\n",
    "# 先采样开发集\n",
    "while len(dev_data) < dev_size and attempts < max_attempts:\n",
    "    item = random.choice(data)\n",
    "    if item.get('type') == 'text':\n",
    "        text = item['text']\n",
    "        if len(text) > chunk_size and text not in used_texts:\n",
    "            dev_data.append(item)\n",
    "            used_texts.add(text)\n",
    "    attempts += 1\n",
    "\n",
    "# 再采样训练集\n",
    "while len(train_data) < train_size and attempts < max_attempts:\n",
    "    item = random.choice(data)\n",
    "    if item.get('type') == 'text':\n",
    "        text = item['text']\n",
    "        if len(text) > chunk_size and text not in used_texts:\n",
    "            train_data.append(item)\n",
    "            used_texts.add(text)\n",
    "    attempts += 1\n",
    "\n",
    "print(f\"随机抽取到{len(dev_data)}个开发集文本:\")\n",
    "for i, item in enumerate(dev_data, 1):\n",
    "    print(f\"\\n{i}. 文本长度: {len(item['text'])}\")\n",
    "    print(f\"文本内容: {item['text'][:100]}...\")\n",
    "\n",
    "print(f\"\\n随机抽取到{len(train_data)}个训练集文本:\")\n",
    "for i, item in enumerate(train_data, 1):\n",
    "    print(f\"\\n{i}. 文本长度: {len(item['text'])}\")\n",
    "    print(f\"文本内容: {item['text'][:100]}...\")\n",
    "\n"
   ]
  },
  {
   "cell_type": "code",
   "execution_count": 64,
   "metadata": {},
   "outputs": [],
   "source": [
    "extractor = ChemOntology()\n",
    "extractors = [extractor.load(location) for location in ['v1', 'v2', 'medium_100trainset_v1']]\n"
   ]
  },
  {
   "cell_type": "code",
   "execution_count": 100,
   "metadata": {},
   "outputs": [],
   "source": [
    "temp = ChemOntology()\n",
    "temp1 = ChemOntology()\n",
    "temp2 = ChemOntology()\n",
    "\n",
    "temp.load('v1.json')\n",
    "temp1.load('v2')\n",
    "temp2.load('medium_100trainset_v1')\n",
    "\n",
    "extractors = []\n",
    "\n",
    "extractors.append(temp)\n",
    "extractors.append(temp1)\n",
    "extractors.append(temp2)"
   ]
  },
  {
   "cell_type": "code",
   "execution_count": 101,
   "metadata": {},
   "outputs": [
    {
     "data": {
      "text/plain": [
       "[extractor = Predict(StringSignature(text -> reasoning, ontology\n",
       "     instructions='Analyze the provided text from research papers in the field of chemistry to identify all chemistry-related entities, data properties, and object properties within an ontological framework.\\n\\nFollow these Step-by-Step Analysis:\\n\\n1. Extract Chemistry-Related Entities:\\n  - Identify all significant nouns, proper nouns, and technical terminologies that represent chemistry-related concepts, such as molecules, reactions, compounds, processes, or any substantial entities.\\n  - Ensure that you capture entities across different levels of detail, from broad chemical categories to specific molecular structures, to create a comprehensive representation of the subject matter.\\n  - Choose names for entities that are specific enough to indicate their meaning without additional context, avoiding overly generic terms.\\n  - Consolidate similar entities to avoid redundancy, ensuring each represents a distinct concept at appropriate granularity levels.\\n\\n2. Identify Data Properties:\\n  - Extract attributes or characteristics of the identified entities that can be classified as data properties, ensuring they are value-based and not entities themselves.\\n  - Clearly define each data property, ensuring it accurately describes an attribute of an entity.\\n\\n3. Establish Object Properties:\\n  - Carefully examine the text to identify all relationships between entities, ensuring each relationship is correctly captured with accurate details about the interactions.\\n  - Analyze the context and interactions between the identified entities to determine how they are interconnected, focusing on actions, associations, dependencies, or similarities.\\n  - Clearly define the relationships, ensuring accurate directionality that reflects the logical or functional dependencies among entities.\\n\\nObjective: Produce a detailed and comprehensive ontology that captures the full spectrum of chemistry-related entities, data properties, and object properties mentioned in the text, along with their interrelations, reflecting both broad concepts and intricate details specific to the chemistry domain.'\n",
       "     text = Field(annotation=str required=True json_schema_extra={'desc': 'a paragraph of text to extract entities, data properties, and object properties to form an ontology', '__dspy_field_type': 'input', 'prefix': 'Text:'})\n",
       "     reasoning = Field(annotation=str required=True json_schema_extra={'prefix': \"Reasoning: Let's think step by step in order to\", 'desc': '${reasoning}', '__dspy_field_type': 'output'})\n",
       "     ontology = Field(annotation=Ontology required=True json_schema_extra={'desc': 'List representation of the ontology extracted from the text.', '__dspy_field_type': 'output', 'prefix': 'Ontology:'})\n",
       " )),\n",
       " extractor = Predict(StringSignature(text -> reasoning, ontology\n",
       "     instructions='Analyze the provided text from research papers in the field of chemistry to identify all chemistry-related entities, data properties, and object properties within an ontological framework.\\n\\nFollow these Step-by-Step Analysis:\\n\\n1. Extract Chemistry-Related Entities:\\n  - Identify all significant nouns, proper nouns, and technical terminologies that represent chemistry-related concepts, such as molecules, reactions, compounds, processes, or any substantial entities.\\n  - Ensure that you capture entities across different levels of detail, from broad chemical categories to specific molecular structures, to create a comprehensive representation of the subject matter.\\n  - Choose names for entities that are specific enough to indicate their meaning without additional context, avoiding overly generic terms.\\n  - Consolidate similar entities to avoid redundancy, ensuring each represents a distinct concept at appropriate granularity levels.\\n\\n2. Identify Data Properties:\\n  - Extract attributes or characteristics of the identified entities that can be classified as data properties, ensuring they are value-based and not entities themselves.\\n  - Clearly define each data property, ensuring it accurately describes an attribute of an entity.\\n\\n3. Establish Object Properties:\\n  - Carefully examine the text to identify all relationships between entities, ensuring each relationship is correctly captured with accurate details about the interactions.\\n  - Analyze the context and interactions between the identified entities to determine how they are interconnected, focusing on actions, associations, dependencies, or similarities.\\n  - Clearly define the relationships, ensuring accurate directionality that reflects the logical or functional dependencies among entities.\\n\\nObjective: Produce a detailed and comprehensive ontology that captures the full spectrum of chemistry-related entities, data properties, and object properties mentioned in the text, along with their interrelations, reflecting both broad concepts and intricate details specific to the chemistry domain.'\n",
       "     text = Field(annotation=str required=True json_schema_extra={'desc': 'a paragraph of text to extract entities, data properties, and object properties to form an ontology', '__dspy_field_type': 'input', 'prefix': 'Text:'})\n",
       "     reasoning = Field(annotation=str required=True json_schema_extra={'prefix': \"Reasoning: Let's think step by step in order to\", 'desc': '${reasoning}', '__dspy_field_type': 'output'})\n",
       "     ontology = Field(annotation=Ontology required=True json_schema_extra={'desc': 'List representation of the ontology extracted from the text.', '__dspy_field_type': 'output', 'prefix': 'Ontology:'})\n",
       " )),\n",
       " extractor = Predict(StringSignature(text -> reasoning, ontology\n",
       "     instructions='Analyze the provided text from research papers in the field of chemistry to identify all chemistry-related entities, data properties, and object properties within an ontological framework.\\n\\nFollow these Step-by-Step Analysis:\\n\\n1. Extract Chemistry-Related Entities:\\n  - Identify all significant nouns, proper nouns, and technical terminologies that represent chemistry-related concepts, such as molecules, reactions, compounds, processes, or any substantial entities.\\n  - Ensure that you capture entities across different levels of detail, from broad chemical categories to specific molecular structures, to create a comprehensive representation of the subject matter.\\n  - Choose names for entities that are specific enough to indicate their meaning without additional context, avoiding overly generic terms.\\n  - Consolidate similar entities to avoid redundancy, ensuring each represents a distinct concept at appropriate granularity levels.\\n\\n2. Identify Data Properties:\\n  - Extract attributes or characteristics of the identified entities that can be classified as data properties, ensuring they are value-based and not entities themselves.\\n  - Clearly define each data property, ensuring it accurately describes an attribute of an entity.\\n\\n3. Establish Object Properties:\\n  - Carefully examine the text to identify all relationships between entities, ensuring each relationship is correctly captured with accurate details about the interactions.\\n  - Analyze the context and interactions between the identified entities to determine how they are interconnected, focusing on actions, associations, dependencies, or similarities.\\n  - Clearly define the relationships, ensuring accurate directionality that reflects the logical or functional dependencies among entities.\\n\\nObjective: Produce a detailed and comprehensive ontology that captures the full spectrum of chemistry-related entities, data properties, and object properties mentioned in the text, along with their interrelations, reflecting both broad concepts and intricate details specific to the chemistry domain.'\n",
       "     text = Field(annotation=str required=True json_schema_extra={'desc': 'a paragraph of text to extract entities, data properties, and object properties to form an ontology', '__dspy_field_type': 'input', 'prefix': 'Text:'})\n",
       "     reasoning = Field(annotation=str required=True json_schema_extra={'prefix': \"Reasoning: Let's think step by step in order to\", 'desc': '${reasoning}', '__dspy_field_type': 'output'})\n",
       "     ontology = Field(annotation=Ontology required=True json_schema_extra={'desc': 'List representation of the ontology extracted from the text.', '__dspy_field_type': 'output', 'prefix': 'Ontology:'})\n",
       " ))]"
      ]
     },
     "execution_count": 101,
     "metadata": {},
     "output_type": "execute_result"
    }
   ],
   "source": [
    "extractors"
   ]
  },
  {
   "cell_type": "code",
   "execution_count": 104,
   "metadata": {},
   "outputs": [
    {
     "name": "stdout",
     "output_type": "stream",
     "text": [
      "生成了10个开发集样本\n"
     ]
    }
   ],
   "source": [
    "# 创建devset\n",
    "devset = []\n",
    "\n",
    "for sample in dev_data:\n",
    "    context = sample['text']\n",
    "    ontology = random.choice(extractors)(context)\n",
    "    score = 0\n",
    "\n",
    "    # 添加到devset\n",
    "    devset.append(dspy.Example(\n",
    "        context=context,\n",
    "        ontology=ontology,\n",
    "        score=score\n",
    "    ).with_inputs(\"context\", \"ontology\"))\n",
    "\n",
    "print(f\"生成了{len(devset)}个开发集样本\")\n"
   ]
  },
  {
   "cell_type": "code",
   "execution_count": 109,
   "metadata": {},
   "outputs": [
    {
     "name": "stdout",
     "output_type": "stream",
     "text": [
      "生成了一个样本\n",
      "生成了一个样本\n",
      "生成了一个样本\n",
      "生成了一个样本\n",
      "生成了一个样本\n",
      "生成了一个样本\n"
     ]
    },
    {
     "name": "stderr",
     "output_type": "stream",
     "text": [
      "<unknown>:27: SyntaxWarning: invalid escape sequence '\\D'\n"
     ]
    },
    {
     "name": "stdout",
     "output_type": "stream",
     "text": [
      "生成了一个样本\n",
      "生成了一个样本\n",
      "生成了一个样本\n",
      "生成了一个样本\n",
      "生成了10个训练集样本\n"
     ]
    }
   ],
   "source": [
    "# 创建trainset\n",
    "trainset = []\n",
    "\n",
    "for sample in train_data:\n",
    "    context = sample['text']\n",
    "    ontology = random.choice(extractors)(context)\n",
    "    score = 0\n",
    "    \n",
    "    # 添加到trainset\n",
    "    trainset.append(dspy.Example(\n",
    "        context=context,\n",
    "        ontology=ontology,\n",
    "        score=score\n",
    "    ).with_inputs(\"context\", \"ontology\"))\n",
    "    print(\"生成了一个样本\")\n",
    "\n",
    "print(f\"生成了{len(trainset)}个训练集样本\")\n"
   ]
  },
  {
   "cell_type": "code",
   "execution_count": 113,
   "metadata": {},
   "outputs": [],
   "source": [
    "# 将trainset和devset保存为json格式\n",
    "import json\n",
    "\n",
    "# 将数据集转换为可序列化的格式\n",
    "def convert_to_serializable(dataset):\n",
    "    serializable_data = []\n",
    "    for example in dataset:\n",
    "        serializable_data.append({\n",
    "            'context': example.context,\n",
    "            'ontology': ontology_to_string(example.ontology.ontology),\n",
    "            'score': example.score\n",
    "        })\n",
    "    return serializable_data\n"
   ]
  },
  {
   "cell_type": "code",
   "execution_count": 114,
   "metadata": {},
   "outputs": [
    {
     "name": "stdout",
     "output_type": "stream",
     "text": [
      "数据集已保存为JSON格式到data目录\n"
     ]
    }
   ],
   "source": [
    "\n",
    "# 保存trainset\n",
    "with open('data/trainset.json', 'w', encoding='utf-8') as f:\n",
    "    json.dump(convert_to_serializable(trainset), f, ensure_ascii=False, indent=2)\n",
    "\n",
    "# 保存devset\n",
    "with open('data/devset.json', 'w', encoding='utf-8') as f:\n",
    "    json.dump(convert_to_serializable(devset), f, ensure_ascii=False, indent=2)\n",
    "\n",
    "print(\"数据集已保存为JSON格式到data目录\")\n"
   ]
  },
  {
   "cell_type": "code",
   "execution_count": null,
   "metadata": {},
   "outputs": [],
   "source": [
    "\n",
    "# 从JSON文件读取数据集\n",
    "def load_datasets_from_json():\n",
    "    # 读取trainset\n",
    "    with open('data/trainset.json', 'r', encoding='utf-8') as f:\n",
    "        trainset_data = json.load(f)\n",
    "    \n",
    "    # 读取devset  \n",
    "    with open('data/devset.json', 'r', encoding='utf-8') as f:\n",
    "        devset_data = json.load(f)\n",
    "        \n",
    "    # 转换回dspy.Example格式\n",
    "    trainset = []\n",
    "    devset = []\n",
    "    \n",
    "    for item in trainset_data:\n",
    "        example = dspy.Example(\n",
    "            context=item['context'],\n",
    "            ontology=Ontology(item['ontology']),\n",
    "            score=item['score']\n",
    "        ).with_inputs(\"context\", \"ontology\")\n",
    "        trainset.append(example)\n",
    "        \n",
    "    for item in devset_data:\n",
    "        example = dspy.Example(\n",
    "            context=item['context'], \n",
    "            ontology=Ontology(item['ontology']),\n",
    "            score=item['score']\n",
    "        ).with_inputs(\"context\", \"ontology\")\n",
    "        devset.append(example)\n",
    "        \n",
    "    return trainset, devset\n",
    "\n",
    "# 加载数据集\n",
    "trainset, devset = load_datasets_from_json()\n",
    "print(\"已从JSON文件加载数据集\")\n"
   ]
  },
  {
   "cell_type": "code",
   "execution_count": 107,
   "metadata": {},
   "outputs": [
    {
     "name": "stdout",
     "output_type": "stream",
     "text": [
      "Example({'context': 'The situation with magnesium chloride is similar. In magnesium chloride, found in trace quantities in table salt, magnesium atoms lose two electrons to become magnesium ions, $\\\\mathrm{Mg}^{2+}$ $\\\\mathrm{Mg}$ is in group 2). To obtain an electrically neutral formula unit, there must be two $\\\\mathrm{Cl}^{-}$ ions, each with a charge of $^{-1}$ for every $\\\\mathrm{Mg}^{2+}$ ion. The formula of magnesium chloride is $\\\\mathrm{MgCl}_{2}$ ', 'ontology': Prediction(\n",
      "    reasoning='The text describes the chemical compound magnesium chloride, focusing on its composition and the ionic charges involved. The key entities include magnesium chloride, magnesium ions, and chloride ions. The data properties involve the charges of these ions and the formula of magnesium chloride. The object properties describe the relationship between magnesium ions and chloride ions in forming the compound.\\n\\n1. **Entities**: \\n   - Magnesium Chloride (MgCl2) is the compound being discussed.\\n   - Magnesium Ion (Mg2+) is the ion formed when magnesium atoms lose two electrons.\\n   - Chloride Ion (Cl-) is the ion that pairs with magnesium ions to form magnesium chloride.\\n\\n2. **Data Properties**:\\n   - The charge of the magnesium ion is +2.\\n   - The charge of the chloride ion is -1.\\n   - The formula of magnesium chloride is MgCl2.\\n\\n3. **Object Properties**:\\n   - The relationship between magnesium ions and chloride ions is that two chloride ions are required for every magnesium ion to form magnesium chloride, ensuring electrical neutrality.',\n",
      "    ontology=Ontology(entities=[Entity(name='Magnesium Chloride(MgCl2)', information='Magnesium chloride is a compound found in trace quantities in table salt, with the formula MgCl2.'), Entity(name='Magnesium Ion(Mg2+)', information='Magnesium ions are formed when magnesium atoms lose two electrons, resulting in a charge of +2.'), Entity(name='Chloride Ion(Cl-)', information='Chloride ions have a charge of -1 and pair with magnesium ions to form magnesium chloride.')], data_properties=[DataProperty(name='charge_of_magnesium_ion', information='The charge of the magnesium ion is +2.'), DataProperty(name='charge_of_chloride_ion', information='The charge of the chloride ion is -1.'), DataProperty(name='formula_of_magnesium_chloride', information='The formula of magnesium chloride is MgCl2.')], object_properties=[ObjectProperty(name='requires_for_neutrality', domain='Magnesium Ion(Mg2+)', range='Chloride Ion(Cl-)', restriction='some', information='To obtain an electrically neutral formula unit, there must be two Cl- ions for every Mg2+ ion.')])\n",
      "), 'score': 0}) (input_keys={'context', 'ontology'})\n"
     ]
    }
   ],
   "source": [
    "print(devset[0])"
   ]
  },
  {
   "cell_type": "code",
   "execution_count": 108,
   "metadata": {},
   "outputs": [
    {
     "name": "stdout",
     "output_type": "stream",
     "text": [
      "Context:\n",
      "The situation with magnesium chloride is similar. In magnesium chloride, found in trace quantities in table salt, magnesium atoms lose two electrons to become magnesium ions, $\\mathrm{Mg}^{2+}$ $\\mathrm{Mg}$ is in group 2). To obtain an electrically neutral formula unit, there must be two $\\mathrm{Cl}^{-}$ ions, each with a charge of $^{-1}$ for every $\\mathrm{Mg}^{2+}$ ion. The formula of magnesium chloride is $\\mathrm{MgCl}_{2}$ \n",
      "\n",
      "Ontology:\n",
      "Entities:\n",
      "  - Name: Magnesium Chloride(MgCl2)\n",
      "    Information: Magnesium chloride is a compound found in trace quantities in table salt, with the formula MgCl2.\n",
      "  - Name: Magnesium Ion(Mg2+)\n",
      "    Information: Magnesium ions are formed when magnesium atoms lose two electrons, resulting in a charge of +2.\n",
      "  - Name: Chloride Ion(Cl-)\n",
      "    Information: Chloride ions have a charge of -1 and pair with magnesium ions to form magnesium chloride.\n",
      "\n",
      "Data Properties:\n",
      "  - Name: charge_of_magnesium_ion\n",
      "    Information: The charge of the magnesium ion is +2.\n",
      "  - Name: charge_of_chloride_ion\n",
      "    Information: The charge of the chloride ion is -1.\n",
      "  - Name: formula_of_magnesium_chloride\n",
      "    Information: The formula of magnesium chloride is MgCl2.\n",
      "\n",
      "Object Properties:\n",
      "  - Name: requires_for_neutrality\n",
      "    Domain: Magnesium Ion(Mg2+)\n",
      "    Range: Chloride Ion(Cl-)\n",
      "    Restriction: some\n",
      "    Information: To obtain an electrically neutral formula unit, there must be two Cl- ions for every Mg2+ ion.\n",
      "\n",
      "--------------------------------------------------\n",
      "\n",
      "Context:\n",
      "For the elements $\\mathsf{K},\\mathsf{C}\\mathsf{I}.$ and $\\bigcirc$ in the following equations, the requirement that the number of atoms be equal on either side of the equation is met. Why is  none of them an acceptable balanced equation for the decomposition of solid potassium chlorate yielding solid potassium chloride and oxygen gas? \n",
      "\n",
      "Ontology:\n",
      "Entities:\n",
      "  - Name: PotassiumChlorate(KClO3)\n",
      "    Information: Potassium chlorate is a compound that decomposes into potassium chloride and oxygen gas.\n",
      "  - Name: PotassiumChloride(KCl)\n",
      "    Information: Potassium chloride is a solid product formed from the decomposition of potassium chlorate.\n",
      "  - Name: Oxygen(O2)\n",
      "    Information: Oxygen is a gas produced from the decomposition of potassium chlorate.\n",
      "\n",
      "Data Properties:\n",
      "  - Name: state\n",
      "    Information: The physical state of potassium chlorate is solid.\n",
      "  - Name: state\n",
      "    Information: The physical state of potassium chloride is solid.\n",
      "  - Name: state\n",
      "    Information: The physical state of oxygen is gas.\n",
      "\n",
      "Object Properties:\n",
      "  - Name: decomposes_into\n",
      "    Domain: PotassiumChlorate(KClO3)\n",
      "    Range: PotassiumChloride(KCl)\n",
      "    Restriction: some\n",
      "    Information: Potassium chlorate decomposes into potassium chloride and oxygen gas.\n",
      "  - Name: produces\n",
      "    Domain: PotassiumChlorate(KClO3)\n",
      "    Range: Oxygen(O2)\n",
      "    Restriction: some\n",
      "    Information: Potassium chlorate produces oxygen gas upon decomposition.\n",
      "\n",
      "--------------------------------------------------\n",
      "\n",
      "Context:\n",
      "(a) A $5.00\\;\\mathrm{{mL}}$ sample of vinegar, a small quantity of water, and a few drops of  phenolphthalein indicator are added to a flask. (b) 0.1000 M NaOH from a previously. filled buret is slowly added. (c) As long as the acid is in excess, the solution in the flask remains colorless. When the acid has been neutralized, an additional drop of NaOH(aq) causes the solution to become slightly basic. The phenolphthalein indicator turns a light pink. The first lasting appearance of the pink color is taken to be the equivalence point of the titration. \n",
      "\n",
      "Ontology:\n",
      "Entities:\n",
      "  - Name: Vinegar\n",
      "    Information: Vinegar is a solution containing acetic acid, used as the analyte in the titration.\n",
      "  - Name: Water\n",
      "    Information: Water is a solvent added to the vinegar.\n",
      "  - Name: Phenolphthalein Indicator\n",
      "    Information: Phenolphthalein Indicator is a chemical that changes color at a certain pH, used to indicate the equivalence point.\n",
      "  - Name: NaOH\n",
      "    Information: NaOH is a strong base used as the titrant in the titration.\n",
      "  - Name: Equivalence Point\n",
      "    Information: The Equivalence Point is the point in the titration where the amount of titrant added is stoichiometrically equivalent to the amount of analyte in the sample.\n",
      "\n",
      "Data Properties:\n",
      "  - Name: Volume_of_Vinegar\n",
      "    Information: The volume of the vinegar sample is 5.00 mL.\n",
      "  - Name: Concentration_of_NaOH\n",
      "    Information: The concentration of NaOH used in the titration is 0.1000 M.\n",
      "\n",
      "Object Properties:\n",
      "  - Name: neutralizes\n",
      "    Domain: NaOH\n",
      "    Range: Vinegar\n",
      "    Restriction: some\n",
      "    Information: NaOH neutralizes the acetic acid in vinegar during the titration.\n",
      "  - Name: indicates\n",
      "    Domain: Phenolphthalein Indicator\n",
      "    Range: Equivalence Point\n",
      "    Restriction: some\n",
      "    Information: The phenolphthalein indicator shows the equivalence point by changing color.\n",
      "\n",
      "--------------------------------------------------\n",
      "\n",
      "Context:\n",
      " Reactions involving gases as reactants or products (or both) are no strangers to us. We now have a new tool to apply to reaction stoichiometry calculations: the ideal gas equation. Specifically, we can now handle information about gases in terms of volumes, temperatures, and pressures, as well as by mass and amount in moles. A practical application is the nitrogen-forming reaction in an automobile air-bag safety system, which utilizes the rapid decomposi- tion of sodium azide. \n",
      "\n",
      "Ontology:\n",
      "Entities:\n",
      "  - Name: Gas\n",
      "    Information: Gases are substances that can be reactants or products in chemical reactions, and their properties can be described in terms of volume, temperature, and pressure.\n",
      "  - Name: Ideal Gas Equation\n",
      "    Information: The ideal gas equation is a tool used in reaction stoichiometry calculations to handle information about gases.\n",
      "  - Name: Nitrogen\n",
      "    Information: Nitrogen is a gas that is formed in the nitrogen-forming reaction in an automobile air-bag safety system.\n",
      "  - Name: Automobile Air-Bag Safety System\n",
      "    Information: An automobile air-bag safety system utilizes the rapid decomposition of sodium azide to form nitrogen.\n",
      "  - Name: Sodium Azide\n",
      "    Information: Sodium azide is a compound that rapidly decomposes to form nitrogen in an automobile air-bag safety system.\n",
      "\n",
      "Data Properties:\n",
      "  - Name: volume\n",
      "    Information: Volume is a property of gases that can be used in stoichiometry calculations with the ideal gas equation.\n",
      "  - Name: temperature\n",
      "    Information: Temperature is a property of gases that can be used in stoichiometry calculations with the ideal gas equation.\n",
      "  - Name: pressure\n",
      "    Information: Pressure is a property of gases that can be used in stoichiometry calculations with the ideal gas equation.\n",
      "  - Name: mass\n",
      "    Information: Mass is a property of gases that can be used in stoichiometry calculations with the ideal gas equation.\n",
      "  - Name: amount_in_moles\n",
      "    Information: Amount in moles is a property of gases that can be used in stoichiometry calculations with the ideal gas equation.\n",
      "\n",
      "Object Properties:\n",
      "  - Name: decomposes_to\n",
      "    Domain: Sodium Azide\n",
      "    Range: Nitrogen\n",
      "    Restriction: some\n",
      "    Information: Sodium azide decomposes to form nitrogen in an automobile air-bag safety system.\n",
      "  - Name: utilizes\n",
      "    Domain: Automobile Air-Bag Safety System\n",
      "    Range: Sodium Azide\n",
      "    Restriction: some\n",
      "    Information: An automobile air-bag safety system utilizes sodium azide for the rapid decomposition to form nitrogen.\n",
      "\n",
      "--------------------------------------------------\n",
      "\n",
      "Context:\n",
      "The equation $p=h/\\lambda$ also helps us understand the effect of a transfer of momen- tum in a collision of a photon with another particle, such as an electron. If a photon transfers some of its momentum to another particle, then the momentum, $p,$ Of the photon decreases and, as a consequence, its wavelength, $\\lambda,$  increases. The change in wavelength that occurs when light is scattered by electrons in atoms in a crystal (the Compton effect) was first observed in 1923. The Compton effect provides additional confirmation that light consists of particle-like entities that can transfer momentum to other particles through collisions. \n",
      "\n",
      "Ontology:\n",
      "Entities:\n",
      "  - Name: Photon\n",
      "    Information: A photon is a particle-like entity of light that can transfer momentum to other particles through collisions.\n",
      "  - Name: Electron\n",
      "    Information: An electron is a subatomic particle that can interact with photons, resulting in a change in the photon's momentum and wavelength.\n",
      "  - Name: Momentum\n",
      "    Information: Momentum is a property of a photon that can be transferred to another particle, such as an electron, during a collision.\n",
      "  - Name: Wavelength\n",
      "    Information: Wavelength is a property of a photon that increases when its momentum decreases after a collision.\n",
      "  - Name: Compton Effect\n",
      "    Information: The Compton effect is a phenomenon where light is scattered by electrons in atoms in a crystal, resulting in a change in wavelength.\n",
      "\n",
      "Data Properties:\n",
      "  - Name: momentum_wavelength_relationship\n",
      "    Information: The equation $p=h/\\lambda$ describes the relationship between the momentum and wavelength of a photon.\n",
      "\n",
      "Object Properties:\n",
      "  - Name: transfers_momentum_to\n",
      "    Domain: Photon\n",
      "    Range: Electron\n",
      "    Restriction: some\n",
      "    Information: A photon transfers some of its momentum to an electron during a collision.\n",
      "  - Name: results_in_wavelength_increase\n",
      "    Domain: Photon\n",
      "    Range: Wavelength\n",
      "    Restriction: some\n",
      "    Information: When a photon transfers momentum to another particle, its wavelength increases.\n",
      "  - Name: is_confirmed_by\n",
      "    Domain: Compton Effect\n",
      "    Range: Photon\n",
      "    Restriction: only\n",
      "    Information: The Compton effect provides confirmation that light consists of particle-like entities, such as photons.\n",
      "\n",
      "--------------------------------------------------\n",
      "\n",
      "Context:\n",
      "55. We want to determine the acetyl s ali cyclic acid content  of a series of aspirin tablets by titration with NaOH(aq). Each of the tablets is expected to contain about $0.32\\,\\mathrm{g}$ of $\\mathrm{HC_{9}H_{7}O_{4}}$  What molarity of NaOH(aq) should we use for titration volumes of about $23~\\mathrm{mL}?$ (This procedure ensures good precision and allows the titration of two samples with the contents of a $50\\,\\mathrm{mL}$ buret.) \n",
      "\n",
      "Ontology:\n",
      "Entities:\n",
      "  - Name: Acetylsalicylic Acid(ASA)\n",
      "    Information: Acetylsalicylic Acid (ASA) is the compound being analyzed in the aspirin tablets.\n",
      "  - Name: Aspirin Tablet\n",
      "    Information: Aspirin Tablet is the sample containing Acetylsalicylic Acid (ASA) for analysis.\n",
      "  - Name: Sodium Hydroxide(NaOH)\n",
      "    Information: Sodium Hydroxide (NaOH) is the titrant used in the titration procedure.\n",
      "\n",
      "Data Properties:\n",
      "  - Name: ASA_Content\n",
      "    Information: Each aspirin tablet is expected to contain about 0.32 g of Acetylsalicylic Acid (ASA).\n",
      "  - Name: Titration_Volume\n",
      "    Information: The titration is performed with a volume of about 23 mL of NaOH solution.\n",
      "\n",
      "Object Properties:\n",
      "  - Name: contains\n",
      "    Domain: Aspirin Tablet\n",
      "    Range: Acetylsalicylic Acid(ASA)\n",
      "    Restriction: some\n",
      "    Information: The aspirin tablet contains Acetylsalicylic Acid (ASA).\n",
      "  - Name: used_for\n",
      "    Domain: Sodium Hydroxide(NaOH)\n",
      "    Range: Acetylsalicylic Acid(ASA)\n",
      "    Restriction: some\n",
      "    Information: Sodium Hydroxide (NaOH) is used for the titration of Acetylsalicylic Acid (ASA).\n",
      "\n",
      "--------------------------------------------------\n",
      "\n",
      "Context:\n",
      "Example 4-17 illustrates the calculation of the extent of reaction and introduces a tabular approach for summarizing the changes in amounts of reactants and prod- ucts. This tabular approach will be particularly useful in later chapters (for exam- ple, in Chapters 15 to 18), when our primary focus is on reactions that occur to a limited extent. \n",
      "\n",
      "Ontology:\n",
      "Entities:\n",
      "  - Name: Extent of Reaction\n",
      "    Information: The extent of reaction is a measure of the progress of a chemical reaction, indicating the amount of reactants converted to products.\n",
      "  - Name: Tabular Approach\n",
      "    Information: The tabular approach is a method used to summarize the changes in amounts of reactants and products during a chemical reaction.\n",
      "  - Name: Reactants\n",
      "    Information: Reactants are the starting substances in a chemical reaction that are consumed to form products.\n",
      "  - Name: Products\n",
      "    Information: Products are the substances formed as a result of a chemical reaction.\n",
      "  - Name: Chemical Reaction\n",
      "    Information: A chemical reaction is a process that leads to the transformation of one set of chemical substances to another.\n",
      "\n",
      "Data Properties:\n",
      "  - Name: calculation\n",
      "    Information: The extent of reaction involves a calculation to determine the progress of the reaction.\n",
      "  - Name: summarization\n",
      "    Information: The tabular approach involves summarization of changes in reactants and products.\n",
      "\n",
      "Object Properties:\n",
      "  - Name: applies_to\n",
      "    Domain: Tabular Approach\n",
      "    Range: Chemical Reaction\n",
      "    Restriction: some\n",
      "    Information: The tabular approach applies to chemical reactions to summarize changes in reactants and products.\n",
      "  - Name: involves\n",
      "    Domain: Extent of Reaction\n",
      "    Range: Reactants\n",
      "    Restriction: some\n",
      "    Information: The extent of reaction involves the conversion of reactants.\n",
      "  - Name: results_in\n",
      "    Domain: Extent of Reaction\n",
      "    Range: Products\n",
      "    Restriction: some\n",
      "    Information: The extent of reaction results in the formation of products.\n",
      "\n",
      "--------------------------------------------------\n",
      "\n",
      "Context:\n",
      " 34. Explain why these reactions cannot occur as written. (a) (b) $\\begin{array}{r}{\\mathrm{Fe^{3+}(a\\dot{q})\\,+\\,M n O_{4}^{\\,-}(a q)\\,+\\,H^{+}(a q)\\,\\longrightarrow}}\\\\ {\\mathrm{Mn^{2+}(a q)\\,+\\,F e^{2+}(a q)\\,+\\,H_{2}O(l)}}\\\\ {\\mathrm{H_{2}O_{2}(a q)\\,+\\,C l_{2}(a q)\\,\\longrightarrow}}\\\\ {\\mathrm{..\\qquad\\qquad\\,\\,\\,\\,\\,\\,\\,\\,\\,\\,\\,\\,\\,\\,\\,\\,\\,\\,\\,\\,\\,\\,\\,\\,\\,\\,\\,\\,\\,\\,\\,\\,\\,\\,\\,\\,\\,\\,\\,\\,\\,\\,\\,\\,\\,\\,\\,\\,\\,\\,\\,\\,\\,\\,\\,\\,\\,\\,\\,\\,\\,\\,\\,\\,\\,\\,\\,\\,}}\\end{array}$ \n",
      "\n",
      "Ontology:\n",
      "Entities:\n",
      "  - Name: Iron(III) ion (Fe³⁺)\n",
      "    Information: Iron(III) ion, denoted as Fe³⁺, is a chemical species involved in the reaction.\n",
      "  - Name: Permanganate ion (MnO₄⁻)\n",
      "    Information: Permanganate ion, denoted as MnO₄⁻, is a chemical species involved in the reaction.\n",
      "  - Name: Hydrogen ion (H⁺)\n",
      "    Information: Hydrogen ion, denoted as H⁺, is a chemical species involved in the reaction.\n",
      "  - Name: Manganese(II) ion (Mn²⁺)\n",
      "    Information: Manganese(II) ion, denoted as Mn²⁺, is a chemical species involved in the reaction.\n",
      "  - Name: Iron(II) ion (Fe²⁺)\n",
      "    Information: Iron(II) ion, denoted as Fe²⁺, is a chemical species involved in the reaction.\n",
      "  - Name: Water (H₂O)\n",
      "    Information: Water, denoted as H₂O, is a product in the reaction.\n",
      "  - Name: Hydrogen peroxide (H₂O₂)\n",
      "    Information: Hydrogen peroxide, denoted as H₂O₂, is a reactant in the reaction.\n",
      "  - Name: Chlorine (Cl₂)\n",
      "    Information: Chlorine, denoted as Cl₂, is a reactant in the reaction.\n",
      "\n",
      "Data Properties:\n",
      "  - Name: state\n",
      "    Information: The state of the chemical species, such as aqueous (aq) or liquid (l).\n",
      "\n",
      "Object Properties:\n",
      "  - Name: reacts_with\n",
      "    Domain: Iron(III) ion (Fe³⁺)\n",
      "    Range: Permanganate ion (MnO₄⁻)\n",
      "    Restriction: some\n",
      "    Information: Iron(III) ion reacts with permanganate ion in the presence of hydrogen ion.\n",
      "  - Name: produces\n",
      "    Domain: Iron(III) ion (Fe³⁺)\n",
      "    Range: Manganese(II) ion (Mn²⁺)\n",
      "    Restriction: some\n",
      "    Information: The reaction involving Iron(III) ion and permanganate ion produces manganese(II) ion.\n",
      "  - Name: reacts_with\n",
      "    Domain: Hydrogen peroxide (H₂O₂)\n",
      "    Range: Chlorine (Cl₂)\n",
      "    Restriction: some\n",
      "    Information: Hydrogen peroxide reacts with chlorine.\n",
      "\n",
      "--------------------------------------------------\n",
      "\n",
      "Context:\n",
      "Although biofuels are appealing replacements for fossil fuels, their wide.  spread adoption has several potentiai drawbacks. One major concern is the food-versus-fuel issue. Typical plants used for food (e.g., sugarcane) are sources of biofuels, which drives up the cost of food. A positive aspect of biofu- els is that they are carbon neutral; that is, the $\\mathrm{CO}_{2}(\\mathrm{g})$ produced by the burning of a biofuel is then used by plants for new growth, resulting in no net gain of carbon in the atmosphere. Biofuels and their use have many other advantages and disadvantages. Importantly, chemical knowledge of these compounds is needed to address these issues. \n",
      "\n",
      "Ontology:\n",
      "Entities:\n",
      "  - Name: Biofuels\n",
      "    Information: Biofuels are appealing replacements for fossil fuels and are derived from typical plants used for food, such as sugarcane.\n",
      "  - Name: Fossil Fuels\n",
      "    Information: Fossil fuels are traditional energy sources that biofuels aim to replace.\n",
      "  - Name: Sugarcane\n",
      "    Information: Sugarcane is a typical plant used for food and is also a source of biofuels.\n",
      "  - Name: Carbon Dioxide (CO2)\n",
      "    Information: Carbon dioxide is a gas produced by the burning of biofuels and is used by plants for new growth.\n",
      "  - Name: Plants\n",
      "    Information: Plants use carbon dioxide produced by the burning of biofuels for new growth.\n",
      "\n",
      "Data Properties:\n",
      "  - Name: carbon_neutrality\n",
      "    Information: Biofuels are carbon neutral, meaning the CO2 produced by burning them is used by plants, resulting in no net gain of carbon in the atmosphere.\n",
      "\n",
      "Object Properties:\n",
      "  - Name: produces\n",
      "    Domain: Biofuels\n",
      "    Range: Carbon Dioxide (CO2)\n",
      "    Restriction: some\n",
      "    Information: Biofuels produce carbon dioxide when burned.\n",
      "  - Name: uses\n",
      "    Domain: Plants\n",
      "    Range: Carbon Dioxide (CO2)\n",
      "    Restriction: some\n",
      "    Information: Plants use carbon dioxide for new growth.\n",
      "\n",
      "--------------------------------------------------\n",
      "\n",
      "Context:\n",
      "$\\mathbf{CCl}_{4}$ . Carbon tetrachloride molecules are nonpolar. Based on the elec- tronegativity difference between Cl and C, we expect a bond dipole for the C—Cl bond. The fact that the resultant dipole moment is zero means that  the bond dipoles must be oriented in such a way that they cancel. The tetra- hedral molecular geometry of $\\mathrm{CCl_{4}}$ provides the symmetrical distribution of bond dipoles that leads to this cancellation, as shown in Figure 10-16(a).  Can you see that the molecule will be polar if one of the Cl atoms is  replaced by an atom with a different electronegativity, say H? In the mole- cule, $\\mathrm{CH}_{3},$ there is a resultant dipole moment (Fig. 10-16b). \n",
      "\n",
      "Ontology:\n",
      "Entities:\n",
      "  - Name: Carbon Tetrachloride(CCl4)\n",
      "    Information: Carbon tetrachloride is a molecule with the chemical formula CCl4, known for its nonpolar nature due to symmetrical distribution of bond dipoles.\n",
      "  - Name: Chlorine(Cl)\n",
      "    Information: Chlorine is a chemical element that forms part of the CCl4 molecule.\n",
      "  - Name: Carbon(C)\n",
      "    Information: Carbon is a chemical element that forms part of the CCl4 molecule.\n",
      "  - Name: Bond Dipole\n",
      "    Information: A bond dipole is a concept related to the molecular structure, indicating the polarity of a bond.\n",
      "  - Name: Tetrahedral Molecular Geometry\n",
      "    Information: Tetrahedral molecular geometry describes the shape of the CCl4 molecule, leading to symmetrical distribution of bond dipoles.\n",
      "  - Name: Resultant Dipole Moment\n",
      "    Information: Resultant dipole moment is the overall dipole moment of a molecule, which is zero for CCl4 due to its geometry.\n",
      "  - Name: Hydrogen(H)\n",
      "    Information: Hydrogen is a chemical element mentioned as a potential replacement for chlorine in CCl4, affecting the molecule's polarity.\n",
      "\n",
      "Data Properties:\n",
      "  - Name: Electronegativity_Difference\n",
      "    Information: Electronegativity difference is a characteristic of the bond between Cl and C, influencing the bond dipole.\n",
      "\n",
      "Object Properties:\n",
      "  - Name: has_bond_dipole\n",
      "    Domain: Carbon Tetrachloride(CCl4)\n",
      "    Range: Bond Dipole\n",
      "    Restriction: some\n",
      "    Information: Carbon tetrachloride has bond dipoles that cancel each other out due to its molecular geometry.\n",
      "  - Name: has_molecular_geometry\n",
      "    Domain: Carbon Tetrachloride(CCl4)\n",
      "    Range: Tetrahedral Molecular Geometry\n",
      "    Restriction: only\n",
      "    Information: Carbon tetrachloride has a tetrahedral molecular geometry that provides symmetrical distribution of bond dipoles.\n",
      "\n",
      "--------------------------------------------------\n",
      "\n"
     ]
    }
   ],
   "source": [
    "# 提取并格式化输出devset的context和ontology\n",
    "for dev in devset:\n",
    "    print(\"Context:\")\n",
    "    print(dev.context)\n",
    "    print(\"\\nOntology:\")\n",
    "    print(ontology_to_string(dev.ontology.ontology))\n",
    "    print(\"\\n\" + \"-\"*50 + \"\\n\")\n"
   ]
  },
  {
   "cell_type": "code",
   "execution_count": 86,
   "metadata": {},
   "outputs": [
    {
     "name": "stdout",
     "output_type": "stream",
     "text": [
      "完成一个样本\n"
     ]
    }
   ],
   "source": [
    "scores = []\n",
    "extractor = ChemOntology()\n",
    "for dev in devset[:1]:\n",
    "    pred = extractor(dev['context'])\n",
    "    score = metric(dev, pred, verbose=True)\n",
    "    print(\"完成一个样本\")\n",
    "    scores.append(score)\n"
   ]
  },
  {
   "cell_type": "code",
   "execution_count": 87,
   "metadata": {},
   "outputs": [
    {
     "name": "stdout",
     "output_type": "stream",
     "text": [
      "\n",
      "Entity Accuracy Score: 5\n",
      "Data Property Correctness Score: 4\n",
      "Object Property Completeness Score: 3\n",
      "Ontology Structure Score: 3\n",
      "Overall Score: 8\n",
      "\n",
      "Total Score: 23\n",
      "Percentage Score: 85.19%\n",
      "\n",
      "-------------------------------------------------\n"
     ]
    }
   ],
   "source": [
    "\n",
    "for score in scores:\n",
    "    print(score)\n",
    "    print(\"-------------------------------------------------\")\n",
    "\n",
    "\n"
   ]
  },
  {
   "cell_type": "code",
   "execution_count": 44,
   "metadata": {},
   "outputs": [],
   "source": [
    "from dspy.evaluate import Evaluate\n",
    "\n",
    "evaluate = Evaluate(devset=devset, num_threads=8, display_progress=True, display_table=10)"
   ]
  },
  {
   "cell_type": "code",
   "execution_count": 45,
   "metadata": {},
   "outputs": [
    {
     "name": "stdout",
     "output_type": "stream",
     "text": [
      "  0%|          | 0/20 [00:00<?, ?it/s]"
     ]
    },
    {
     "name": "stdout",
     "output_type": "stream",
     "text": [
      "Average Metric: 6.41 / 8 (80.1%):  40%|████      | 8/20 [00:31<00:28,  2.34s/it]"
     ]
    },
    {
     "name": "stderr",
     "output_type": "stream",
     "text": [
      "<unknown>:23: SyntaxWarning: invalid escape sequence '\\,'\n",
      "<unknown>:27: SyntaxWarning: invalid escape sequence '\\,'\n"
     ]
    },
    {
     "name": "stdout",
     "output_type": "stream",
     "text": [
      "Average Metric: 15.52 / 20 (77.6%): 100%|██████████| 20/20 [01:16<00:00,  3.81s/it]"
     ]
    },
    {
     "name": "stderr",
     "output_type": "stream",
     "text": [
      "2024/11/22 15:35:00 INFO dspy.evaluate.evaluate: Average Metric: 15.518518518518519 / 20 (77.6%)\n"
     ]
    },
    {
     "name": "stdout",
     "output_type": "stream",
     "text": [
      "\n"
     ]
    },
    {
     "data": {
      "text/html": [
       "<div>\n",
       "<style scoped>\n",
       "    .dataframe tbody tr th:only-of-type {\n",
       "        vertical-align: middle;\n",
       "    }\n",
       "\n",
       "    .dataframe tbody tr th {\n",
       "        vertical-align: top;\n",
       "    }\n",
       "\n",
       "    .dataframe thead th {\n",
       "        text-align: right;\n",
       "    }\n",
       "</style>\n",
       "<table border=\"1\" class=\"dataframe\">\n",
       "  <thead>\n",
       "    <tr style=\"text-align: right;\">\n",
       "      <th></th>\n",
       "      <th>context</th>\n",
       "      <th>reasoning</th>\n",
       "      <th>ontology</th>\n",
       "      <th>metric</th>\n",
       "    </tr>\n",
       "  </thead>\n",
       "  <tbody>\n",
       "    <tr>\n",
       "      <th>0</th>\n",
       "      <td>To some, stoichiometry is no more exciting than the law of conserv...</td>\n",
       "      <td>The text discusses the concept of stoichiometry and its importance...</td>\n",
       "      <td>entities=[Entity(name='Stoichiometry', information='Stoichiometry ...</td>\n",
       "      <td>✔️ [0.519]</td>\n",
       "    </tr>\n",
       "    <tr>\n",
       "      <th>1</th>\n",
       "      <td>If a glass tube that is open at both ends stands upright in a cont...</td>\n",
       "      <td>The text describes a physical experiment involving mercury and a g...</td>\n",
       "      <td>entities=[Entity(name='Glass Tube', information='A glass tube used...</td>\n",
       "      <td>✔️ [0.926]</td>\n",
       "    </tr>\n",
       "    <tr>\n",
       "      <th>2</th>\n",
       "      <td>This is the Schrodinger equation of a free particle moving in one ...</td>\n",
       "      <td>The text describes a scenario involving a particle in quantum mech...</td>\n",
       "      <td>entities=[Entity(name='Schrodinger Equation', information='The Sch...</td>\n",
       "      <td>✔️ [0.852]</td>\n",
       "    </tr>\n",
       "    <tr>\n",
       "      <th>3</th>\n",
       "      <td>It is interesting to note that the nitrogen atom also shows little...</td>\n",
       "      <td>The text discusses the stability of the nitrogen atom and its anio...</td>\n",
       "      <td>entities=[Entity(name='Nitrogen_Atom(N)', information='The nitroge...</td>\n",
       "      <td>✔️ [0.852]</td>\n",
       "    </tr>\n",
       "    <tr>\n",
       "      <th>4</th>\n",
       "      <td>generally the central focus of a problem is the conversion of a ma...</td>\n",
       "      <td>The text discusses the conversion of mass to moles and vice versa,...</td>\n",
       "      <td>entities=[Entity(name='Mass', information='Mass is a measure of th...</td>\n",
       "      <td>✔️ [0.963]</td>\n",
       "    </tr>\n",
       "    <tr>\n",
       "      <th>5</th>\n",
       "      <td>The three subatomic particles considered in this section are the o...</td>\n",
       "      <td>The text discusses subatomic particles, specifically electrons, ne...</td>\n",
       "      <td>entities=[Entity(name='Electron', information='The electron is bel...</td>\n",
       "      <td>✔️ [0.741]</td>\n",
       "    </tr>\n",
       "    <tr>\n",
       "      <th>6</th>\n",
       "      <td>As a result of experiments of the type just described, we find tha...</td>\n",
       "      <td>The text describes a phenomenon related to the photoelectric effec...</td>\n",
       "      <td>entities=[Entity(name='Stopping Voltage(V_s)', information='The st...</td>\n",
       "      <td>✔️ [0.667]</td>\n",
       "    </tr>\n",
       "    <tr>\n",
       "      <th>7</th>\n",
       "      <td>of blood. Estimates of BAC can be obtained from breath samples by ...</td>\n",
       "      <td>The text discusses the estimation of Blood Alcohol Concentration (...</td>\n",
       "      <td>entities=[Entity(name='Blood Alcohol Concentration (BAC)', informa...</td>\n",
       "      <td>✔️ [0.889]</td>\n",
       "    </tr>\n",
       "    <tr>\n",
       "      <th>8</th>\n",
       "      <td>Electrostatic potential maps are a powerful way of displaying the ...</td>\n",
       "      <td>The text discusses the use of electrostatic potential maps to disp...</td>\n",
       "      <td>entities=[Entity(name='Electrostatic Potential Maps', information=...</td>\n",
       "      <td>✔️ [0.741]</td>\n",
       "    </tr>\n",
       "    <tr>\n",
       "      <th>9</th>\n",
       "      <td>Our major undertaking in this section will be to describe the thre...</td>\n",
       "      <td>The text discusses the three-dimensional probability density distr...</td>\n",
       "      <td>entities=[Entity(name='Hydrogen Atom', information='The hydrogen a...</td>\n",
       "      <td>✔️ [0.926]</td>\n",
       "    </tr>\n",
       "  </tbody>\n",
       "</table>\n",
       "</div>"
      ],
      "text/plain": [
       "                                                                 context  \\\n",
       "0  To some, stoichiometry is no more exciting than the law of conserv...   \n",
       "1  If a glass tube that is open at both ends stands upright in a cont...   \n",
       "2  This is the Schrodinger equation of a free particle moving in one ...   \n",
       "3  It is interesting to note that the nitrogen atom also shows little...   \n",
       "4  generally the central focus of a problem is the conversion of a ma...   \n",
       "5  The three subatomic particles considered in this section are the o...   \n",
       "6  As a result of experiments of the type just described, we find tha...   \n",
       "7  of blood. Estimates of BAC can be obtained from breath samples by ...   \n",
       "8  Electrostatic potential maps are a powerful way of displaying the ...   \n",
       "9  Our major undertaking in this section will be to describe the thre...   \n",
       "\n",
       "                                                               reasoning  \\\n",
       "0  The text discusses the concept of stoichiometry and its importance...   \n",
       "1  The text describes a physical experiment involving mercury and a g...   \n",
       "2  The text describes a scenario involving a particle in quantum mech...   \n",
       "3  The text discusses the stability of the nitrogen atom and its anio...   \n",
       "4  The text discusses the conversion of mass to moles and vice versa,...   \n",
       "5  The text discusses subatomic particles, specifically electrons, ne...   \n",
       "6  The text describes a phenomenon related to the photoelectric effec...   \n",
       "7  The text discusses the estimation of Blood Alcohol Concentration (...   \n",
       "8  The text discusses the use of electrostatic potential maps to disp...   \n",
       "9  The text discusses the three-dimensional probability density distr...   \n",
       "\n",
       "                                                                ontology  \\\n",
       "0  entities=[Entity(name='Stoichiometry', information='Stoichiometry ...   \n",
       "1  entities=[Entity(name='Glass Tube', information='A glass tube used...   \n",
       "2  entities=[Entity(name='Schrodinger Equation', information='The Sch...   \n",
       "3  entities=[Entity(name='Nitrogen_Atom(N)', information='The nitroge...   \n",
       "4  entities=[Entity(name='Mass', information='Mass is a measure of th...   \n",
       "5  entities=[Entity(name='Electron', information='The electron is bel...   \n",
       "6  entities=[Entity(name='Stopping Voltage(V_s)', information='The st...   \n",
       "7  entities=[Entity(name='Blood Alcohol Concentration (BAC)', informa...   \n",
       "8  entities=[Entity(name='Electrostatic Potential Maps', information=...   \n",
       "9  entities=[Entity(name='Hydrogen Atom', information='The hydrogen a...   \n",
       "\n",
       "       metric  \n",
       "0  ✔️ [0.519]  \n",
       "1  ✔️ [0.926]  \n",
       "2  ✔️ [0.852]  \n",
       "3  ✔️ [0.852]  \n",
       "4  ✔️ [0.963]  \n",
       "5  ✔️ [0.741]  \n",
       "6  ✔️ [0.667]  \n",
       "7  ✔️ [0.889]  \n",
       "8  ✔️ [0.741]  \n",
       "9  ✔️ [0.926]  "
      ]
     },
     "metadata": {},
     "output_type": "display_data"
    },
    {
     "data": {
      "text/html": [
       "\n",
       "                <div style='\n",
       "                    text-align: center;\n",
       "                    font-size: 16px;\n",
       "                    font-weight: bold;\n",
       "                    color: #555;\n",
       "                    margin: 10px 0;'>\n",
       "                    ... 10 more rows not displayed ...\n",
       "                </div>\n",
       "                "
      ],
      "text/plain": [
       "<IPython.core.display.HTML object>"
      ]
     },
     "metadata": {},
     "output_type": "display_data"
    },
    {
     "data": {
      "text/plain": [
       "77.59"
      ]
     },
     "execution_count": 45,
     "metadata": {},
     "output_type": "execute_result"
    }
   ],
   "source": [
    "import dspy.evaluate\n",
    "\n",
    "\n",
    "evaluate(ChemOntology(), devset=devset, metric=metric)\n"
   ]
  },
  {
   "cell_type": "code",
   "execution_count": 46,
   "metadata": {},
   "outputs": [],
   "source": [
    "# Import the optimizer\n",
    "from dspy.teleprompt import MIPROv2\n",
    "\n",
    "# Initialize optimizer\n",
    "teleprompter = MIPROv2(\n",
    "    metric=metric,\n",
    "    auto=\"medium\",\n",
    "    teacher_settings=dict(lm=teacher)\n",
    ")\n",
    "\n",
    "\n",
    "\n"
   ]
  },
  {
   "cell_type": "code",
   "execution_count": 47,
   "metadata": {},
   "outputs": [
    {
     "name": "stderr",
     "output_type": "stream",
     "text": [
      "2024/11/22 15:35:23 INFO dspy.teleprompt.mipro_optimizer_v2: \n",
      "RUNNING WITH THE FOLLOWING MEDIUM AUTO RUN SETTINGS:\n",
      "num_trials: 25\n",
      "minibatch: True\n",
      "num_candidates: 25\n",
      "valset size: 80\n",
      "\n",
      "2024/11/22 15:35:23 INFO dspy.teleprompt.mipro_optimizer_v2: \n",
      "==> STEP 1: BOOTSTRAP FEWSHOT EXAMPLES <==\n",
      "2024/11/22 15:35:23 INFO dspy.teleprompt.mipro_optimizer_v2: These will be used for informing instruction proposal.\n",
      "\n",
      "2024/11/22 15:35:23 INFO dspy.teleprompt.mipro_optimizer_v2: Bootstrapping N=25 sets of demonstrations...\n"
     ]
    },
    {
     "name": "stdout",
     "output_type": "stream",
     "text": [
      "Bootstrapping set 1/25\n",
      "Bootstrapping set 2/25\n"
     ]
    },
    {
     "name": "stderr",
     "output_type": "stream",
     "text": [
      "  0%|          | 0/20 [00:00<?, ?it/s]<unknown>:27: SyntaxWarning: invalid escape sequence '\\o'\n",
      " 15%|█▌        | 3/20 [01:19<07:28, 26.36s/it]\n"
     ]
    },
    {
     "name": "stdout",
     "output_type": "stream",
     "text": [
      "Bootstrapped 3 full traces after 3 examples for up to 1 rounds, amounting to 3 attempts.\n",
      "Bootstrapping set 3/25\n"
     ]
    },
    {
     "name": "stderr",
     "output_type": "stream",
     "text": [
      " 10%|█         | 2/20 [01:07<09:38, 32.16s/it]<unknown>:5: SyntaxWarning: invalid escape sequence '\\m'\n",
      "<unknown>:9: SyntaxWarning: invalid escape sequence '\\m'\n",
      "<unknown>:13: SyntaxWarning: invalid escape sequence '\\m'\n",
      "<unknown>:23: SyntaxWarning: invalid escape sequence '\\m'\n",
      " 15%|█▌        | 3/20 [01:32<08:46, 30.96s/it]\n"
     ]
    },
    {
     "name": "stdout",
     "output_type": "stream",
     "text": [
      "Bootstrapped 3 full traces after 3 examples for up to 1 rounds, amounting to 3 attempts.\n",
      "Bootstrapping set 4/25\n"
     ]
    },
    {
     "name": "stderr",
     "output_type": "stream",
     "text": [
      "  5%|▌         | 1/20 [00:00<00:00, 174.29it/s]\n"
     ]
    },
    {
     "name": "stdout",
     "output_type": "stream",
     "text": [
      "Bootstrapped 1 full traces after 1 examples for up to 1 rounds, amounting to 1 attempts.\n",
      "Bootstrapping set 5/25\n"
     ]
    },
    {
     "name": "stderr",
     "output_type": "stream",
     "text": [
      "  5%|▌         | 1/20 [00:44<14:03, 44.38s/it]<unknown>:27: SyntaxWarning: invalid escape sequence '\\o'\n",
      " 15%|█▌        | 3/20 [00:44<04:11, 14.80s/it]\n"
     ]
    },
    {
     "name": "stdout",
     "output_type": "stream",
     "text": [
      "Bootstrapped 3 full traces after 3 examples for up to 1 rounds, amounting to 3 attempts.\n",
      "Bootstrapping set 6/25\n"
     ]
    },
    {
     "name": "stderr",
     "output_type": "stream",
     "text": [
      " 10%|█         | 2/20 [00:46<06:58, 23.26s/it]<unknown>:27: SyntaxWarning: invalid escape sequence '\\o'\n",
      " 15%|█▌        | 3/20 [00:46<04:24, 15.53s/it]\n"
     ]
    },
    {
     "name": "stdout",
     "output_type": "stream",
     "text": [
      "Bootstrapped 3 full traces after 3 examples for up to 1 rounds, amounting to 3 attempts.\n",
      "Bootstrapping set 7/25\n"
     ]
    },
    {
     "name": "stderr",
     "output_type": "stream",
     "text": [
      " 15%|█▌        | 3/20 [00:54<05:07, 18.07s/it]\n"
     ]
    },
    {
     "name": "stdout",
     "output_type": "stream",
     "text": [
      "Bootstrapped 3 full traces after 3 examples for up to 1 rounds, amounting to 3 attempts.\n",
      "Bootstrapping set 8/25\n"
     ]
    },
    {
     "name": "stderr",
     "output_type": "stream",
     "text": [
      "  5%|▌         | 1/20 [00:00<00:00, 192.04it/s]\n"
     ]
    },
    {
     "name": "stdout",
     "output_type": "stream",
     "text": [
      "Bootstrapped 1 full traces after 1 examples for up to 1 rounds, amounting to 1 attempts.\n",
      "Bootstrapping set 9/25\n"
     ]
    },
    {
     "name": "stderr",
     "output_type": "stream",
     "text": [
      " 15%|█▌        | 3/20 [00:21<02:01,  7.15s/it]\n"
     ]
    },
    {
     "name": "stdout",
     "output_type": "stream",
     "text": [
      "Bootstrapped 3 full traces after 3 examples for up to 1 rounds, amounting to 3 attempts.\n",
      "Bootstrapping set 10/25\n"
     ]
    },
    {
     "name": "stderr",
     "output_type": "stream",
     "text": [
      " 15%|█▌        | 3/20 [00:45<04:15, 15.04s/it]\n"
     ]
    },
    {
     "name": "stdout",
     "output_type": "stream",
     "text": [
      "Bootstrapped 3 full traces after 3 examples for up to 1 rounds, amounting to 3 attempts.\n",
      "Bootstrapping set 11/25\n"
     ]
    },
    {
     "name": "stderr",
     "output_type": "stream",
     "text": [
      "  5%|▌         | 1/20 [00:00<00:00, 115.64it/s]\n"
     ]
    },
    {
     "name": "stdout",
     "output_type": "stream",
     "text": [
      "Bootstrapped 1 full traces after 1 examples for up to 1 rounds, amounting to 1 attempts.\n",
      "Bootstrapping set 12/25\n"
     ]
    },
    {
     "name": "stderr",
     "output_type": "stream",
     "text": [
      "  5%|▌         | 1/20 [00:23<07:22, 23.27s/it]\n"
     ]
    },
    {
     "name": "stdout",
     "output_type": "stream",
     "text": [
      "Bootstrapped 1 full traces after 1 examples for up to 1 rounds, amounting to 1 attempts.\n",
      "Bootstrapping set 13/25\n"
     ]
    },
    {
     "name": "stderr",
     "output_type": "stream",
     "text": [
      "  5%|▌         | 1/20 [00:36<11:41, 36.94s/it]\n"
     ]
    },
    {
     "name": "stdout",
     "output_type": "stream",
     "text": [
      "Bootstrapped 1 full traces after 1 examples for up to 1 rounds, amounting to 1 attempts.\n",
      "Bootstrapping set 14/25\n"
     ]
    },
    {
     "name": "stderr",
     "output_type": "stream",
     "text": [
      " 15%|█▌        | 3/20 [00:59<05:35, 19.72s/it]\n"
     ]
    },
    {
     "name": "stdout",
     "output_type": "stream",
     "text": [
      "Bootstrapped 3 full traces after 3 examples for up to 1 rounds, amounting to 3 attempts.\n",
      "Bootstrapping set 15/25\n"
     ]
    },
    {
     "name": "stderr",
     "output_type": "stream",
     "text": [
      "  5%|▌         | 1/20 [00:00<00:00, 203.13it/s]\n"
     ]
    },
    {
     "name": "stdout",
     "output_type": "stream",
     "text": [
      "Bootstrapped 1 full traces after 1 examples for up to 1 rounds, amounting to 1 attempts.\n",
      "Bootstrapping set 16/25\n"
     ]
    },
    {
     "name": "stderr",
     "output_type": "stream",
     "text": [
      "  5%|▌         | 1/20 [00:00<00:00, 195.99it/s]\n"
     ]
    },
    {
     "name": "stdout",
     "output_type": "stream",
     "text": [
      "Bootstrapped 1 full traces after 1 examples for up to 1 rounds, amounting to 1 attempts.\n",
      "Bootstrapping set 17/25\n"
     ]
    },
    {
     "name": "stderr",
     "output_type": "stream",
     "text": [
      " 15%|█▌        | 3/20 [00:00<00:00, 159.00it/s]\n"
     ]
    },
    {
     "name": "stdout",
     "output_type": "stream",
     "text": [
      "Bootstrapped 3 full traces after 3 examples for up to 1 rounds, amounting to 3 attempts.\n",
      "Bootstrapping set 18/25\n"
     ]
    },
    {
     "name": "stderr",
     "output_type": "stream",
     "text": [
      " 15%|█▌        | 3/20 [00:00<00:00, 181.10it/s]\n"
     ]
    },
    {
     "name": "stdout",
     "output_type": "stream",
     "text": [
      "Bootstrapped 3 full traces after 3 examples for up to 1 rounds, amounting to 3 attempts.\n",
      "Bootstrapping set 19/25\n"
     ]
    },
    {
     "name": "stderr",
     "output_type": "stream",
     "text": [
      " 15%|█▌        | 3/20 [00:00<00:00, 160.25it/s]\n"
     ]
    },
    {
     "name": "stdout",
     "output_type": "stream",
     "text": [
      "Bootstrapped 3 full traces after 3 examples for up to 1 rounds, amounting to 3 attempts.\n",
      "Bootstrapping set 20/25\n"
     ]
    },
    {
     "name": "stderr",
     "output_type": "stream",
     "text": [
      " 15%|█▌        | 3/20 [00:00<00:00, 164.47it/s]\n"
     ]
    },
    {
     "name": "stdout",
     "output_type": "stream",
     "text": [
      "Bootstrapped 3 full traces after 3 examples for up to 1 rounds, amounting to 3 attempts.\n",
      "Bootstrapping set 21/25\n"
     ]
    },
    {
     "name": "stderr",
     "output_type": "stream",
     "text": [
      "  0%|          | 0/20 [00:00<?, ?it/s]<unknown>:27: SyntaxWarning: invalid escape sequence '\\o'\n",
      "  5%|▌         | 1/20 [00:00<00:00, 175.29it/s]\n"
     ]
    },
    {
     "name": "stdout",
     "output_type": "stream",
     "text": [
      "Bootstrapped 1 full traces after 1 examples for up to 1 rounds, amounting to 1 attempts.\n",
      "Bootstrapping set 22/25\n"
     ]
    },
    {
     "name": "stderr",
     "output_type": "stream",
     "text": [
      " 15%|█▌        | 3/20 [00:00<00:00, 141.14it/s]\n"
     ]
    },
    {
     "name": "stdout",
     "output_type": "stream",
     "text": [
      "Bootstrapped 3 full traces after 3 examples for up to 1 rounds, amounting to 3 attempts.\n",
      "Bootstrapping set 23/25\n"
     ]
    },
    {
     "name": "stderr",
     "output_type": "stream",
     "text": [
      "  0%|          | 0/20 [00:00<?, ?it/s]<unknown>:5: SyntaxWarning: invalid escape sequence '\\m'\n",
      "<unknown>:9: SyntaxWarning: invalid escape sequence '\\m'\n",
      "<unknown>:13: SyntaxWarning: invalid escape sequence '\\m'\n",
      "<unknown>:23: SyntaxWarning: invalid escape sequence '\\m'\n",
      " 15%|█▌        | 3/20 [00:00<00:00, 103.46it/s]\n"
     ]
    },
    {
     "name": "stdout",
     "output_type": "stream",
     "text": [
      "Bootstrapped 3 full traces after 3 examples for up to 1 rounds, amounting to 3 attempts.\n",
      "Bootstrapping set 24/25\n"
     ]
    },
    {
     "name": "stderr",
     "output_type": "stream",
     "text": [
      "  5%|▌         | 1/20 [00:00<00:00, 115.48it/s]\n"
     ]
    },
    {
     "name": "stdout",
     "output_type": "stream",
     "text": [
      "Bootstrapped 1 full traces after 1 examples for up to 1 rounds, amounting to 1 attempts.\n",
      "Bootstrapping set 25/25\n"
     ]
    },
    {
     "name": "stderr",
     "output_type": "stream",
     "text": [
      " 10%|█         | 2/20 [00:00<00:00, 96.10it/s]\n",
      "2024/11/22 15:43:47 INFO dspy.teleprompt.mipro_optimizer_v2: \n",
      "==> STEP 2: PROPOSE INSTRUCTION CANDIDATES <==\n",
      "2024/11/22 15:43:47 INFO dspy.teleprompt.mipro_optimizer_v2: We will use the few-shot examples from the previous step, a generated dataset summary, a summary of the program code, and a randomly selected prompting tip to propose instructions.\n"
     ]
    },
    {
     "name": "stdout",
     "output_type": "stream",
     "text": [
      "Bootstrapped 2 full traces after 2 examples for up to 1 rounds, amounting to 2 attempts.\n"
     ]
    },
    {
     "name": "stderr",
     "output_type": "stream",
     "text": [
      "2024/11/22 15:43:58 INFO dspy.teleprompt.mipro_optimizer_v2: \n",
      "Proposing instructions...\n",
      "\n",
      "2024/11/22 15:49:47 INFO dspy.teleprompt.mipro_optimizer_v2: Proposed Instructions for Predictor 0:\n",
      "\n",
      "2024/11/22 15:49:47 INFO dspy.teleprompt.mipro_optimizer_v2: 0: Analyze the provided text from research papers in the field of chemistry to identify all chemistry-related entities, data properties, and object properties within an ontological framework.\n",
      "\n",
      "Follow these Step-by-Step Analysis:\n",
      "\n",
      "1. Extract Chemistry-Related Entities:\n",
      "  - Identify all significant nouns, proper nouns, and technical terminologies that represent chemistry-related concepts, such as molecules, reactions, compounds, processes, or any substantial entities.\n",
      "  - Ensure that you capture entities across different levels of detail, from broad chemical categories to specific molecular structures, to create a comprehensive representation of the subject matter.\n",
      "  - Choose names for entities that are specific enough to indicate their meaning without additional context, avoiding overly generic terms.\n",
      "  - Consolidate similar entities to avoid redundancy, ensuring each represents a distinct concept at appropriate granularity levels.\n",
      "\n",
      "2. Identify Data Properties:\n",
      "  - Extract attributes or characteristics of the identified entities that can be classified as data properties, ensuring they are value-based and not entities themselves.\n",
      "  - Clearly define each data property, ensuring it accurately describes an attribute of an entity.\n",
      "\n",
      "3. Establish Object Properties:\n",
      "  - Carefully examine the text to identify all relationships between entities, ensuring each relationship is correctly captured with accurate details about the interactions.\n",
      "  - Analyze the context and interactions between the identified entities to determine how they are interconnected, focusing on actions, associations, dependencies, or similarities.\n",
      "  - Clearly define the relationships, ensuring accurate directionality that reflects the logical or functional dependencies among entities.\n",
      "\n",
      "Objective: Produce a detailed and comprehensive ontology that captures the full spectrum of chemistry-related entities, data properties, and object properties mentioned in the text, along with their interrelations, reflecting both broad concepts and intricate details specific to the chemistry domain.\n",
      "\n",
      "2024/11/22 15:49:47 INFO dspy.teleprompt.mipro_optimizer_v2: 1: Carefully read the provided text from chemistry research papers to construct a detailed ontology. Your task is to identify all chemistry-related entities, data properties, and object properties by following these steps:\n",
      "\n",
      "1. **Extract Chemistry-Related Entities**:\n",
      "   - Identify key nouns and technical terms that signify chemistry concepts such as molecules, reactions, or compounds.\n",
      "   - Capture entities at varying levels of detail, from general chemical categories to specific molecular structures.\n",
      "   - Ensure entity names are specific and meaningful, avoiding redundancy and overly generic terms.\n",
      "\n",
      "2. **Identify Data Properties**:\n",
      "   - Extract characteristics or attributes of the entities that can be classified as data properties, focusing on value-based attributes.\n",
      "   - Define each data property clearly, ensuring it accurately describes an entity's attribute.\n",
      "\n",
      "3. **Establish Object Properties**:\n",
      "   - Examine the text to identify relationships between entities, ensuring each relationship is captured accurately.\n",
      "   - Analyze interactions between entities to determine interconnections, focusing on actions, dependencies, or similarities.\n",
      "   - Define relationships clearly, reflecting logical or functional dependencies.\n",
      "\n",
      "Your goal is to produce a comprehensive ontology that captures the chemistry-related entities, data properties, and object properties mentioned in the text, along with their interrelations. Aim to reflect both broad concepts and detailed specifics unique to the chemistry domain.\n",
      "\n",
      "2024/11/22 15:49:47 INFO dspy.teleprompt.mipro_optimizer_v2: 2: Imagine you are a leading chemist tasked with presenting a groundbreaking research paper at an international conference. Your goal is to impress a panel of experts by showcasing a comprehensive ontology of chemistry-related entities, data properties, and object properties derived from cutting-edge research texts. Analyze the provided text meticulously to identify all relevant chemical concepts, ensuring your ontology captures both the broad and intricate details of the chemistry domain. Extract significant nouns, technical terms, and relationships to create a detailed representation that highlights your deep understanding and innovative thinking in chemistry. Your success depends on producing a detailed ontology that reflects the full spectrum of entities and their interrelations, demonstrating your expertise and paving the way for future scientific advancements.\n",
      "\n",
      "2024/11/22 15:49:47 INFO dspy.teleprompt.mipro_optimizer_v2: 3: You are a chemistry research analyst tasked with constructing a detailed ontology from academic texts. Your goal is to identify and categorize all chemistry-related entities, data properties, and object properties within the text. Follow these steps:\n",
      "\n",
      "1. **Entity Extraction**:\n",
      "   - Identify significant nouns, proper nouns, and technical terms that represent chemistry-related concepts such as molecules, reactions, compounds, and processes.\n",
      "   - Capture entities at various levels of detail, from broad chemical categories to specific molecular structures, ensuring a comprehensive representation.\n",
      "   - Assign specific names to entities to convey their meaning without additional context, avoiding overly generic terms.\n",
      "   - Consolidate similar entities to prevent redundancy, ensuring each entity represents a distinct concept at an appropriate level of granularity.\n",
      "\n",
      "2. **Data Property Identification**:\n",
      "   - Extract attributes or characteristics of the identified entities that qualify as data properties, ensuring these are value-based and not entities themselves.\n",
      "   - Clearly define each data property to accurately describe an attribute of an entity.\n",
      "\n",
      "3. **Object Property Establishment**:\n",
      "   - Examine the text to identify all relationships between entities, capturing details about interactions, associations, dependencies, or similarities.\n",
      "   - Define these relationships clearly, ensuring accurate directionality that reflects the logical or functional dependencies among entities.\n",
      "\n",
      "Your objective is to produce a comprehensive ontology that captures the spectrum of chemistry-related entities and their interrelations, reflecting both broad concepts and intricate details specific to the chemistry domain.\n",
      "\n",
      "2024/11/22 15:49:47 INFO dspy.teleprompt.mipro_optimizer_v2: 4: Carefully read the provided text from chemistry research papers and analyze it to construct a detailed ontology. Your task is to identify and categorize all chemistry-related entities, data properties, and object properties. Follow these steps:\n",
      "\n",
      "1. **Extract Chemistry-Related Entities**: Identify significant nouns, proper nouns, and technical terms that denote chemistry concepts such as molecules, reactions, or processes. Capture entities at various detail levels, ensuring specificity and avoiding redundancy.\n",
      "\n",
      "2. **Identify Data Properties**: Extract and clearly define attributes or characteristics of these entities that are value-based, ensuring they describe attributes accurately.\n",
      "\n",
      "3. **Establish Object Properties**: Examine the text to identify relationships between entities, capturing interactions and dependencies. Define these relationships with precise directionality reflecting logical or functional dependencies.\n",
      "\n",
      "Your objective is to produce a comprehensive ontology that encapsulates the chemistry-related entities, data properties, and object properties, highlighting both broad concepts and intricate details within the chemistry domain.\n",
      "\n",
      "2024/11/22 15:49:47 INFO dspy.teleprompt.mipro_optimizer_v2: 5: You are a chemistry ontology expert tasked with analyzing text from research papers in the field of chemistry. Your goal is to identify and extract all relevant chemistry-related entities, data properties, and object properties to form a comprehensive ontological framework. Follow these steps:\n",
      "\n",
      "1. **Extract Chemistry-Related Entities**:\n",
      "   - Identify significant nouns, proper nouns, and technical terms that represent chemistry-related concepts, such as molecules, reactions, compounds, or processes.\n",
      "   - Capture entities at varying levels of detail, from broad categories to specific molecular structures, ensuring a comprehensive representation.\n",
      "   - Choose names for entities that are specific and meaningful without additional context, avoiding generic terms.\n",
      "   - Consolidate similar entities to prevent redundancy, ensuring each entity represents a distinct concept at appropriate granularity.\n",
      "\n",
      "2. **Identify Data Properties**:\n",
      "   - Extract attributes or characteristics of the identified entities that can be classified as data properties, ensuring they are value-based and not entities themselves.\n",
      "   - Clearly define each data property, ensuring it accurately describes an attribute of an entity.\n",
      "\n",
      "3. **Establish Object Properties**:\n",
      "   - Examine the text to identify relationships between entities, ensuring each relationship is captured with accurate details about interactions.\n",
      "   - Analyze the context and interactions to determine how entities are interconnected, focusing on actions, associations, dependencies, or similarities.\n",
      "   - Clearly define relationships, ensuring accurate directionality that reflects logical or functional dependencies among entities.\n",
      "\n",
      "Objective: Produce a detailed ontology that captures the full spectrum of chemistry-related entities, data properties, and object properties mentioned in the text, reflecting both broad concepts and intricate details specific to the chemistry domain.\n",
      "\n",
      "2024/11/22 15:49:47 INFO dspy.teleprompt.mipro_optimizer_v2: 6: You are a chemistry researcher tasked with analyzing scientific texts to construct a detailed ontology. Your goal is to identify and organize all chemistry-related entities, data properties, and object properties within the text. Follow these steps to systematically extract the information:\n",
      "\n",
      "1. Extract Chemistry-Related Entities:\n",
      "   - Identify all significant nouns, proper nouns, and technical terminologies representing chemistry-related concepts, such as molecules, reactions, compounds, and processes.\n",
      "   - Capture entities across different levels of detail, from broad chemical categories to specific molecular structures, ensuring a comprehensive representation of the subject.\n",
      "   - Choose specific names for entities that clearly indicate their meaning without additional context, avoiding overly generic terms.\n",
      "   - Consolidate similar entities to avoid redundancy, ensuring each represents a distinct concept at appropriate granularity levels.\n",
      "\n",
      "2. Identify Data Properties:\n",
      "   - Extract attributes or characteristics of the identified entities that can be classified as data properties, ensuring they are value-based and not entities themselves.\n",
      "   - Clearly define each data property, ensuring it accurately describes an attribute of an entity.\n",
      "\n",
      "3. Establish Object Properties:\n",
      "   - Examine the text to identify all relationships between entities, ensuring each relationship is captured with accurate details about the interactions.\n",
      "   - Analyze the context and interactions between the identified entities to determine how they are interconnected, focusing on actions, associations, dependencies, or similarities.\n",
      "   - Clearly define the relationships, ensuring accurate directionality that reflects the logical or functional dependencies among entities.\n",
      "\n",
      "Your objective is to produce a detailed and comprehensive ontology that captures the full spectrum of chemistry-related entities, data properties, and object properties mentioned in the text, along with their interrelations, reflecting both broad concepts and intricate details specific to the chemistry domain.\n",
      "\n",
      "2024/11/22 15:49:47 INFO dspy.teleprompt.mipro_optimizer_v2: 7: Imagine you are an expert chemist tasked with developing a comprehensive ontology for a high-profile international research project. Your objective is to meticulously analyze the provided text from chemistry research papers to extract all chemistry-related entities, data properties, and object properties. This ontology will serve as a critical foundation for advancing scientific understanding and innovation in the field. \n",
      "\n",
      "Follow these precise steps to ensure accuracy and completeness:\n",
      "\n",
      "1. **Extract Chemistry-Related Entities**:\n",
      "   - Identify and list all significant nouns, proper nouns, and technical terms that represent key chemistry concepts, such as molecules, reactions, compounds, or processes.\n",
      "   - Capture entities at varying levels of specificity, including broad categories and detailed molecular structures, to ensure a comprehensive representation.\n",
      "   - Ensure entity names are specific and meaningful without requiring additional context, avoiding generic terms.\n",
      "   - Consolidate similar entities to minimize redundancy, ensuring each represents a distinct concept at the appropriate level of detail.\n",
      "\n",
      "2. **Identify Data Properties**:\n",
      "   - Extract attributes or characteristics of the entities that can be classified as data properties. These should be value-based and not entities themselves.\n",
      "   - Provide clear definitions for each data property, ensuring it accurately describes an attribute of an entity.\n",
      "\n",
      "3. **Establish Object Properties**:\n",
      "   - Examine the text carefully to identify all relationships between entities, capturing details about their interactions.\n",
      "   - Analyze the context and interactions between entities to determine their connections, focusing on actions, associations, dependencies, or similarities.\n",
      "   - Clearly define each relationship, ensuring it reflects the logical or functional dependencies among entities with accurate directionality.\n",
      "\n",
      "Your goal is to produce a detailed and comprehensive ontology that captures the full spectrum of chemistry-related entities, data properties, and object properties in the text, along with their interrelations. This ontology should reflect both broad concepts and intricate details specific to the chemistry domain, contributing to the project's success.\n",
      "\n",
      "2024/11/22 15:49:47 INFO dspy.teleprompt.mipro_optimizer_v2: 8: Imagine you are a scientist tasked with developing a comprehensive ontological database for an international chemistry research consortium. Your role is crucial, as the accuracy and completeness of this ontology will directly impact the research and development of new chemical compounds and reactions. Analyze the provided text from chemistry research papers meticulously to identify all chemistry-related entities, data properties, and object properties within an ontological framework.\n",
      "\n",
      "Follow these Step-by-Step Analysis:\n",
      "\n",
      "1. Extract Chemistry-Related Entities:\n",
      "   - Identify all significant nouns, proper nouns, and technical terminologies that represent chemistry-related concepts, such as molecules, reactions, compounds, processes, or any substantial entities.\n",
      "   - Ensure that you capture entities across different levels of detail, from broad chemical categories to specific molecular structures, to create a comprehensive representation of the subject matter.\n",
      "   - Choose names for entities that are specific enough to indicate their meaning without additional context, avoiding overly generic terms.\n",
      "   - Consolidate similar entities to avoid redundancy, ensuring each represents a distinct concept at appropriate granularity levels.\n",
      "\n",
      "2. Identify Data Properties:\n",
      "   - Extract attributes or characteristics of the identified entities that can be classified as data properties, ensuring they are value-based and not entities themselves.\n",
      "   - Clearly define each data property, ensuring it accurately describes an attribute of an entity.\n",
      "\n",
      "3. Establish Object Properties:\n",
      "   - Carefully examine the text to identify all relationships between entities, ensuring each relationship is correctly captured with accurate details about the interactions.\n",
      "   - Analyze the context and interactions between the identified entities to determine how they are interconnected, focusing on actions, associations, dependencies, or similarities.\n",
      "   - Clearly define the relationships, ensuring accurate directionality that reflects the logical or functional dependencies among entities.\n",
      "\n",
      "Objective: Produce a detailed and comprehensive ontology that captures the full spectrum of chemistry-related entities, data properties, and object properties mentioned in the text, along with their interrelations. Your work will play a vital role in advancing scientific understanding and innovation within the chemistry domain.\n",
      "\n",
      "2024/11/22 15:49:47 INFO dspy.teleprompt.mipro_optimizer_v2: 9: Carefully examine the provided text from chemistry research papers to extract and identify all relevant chemistry-related entities, data properties, and object properties, and organize them within an ontological framework. \n",
      "\n",
      "Follow these detailed steps:\n",
      "\n",
      "1. **Extract Chemistry-Related Entities:**\n",
      "   - Identify significant nouns, proper nouns, and technical terms that represent key chemistry concepts, such as molecules, reactions, compounds, and processes.\n",
      "   - Capture entities at various levels of detail, from broad chemical categories to specific molecular structures, to ensure a comprehensive understanding of the subject matter.\n",
      "   - Assign specific names to entities that convey their meaning without needing additional context, avoiding generic terms.\n",
      "   - Consolidate entities to eliminate redundancy, ensuring each entity represents a distinct concept with appropriate granularity.\n",
      "\n",
      "2. **Identify Data Properties:**\n",
      "   - Extract characteristics or attributes of the identified entities that can be classified as data properties, ensuring these are value-based and not entities themselves.\n",
      "   - Define each data property clearly, ensuring it accurately describes an entity's attribute.\n",
      "\n",
      "3. **Establish Object Properties:**\n",
      "   - Analyze the text to identify all relationships between entities, ensuring each interaction is captured accurately.\n",
      "   - Examine the context and interactions to determine how entities are interconnected, focusing on actions, dependencies, associations, or similarities.\n",
      "   - Clearly define relationships, ensuring the directionality reflects logical or functional dependencies among entities.\n",
      "\n",
      "The goal is to produce a detailed ontology capturing the full range of chemistry-related entities, data properties, and object properties mentioned in the text, along with their interrelations, reflecting both broad concepts and intricate details specific to the chemistry domain.\n",
      "\n",
      "2024/11/22 15:49:47 INFO dspy.teleprompt.mipro_optimizer_v2: 10: Imagine you are tasked with presenting a comprehensive and precise ontology of a chemistry research paper to a panel of leading scientists in the field. Your goal is to impress them with your ability to extract and categorize all relevant chemistry-related entities, data properties, and object properties. Analyze the provided text meticulously to identify significant nouns, proper nouns, and technical terms representing chemistry concepts such as molecules, reactions, compounds, and processes. Capture entities at various levels of detail and ensure each one is distinct, avoiding redundancy. Identify attributes of these entities as data properties and define them clearly. Examine the relationships between entities to establish object properties, ensuring accurate representation of interactions, dependencies, and associations. Your objective is to produce a detailed ontology that not only captures the broad concepts but also the intricate details specific to the chemistry domain, reflecting a thorough understanding of the text's content.\n",
      "\n",
      "2024/11/22 15:49:47 INFO dspy.teleprompt.mipro_optimizer_v2: 11: Examine the text provided from chemistry research papers to systematically extract and organize chemistry-related entities, data properties, and object properties into a structured ontology. Begin by identifying key entities such as molecules, reactions, and compounds, ensuring each is distinct and accurately named. Next, determine the data properties, which are attributes of these entities, and clearly define them. Finally, establish object properties by analyzing the relationships and interactions between entities, capturing these connections with precise directionality. The goal is to create a comprehensive ontology that encapsulates the full range of chemistry-related concepts and their interrelations, facilitating a deeper understanding of the subject matter.\n",
      "\n",
      "2024/11/22 15:49:47 INFO dspy.teleprompt.mipro_optimizer_v2: 12: Carefully analyze the provided text from chemistry research papers to construct a detailed ontological framework. Your task is to identify and categorize all relevant chemistry-related entities, data properties, and object properties. \n",
      "\n",
      "Follow these steps for a thorough analysis:\n",
      "\n",
      "1. **Extract Chemistry-Related Entities**:\n",
      "   - Identify all significant nouns, proper nouns, and technical terms that denote chemistry concepts, such as molecules, reactions, compounds, and processes.\n",
      "   - Capture entities at various levels of detail, from broad categories to specific molecular structures, ensuring a comprehensive representation.\n",
      "   - Use specific names for entities to convey clear meaning without additional context, avoiding generic terms.\n",
      "   - Consolidate similar entities to avoid redundancy, ensuring each represents a distinct concept at the appropriate level of granularity.\n",
      "\n",
      "2. **Identify Data Properties**:\n",
      "   - Extract attributes or characteristics of the entities that qualify as data properties, ensuring they are value-based and not entities themselves.\n",
      "   - Clearly define each data property to accurately describe an attribute of an entity.\n",
      "\n",
      "3. **Establish Object Properties**:\n",
      "   - Examine the text to identify all relationships between entities, ensuring each relationship is captured with precise details about the interactions.\n",
      "   - Analyze the context and interactions to determine how entities are interconnected, focusing on actions, associations, dependencies, or similarities.\n",
      "   - Clearly define the relationships, ensuring accurate directionality that reflects the logical or functional dependencies among entities.\n",
      "\n",
      "Objective: Develop a comprehensive ontology that reflects the full range of chemistry-related entities, data properties, and object properties in the text, capturing both broad concepts and intricate details specific to the chemistry domain.\n",
      "\n",
      "2024/11/22 15:49:47 INFO dspy.teleprompt.mipro_optimizer_v2: 13: Please analyze the given text from chemistry research papers and construct a detailed ontology by identifying the following elements:\n",
      "\n",
      "1. **Chemistry-Related Entities**: Extract and list all significant nouns, proper nouns, and technical terms that represent chemistry-related concepts such as molecules, reactions, compounds, and processes. Ensure these entities are captured at various levels of detail for a comprehensive representation, and avoid redundancy by consolidating similar entities.\n",
      "\n",
      "2. **Data Properties**: Identify and define attributes or characteristics of the extracted entities that qualify as data properties. These should be value-based descriptions that accurately detail an attribute of an entity.\n",
      "\n",
      "3. **Object Properties**: Determine and define the relationships between the entities, focusing on interactions such as actions, dependencies, or associations. Ensure these relationships are captured with accurate details and reflect the logical or functional dependencies among entities.\n",
      "\n",
      "Your goal is to produce a comprehensive ontology that effectively captures and represents the entities, data properties, and object properties within the text, highlighting both broad and intricate chemistry concepts and their interrelations.\n",
      "\n",
      "2024/11/22 15:49:47 INFO dspy.teleprompt.mipro_optimizer_v2: 14: Please analyze the given chemistry research text to meticulously identify and categorize all relevant chemistry-related entities, data properties, and object properties within an ontological framework. Follow these detailed steps:\n",
      "\n",
      "1. **Extract Chemistry-Related Entities**: \n",
      "   - Identify and list all significant nouns, proper nouns, and technical terms that represent key chemistry concepts such as molecules, reactions, compounds, and processes.\n",
      "   - Capture entities across various levels of detail, from broad chemical categories to specific molecular structures, ensuring a comprehensive depiction of the subject matter.\n",
      "   - Assign specific names to entities that convey their meaning without needing additional context, avoiding generic terms.\n",
      "   - Merge similar entities to prevent redundancy, ensuring each represents a unique concept at suitable granularity levels.\n",
      "\n",
      "2. **Identify Data Properties**:\n",
      "   - Extract attributes or characteristics of the identified entities that qualify as data properties, ensuring they are value-based and not entities themselves.\n",
      "   - Clearly define each data property to accurately describe an entity's attribute.\n",
      "\n",
      "3. **Establish Object Properties**:\n",
      "   - Examine the text to identify all relationships between entities, capturing precise details about their interactions.\n",
      "   - Analyze the context to determine how entities are interconnected, focusing on actions, associations, dependencies, or similarities.\n",
      "   - Clearly define these relationships, ensuring they reflect accurate directionality and logical or functional dependencies among entities.\n",
      "\n",
      "The goal is to create a detailed and comprehensive ontology that encapsulates the chemistry-related entities, data properties, and object properties mentioned, along with their interrelations. This ontology should reflect both broad concepts and intricate details specific to the chemistry field.\n",
      "\n",
      "2024/11/22 15:49:47 INFO dspy.teleprompt.mipro_optimizer_v2: 15: Carefully examine the given text from chemistry research papers to construct a detailed ontology by identifying all relevant chemistry-related entities, data properties, and object properties. Follow a structured process:\n",
      "\n",
      "1. **Extract Chemistry-Related Entities**:\n",
      "   - Identify significant nouns, proper nouns, and technical terms representing chemical concepts like molecules, reactions, and compounds.\n",
      "   - Capture entities at various detail levels, from general categories to specific molecular structures, ensuring clarity and specificity.\n",
      "   - Avoid redundancy by consolidating similar entities, ensuring each entity represents a distinct and meaningful concept.\n",
      "\n",
      "2. **Identify Data Properties**:\n",
      "   - Extract and define attributes or characteristics of entities that qualify as data properties, ensuring they are descriptive and not entities themselves.\n",
      "\n",
      "3. **Establish Object Properties**:\n",
      "   - Identify and define relationships between entities, ensuring these interactions are accurately captured and reflect logical dependencies or associations.\n",
      "   - Consider the context to determine how entities are interconnected, focusing on interactions like reactions or dependencies.\n",
      "\n",
      "The goal is to create a comprehensive ontology that captures the full spectrum of chemistry-related concepts, their attributes, and interrelations, providing a nuanced understanding of the chemistry domain.\n",
      "\n",
      "2024/11/22 15:49:47 INFO dspy.teleprompt.mipro_optimizer_v2: 16: Please read the provided chemistry text and extract all relevant chemistry-related entities, data properties, and object properties. Follow these steps for analysis:\n",
      "\n",
      "1. **Entity Extraction**: Identify and list significant nouns, proper nouns, and technical terms that represent key chemistry concepts such as molecules, reactions, compounds, or processes. Ensure specificity in naming to avoid ambiguity.\n",
      "\n",
      "2. **Data Property Identification**: Determine attributes or characteristics of these entities that are value-based and describe an entity's attribute. Clearly define each data property.\n",
      "\n",
      "3. **Object Property Establishment**: Identify and describe relationships between entities, focusing on interactions such as actions, associations, or dependencies. Define these relationships with clear directionality that reflects logical or functional dependencies.\n",
      "\n",
      "Your goal is to construct a comprehensive ontology that includes all identified entities, data properties, and object properties, capturing the full scope of the chemistry concepts and their interconnections described in the text.\n",
      "\n",
      "2024/11/22 15:49:47 INFO dspy.teleprompt.mipro_optimizer_v2: 17: Carefully read the provided text extracted from chemistry research papers and perform a comprehensive analysis to construct an ontology. Your task is to identify and categorize all chemistry-related entities, data properties, and object properties as follows:\n",
      "\n",
      "1. **Extract Chemistry-Related Entities**: \n",
      "   - Identify and list all significant nouns, proper nouns, and technical terms that denote chemistry-related concepts such as molecules, reactions, compounds, processes, or any notable entities.\n",
      "   - Ensure these entities cover a range of detail, from general chemical categories to specific molecular structures, to form a holistic representation of the content.\n",
      "   - Select names for these entities that are precise and self-explanatory, avoiding generic terms that lack context.\n",
      "   - Consolidate similar entities to avoid redundancy, ensuring each entity represents a unique concept at the appropriate level of granularity.\n",
      "\n",
      "2. **Identify Data Properties**: \n",
      "   - Extract and define attributes or characteristics of the identified entities that qualify as data properties, ensuring they are value-based and not entities themselves.\n",
      "   - Clearly define each data property to accurately describe an attribute or quality of an entity.\n",
      "\n",
      "3. **Establish Object Properties**: \n",
      "   - Examine the text to identify all relationships between entities, ensuring each relationship is accurately captured with detailed interaction information.\n",
      "   - Analyze the context and interactions among the identified entities to understand how they are interconnected, focusing on actions, associations, dependencies, or similarities.\n",
      "   - Clearly define these relationships, ensuring the directionality accurately reflects the logical or functional dependencies among the entities.\n",
      "\n",
      "Your objective is to produce a detailed and comprehensive ontology that encapsulates the spectrum of chemistry-related entities, data properties, and object properties mentioned in the text, along with their interrelations, capturing both broad concepts and specific details pertinent to the chemistry domain.\n",
      "\n",
      "2024/11/22 15:49:47 INFO dspy.teleprompt.mipro_optimizer_v2: 18: Carefully analyze the provided text from chemistry research papers to construct a detailed ontology by identifying all relevant chemistry-related entities, data properties, and object properties. Follow these steps for a comprehensive analysis:\n",
      "\n",
      "1. **Extract Chemistry-Related Entities**:\n",
      "   - Identify and list all significant nouns, proper nouns, and technical terms that denote chemistry-related concepts such as molecules, reactions, compounds, processes, or other key entities.\n",
      "   - Ensure a thorough capture of entities at various levels of detail, ranging from broad chemical categories to specific molecular structures, to form a complete representation of the subject matter.\n",
      "   - Assign specific and meaningful names to entities to convey their significance without needing additional context, avoiding generic terms.\n",
      "   - Consolidate similar entities to prevent redundancy, ensuring each entity distinctly represents a concept at appropriate levels of granularity.\n",
      "\n",
      "2. **Identify Data Properties**:\n",
      "   - Extract and define attributes or characteristics of the identified entities that qualify as data properties, ensuring they are value-based and distinct from entities.\n",
      "   - Clearly articulate each data property to accurately describe an attribute of an entity.\n",
      "\n",
      "3. **Establish Object Properties**:\n",
      "   - Thoroughly examine the text to identify all possible relationships between entities, ensuring each relationship is captured with precise details about the interactions.\n",
      "   - Analyze the context and interrelations between identified entities, focusing on actions, associations, dependencies, or similarities.\n",
      "   - Clearly define these relationships, ensuring accurate directionality that reflects the logical or functional dependencies among entities.\n",
      "\n",
      "**Objective**: Develop a comprehensive and detailed ontology that encapsulates the full range of chemistry-related entities, data properties, and object properties mentioned in the text, along with their interrelations, to reflect both broad concepts and intricate details specific to the chemistry domain.\n",
      "\n",
      "2024/11/22 15:49:47 INFO dspy.teleprompt.mipro_optimizer_v2: 19: You are a chemistry researcher tasked with analyzing text from research papers to construct a comprehensive ontology. Your goal is to identify all chemistry-related entities, data properties, and object properties within the text. Follow these steps to ensure a detailed representation:\n",
      "\n",
      "1. **Extract Chemistry-Related Entities**: Identify significant nouns, proper nouns, and technical terminologies that represent chemistry-related concepts, such as molecules, reactions, compounds, and processes. Capture entities across different levels of detail, from broad chemical categories to specific molecular structures, ensuring specificity and avoiding redundancy.\n",
      "\n",
      "2. **Identify Data Properties**: Extract attributes or characteristics of the identified entities that can be classified as data properties. Ensure these are value-based and clearly define each data property to accurately describe an attribute of an entity.\n",
      "\n",
      "3. **Establish Object Properties**: Examine the text to identify all relationships between entities, capturing interactions, associations, dependencies, or similarities. Define these relationships clearly, ensuring accurate directionality that reflects logical or functional dependencies among entities.\n",
      "\n",
      "Your objective is to produce a detailed and comprehensive ontology that captures the full spectrum of chemistry-related entities, data properties, and object properties mentioned in the text, along with their interrelations, reflecting both broad concepts and intricate details specific to the chemistry domain.\n",
      "\n",
      "2024/11/22 15:49:47 INFO dspy.teleprompt.mipro_optimizer_v2: 20: Using the provided text from chemistry research papers, construct a detailed ontology by identifying all relevant chemistry-related entities, data properties, and object properties. Follow these steps for a thorough analysis:\n",
      "\n",
      "1. **Extract Chemistry-Related Entities**:\n",
      "   - Pinpoint all significant nouns, proper nouns, and technical terms that signify chemistry concepts like molecules, reactions, and processes.\n",
      "   - Capture entities at various detail levels, from broad chemical categories to specific molecular structures, ensuring a comprehensive representation.\n",
      "   - Select precise names for entities to convey their meaning clearly without extra context, avoiding overly generic terms.\n",
      "   - Merge similar entities to avoid redundancy, ensuring each represents a distinct concept at appropriate granularity levels.\n",
      "\n",
      "2. **Identify Data Properties**:\n",
      "   - Extract characteristics of the identified entities that qualify as data properties, ensuring they are value-based rather than entities themselves.\n",
      "   - Define each data property clearly, ensuring it accurately describes an attribute of an entity.\n",
      "\n",
      "3. **Establish Object Properties**:\n",
      "   - Scrutinize the text to identify all relationships between entities, ensuring each relationship is accurately captured with details about the interactions.\n",
      "   - Examine the context and interactions between entities to determine their interconnections, focusing on actions, associations, dependencies, or similarities.\n",
      "   - Define the relationships clearly, ensuring accurate directionality that reflects the logical or functional dependencies among entities.\n",
      "\n",
      "Your objective is to produce a comprehensive ontology that captures the full range of chemistry-related entities, data properties, and object properties mentioned in the text, along with their interrelations. This ontology should reflect both broad concepts and intricate details specific to the chemistry domain, facilitating its use in further analysis or integration into larger knowledge systems.\n",
      "\n",
      "2024/11/22 15:49:47 INFO dspy.teleprompt.mipro_optimizer_v2: 21: You are an expert in chemistry ontology extraction. Your task is to analyze the provided text from chemistry research papers and identify all chemistry-related entities, data properties, and object properties within an ontological framework. Follow these step-by-step instructions:\n",
      "\n",
      "1. Extract Chemistry-Related Entities:\n",
      "   - Identify significant nouns, proper nouns, and technical terms that represent chemistry-related concepts, such as molecules, reactions, compounds, processes, or any substantial entities.\n",
      "   - Capture entities across different levels of detail, from broad chemical categories to specific molecular structures, to create a comprehensive representation of the subject matter.\n",
      "   - Choose specific names for entities to ensure clarity without requiring additional context, avoiding overly generic terms.\n",
      "   - Consolidate similar entities to avoid redundancy, ensuring each represents a distinct concept at appropriate granularity levels.\n",
      "\n",
      "2. Identify Data Properties:\n",
      "   - Extract attributes or characteristics of the identified entities that can be classified as data properties, ensuring they are value-based and not entities themselves.\n",
      "   - Clearly define each data property to accurately describe an attribute of an entity.\n",
      "\n",
      "3. Establish Object Properties:\n",
      "   - Examine the text to identify all relationships between entities, ensuring each relationship is captured with accurate details about the interactions.\n",
      "   - Analyze the context and interactions between the entities to determine their interconnections, focusing on actions, associations, dependencies, or similarities.\n",
      "   - Clearly define the relationships, ensuring accurate directionality that reflects the logical or functional dependencies among entities.\n",
      "\n",
      "Objective: Produce a detailed and comprehensive ontology that captures the full spectrum of chemistry-related entities, data properties, and object properties mentioned in the text, along with their interrelations, reflecting both broad concepts and intricate details specific to the chemistry domain.\n",
      "\n",
      "2024/11/22 15:49:47 INFO dspy.teleprompt.mipro_optimizer_v2: 22: You are a chemistry researcher tasked with analyzing text from research papers to construct a detailed ontology. Your goal is to identify all chemistry-related entities, data properties, and object properties within an ontological framework. Follow these steps:\n",
      "\n",
      "1. Extract Chemistry-Related Entities:\n",
      "   - Identify significant nouns, proper nouns, and technical terminologies that represent chemistry-related concepts, such as molecules, reactions, compounds, and processes.\n",
      "   - Capture entities across various levels of detail, from broad chemical categories to specific molecular structures, ensuring a comprehensive representation of the subject matter.\n",
      "   - Choose specific names for entities that convey their meaning without additional context, avoiding overly generic terms.\n",
      "   - Consolidate similar entities to avoid redundancy, ensuring each represents a distinct concept at appropriate granularity levels.\n",
      "\n",
      "2. Identify Data Properties:\n",
      "   - Extract attributes or characteristics of the identified entities that can be classified as data properties, ensuring they are value-based and not entities themselves.\n",
      "   - Clearly define each data property to accurately describe an attribute of an entity.\n",
      "\n",
      "3. Establish Object Properties:\n",
      "   - Examine the text to identify all relationships between entities, capturing interactions, dependencies, or associations accurately.\n",
      "   - Analyze the context and interactions between entities to determine how they are interconnected, focusing on actions, associations, dependencies, or similarities.\n",
      "   - Clearly define the relationships, ensuring accurate directionality that reflects the logical or functional dependencies among entities.\n",
      "\n",
      "Objective: Produce a detailed and comprehensive ontology that captures the full spectrum of chemistry-related entities, data properties, and object properties mentioned in the text, along with their interrelations, reflecting both broad concepts and intricate details specific to the chemistry domain.\n",
      "\n",
      "2024/11/22 15:49:47 INFO dspy.teleprompt.mipro_optimizer_v2: 23: Imagine you are a scientist tasked with constructing a comprehensive ontology from a chemistry research paper that will be used to enhance an AI system's understanding of chemical interactions. Your goal is to meticulously identify and extract all chemistry-related entities, data properties, and object properties from the text. This ontology will serve as a critical component in developing advanced AI models for chemical research, where precision and depth of understanding are paramount.\n",
      "\n",
      "To achieve this, follow these steps:\n",
      "\n",
      "1. **Extract Chemistry-Related Entities**:\n",
      "   - Identify all significant nouns, proper nouns, and technical terminologies that represent chemistry-related concepts, such as molecules, reactions, compounds, processes, or any substantial entities.\n",
      "   - Ensure that you capture entities across different levels of detail, from broad chemical categories to specific molecular structures, to create a comprehensive representation of the subject matter.\n",
      "   - Choose names for entities that are specific enough to indicate their meaning without additional context, avoiding overly generic terms.\n",
      "   - Consolidate similar entities to avoid redundancy, ensuring each represents a distinct concept at appropriate granularity levels.\n",
      "\n",
      "2. **Identify Data Properties**:\n",
      "   - Extract attributes or characteristics of the identified entities that can be classified as data properties, ensuring they are value-based and not entities themselves.\n",
      "   - Clearly define each data property, ensuring it accurately describes an attribute of an entity.\n",
      "\n",
      "3. **Establish Object Properties**:\n",
      "   - Carefully examine the text to identify all relationships between entities, ensuring each relationship is correctly captured with accurate details about the interactions.\n",
      "   - Analyze the context and interactions between the identified entities to determine how they are interconnected, focusing on actions, associations, dependencies, or similarities.\n",
      "   - Clearly define the relationships, ensuring accurate directionality that reflects the logical or functional dependencies among entities.\n",
      "\n",
      "By completing this task, you will contribute to the creation of a detailed and comprehensive ontology that captures the full spectrum of chemistry-related entities, data properties, and object properties mentioned in the text, along with their interrelations. This ontology will play a crucial role in advancing AI's capability to process and understand complex chemical data, ultimately aiding in scientific discovery and innovation.\n",
      "\n",
      "2024/11/22 15:49:47 INFO dspy.teleprompt.mipro_optimizer_v2: 24: Please analyze the provided text from chemistry research papers to construct a detailed ontology. Your task is to identify all chemistry-related entities, data properties, and object properties. Follow these steps:\n",
      "\n",
      "1. Extract Chemistry-Related Entities:\n",
      "   - Identify significant nouns, proper nouns, and technical terms that represent chemistry concepts like molecules, reactions, compounds, and processes.\n",
      "   - Capture entities at various levels of detail, ensuring specificity and avoiding redundancy.\n",
      "\n",
      "2. Identify Data Properties:\n",
      "   - Extract attributes or characteristics of the entities that are value-based, not entities themselves, and define them clearly.\n",
      "\n",
      "3. Establish Object Properties:\n",
      "   - Identify and define relationships between entities, focusing on interactions, associations, dependencies, or similarities, ensuring correct directionality.\n",
      "\n",
      "Your goal is to produce a comprehensive ontology that reflects the chemistry-related entities, their attributes, and interrelations as described in the text.\n",
      "\n",
      "2024/11/22 15:49:47 INFO dspy.teleprompt.mipro_optimizer_v2: \n",
      "\n",
      "2024/11/22 15:49:47 INFO dspy.teleprompt.mipro_optimizer_v2: Evaluating the default program...\n",
      "\n"
     ]
    },
    {
     "name": "stdout",
     "output_type": "stream",
     "text": [
      "  0%|          | 0/80 [00:00<?, ?it/s]"
     ]
    },
    {
     "name": "stderr",
     "output_type": "stream",
     "text": [
      "<unknown>:5: SyntaxWarning: invalid escape sequence '\\m'\n",
      "<unknown>:9: SyntaxWarning: invalid escape sequence '\\m'\n",
      "<unknown>:13: SyntaxWarning: invalid escape sequence '\\m'\n",
      "<unknown>:17: SyntaxWarning: invalid escape sequence '\\m'\n",
      "<unknown>:21: SyntaxWarning: invalid escape sequence '\\m'\n",
      "<unknown>:25: SyntaxWarning: invalid escape sequence '\\m'\n",
      "<unknown>:31: SyntaxWarning: invalid escape sequence '\\m'\n",
      "<unknown>:40: SyntaxWarning: invalid escape sequence '\\m'\n",
      "<unknown>:47: SyntaxWarning: invalid escape sequence '\\m'\n",
      "<unknown>:54: SyntaxWarning: invalid escape sequence '\\m'\n",
      "<unknown>:61: SyntaxWarning: invalid escape sequence '\\m'\n",
      "<unknown>:68: SyntaxWarning: invalid escape sequence '\\m'\n"
     ]
    },
    {
     "name": "stdout",
     "output_type": "stream",
     "text": [
      "Average Metric: 13.04 / 15 (86.9%):  19%|█▉        | 15/80 [01:16<04:47,  4.42s/it]"
     ]
    },
    {
     "name": "stderr",
     "output_type": "stream",
     "text": [
      "<unknown>:5: SyntaxWarning: invalid escape sequence '\\m'\n",
      "<unknown>:9: SyntaxWarning: invalid escape sequence '\\m'\n",
      "<unknown>:13: SyntaxWarning: invalid escape sequence '\\m'\n",
      "<unknown>:17: SyntaxWarning: invalid escape sequence '\\,'\n",
      "<unknown>:23: SyntaxWarning: invalid escape sequence '\\m'\n",
      "<unknown>:27: SyntaxWarning: invalid escape sequence '\\m'\n",
      "<unknown>:31: SyntaxWarning: invalid escape sequence '\\m'\n",
      "<unknown>:40: SyntaxWarning: invalid escape sequence '\\m'\n",
      "<unknown>:47: SyntaxWarning: invalid escape sequence '\\m'\n"
     ]
    },
    {
     "name": "stdout",
     "output_type": "stream",
     "text": [
      "Average Metric: 38.59 / 44 (87.7%):  55%|█████▌    | 44/80 [03:30<02:43,  4.54s/it]"
     ]
    },
    {
     "name": "stderr",
     "output_type": "stream",
     "text": [
      "<unknown>:19: SyntaxWarning: invalid escape sequence '\\c'\n",
      "<unknown>:28: SyntaxWarning: invalid escape sequence '\\c'\n"
     ]
    },
    {
     "name": "stdout",
     "output_type": "stream",
     "text": [
      "Average Metric: 42.26 / 48 (88.0%):  60%|██████    | 48/80 [03:44<01:53,  3.55s/it]"
     ]
    },
    {
     "name": "stderr",
     "output_type": "stream",
     "text": [
      "<unknown>:5: SyntaxWarning: invalid escape sequence '\\m'\n",
      "<unknown>:9: SyntaxWarning: invalid escape sequence '\\m'\n",
      "<unknown>:13: SyntaxWarning: invalid escape sequence '\\m'\n"
     ]
    },
    {
     "name": "stdout",
     "output_type": "stream",
     "text": [
      "Average Metric: 70.37 / 80 (88.0%): 100%|██████████| 80/80 [06:00<00:00,  4.51s/it]"
     ]
    },
    {
     "name": "stderr",
     "output_type": "stream",
     "text": [
      "2024/11/22 15:55:48 INFO dspy.evaluate.evaluate: Average Metric: 70.37037037037037 / 80 (88.0%)\n",
      "2024/11/22 15:55:48 INFO dspy.teleprompt.mipro_optimizer_v2: Default program score: 87.96\n",
      "\n",
      "2024/11/22 15:55:48 INFO dspy.teleprompt.mipro_optimizer_v2: ==> STEP 3: FINDING OPTIMAL PROMPT PARAMETERS <==\n",
      "2024/11/22 15:55:48 INFO dspy.teleprompt.mipro_optimizer_v2: We will evaluate the program over a series of trials with different combinations of instructions and few-shot examples to find the optimal combination using Bayesian Optimization.\n",
      "\n",
      "d:\\AnacondaEnPs\\envs\\OntologyConstruction\\Lib\\site-packages\\optuna\\_experimental.py:31: ExperimentalWarning: Argument ``multivariate`` is an experimental feature. The interface can change in the future.\n",
      "  warnings.warn(\n",
      "2024/11/22 15:55:48 INFO dspy.teleprompt.mipro_optimizer_v2: == Minibatch Trial 1 / 25 ==\n"
     ]
    },
    {
     "name": "stdout",
     "output_type": "stream",
     "text": [
      "\n",
      "  0%|          | 0/25 [00:00<?, ?it/s]"
     ]
    },
    {
     "name": "stderr",
     "output_type": "stream",
     "text": [
      "<unknown>:23: SyntaxWarning: invalid escape sequence '\\c'\n",
      "<unknown>:32: SyntaxWarning: invalid escape sequence '\\c'\n",
      "<unknown>:39: SyntaxWarning: invalid escape sequence '\\c'\n"
     ]
    },
    {
     "name": "stdout",
     "output_type": "stream",
     "text": [
      "Average Metric: 22.00 / 25 (88.0%): 100%|██████████| 25/25 [01:53<00:00,  4.53s/it]"
     ]
    },
    {
     "name": "stderr",
     "output_type": "stream",
     "text": [
      "2024/11/22 15:57:41 INFO dspy.evaluate.evaluate: Average Metric: 22.0 / 25 (88.0%)\n",
      "2024/11/22 15:57:41 INFO dspy.teleprompt.mipro_optimizer_v2: Score: 88.0 on minibatch of size 25 with parameters ['Predictor 0: Instruction 12'].\n",
      "2024/11/22 15:57:41 INFO dspy.teleprompt.mipro_optimizer_v2: Minibatch scores so far: [88.0]\n",
      "2024/11/22 15:57:41 INFO dspy.teleprompt.mipro_optimizer_v2: Full eval scores so far: [87.96]\n",
      "2024/11/22 15:57:41 INFO dspy.teleprompt.mipro_optimizer_v2: Best full score so far: 87.96\n",
      "2024/11/22 15:57:41 INFO dspy.teleprompt.mipro_optimizer_v2: ============================\n",
      "\n",
      "\n",
      "2024/11/22 15:57:41 INFO dspy.teleprompt.mipro_optimizer_v2: == Minibatch Trial 2 / 25 ==\n"
     ]
    },
    {
     "name": "stdout",
     "output_type": "stream",
     "text": [
      "\n",
      "  0%|          | 0/25 [00:00<?, ?it/s]"
     ]
    },
    {
     "name": "stderr",
     "output_type": "stream",
     "text": [
      "<unknown>:23: SyntaxWarning: invalid escape sequence '\\c'\n",
      "<unknown>:32: SyntaxWarning: invalid escape sequence '\\c'\n"
     ]
    },
    {
     "name": "stdout",
     "output_type": "stream",
     "text": [
      "Average Metric: 21.44 / 25 (85.8%): 100%|██████████| 25/25 [02:10<00:00,  5.20s/it]"
     ]
    },
    {
     "name": "stderr",
     "output_type": "stream",
     "text": [
      "2024/11/22 15:59:51 INFO dspy.evaluate.evaluate: Average Metric: 21.444444444444443 / 25 (85.8%)\n",
      "2024/11/22 15:59:51 INFO dspy.teleprompt.mipro_optimizer_v2: Score: 85.78 on minibatch of size 25 with parameters ['Predictor 0: Instruction 1'].\n",
      "2024/11/22 15:59:51 INFO dspy.teleprompt.mipro_optimizer_v2: Minibatch scores so far: [88.0, 85.78]\n",
      "2024/11/22 15:59:51 INFO dspy.teleprompt.mipro_optimizer_v2: Full eval scores so far: [87.96]\n",
      "2024/11/22 15:59:51 INFO dspy.teleprompt.mipro_optimizer_v2: Best full score so far: 87.96\n",
      "2024/11/22 15:59:51 INFO dspy.teleprompt.mipro_optimizer_v2: ============================\n",
      "\n",
      "\n",
      "2024/11/22 15:59:51 INFO dspy.teleprompt.mipro_optimizer_v2: == Minibatch Trial 3 / 25 ==\n"
     ]
    },
    {
     "name": "stdout",
     "output_type": "stream",
     "text": [
      "\n",
      "Average Metric: 4.19 / 5 (83.7%):  20%|██        | 5/25 [00:23<01:14,  3.71s/it]"
     ]
    },
    {
     "name": "stderr",
     "output_type": "stream",
     "text": [
      "<unknown>:5: SyntaxWarning: invalid escape sequence '\\m'\n"
     ]
    },
    {
     "name": "stdout",
     "output_type": "stream",
     "text": [
      "Average Metric: 14.52 / 17 (85.4%):  68%|██████▊   | 17/25 [01:24<00:33,  4.21s/it]"
     ]
    },
    {
     "name": "stderr",
     "output_type": "stream",
     "text": [
      "<unknown>:5: SyntaxWarning: invalid escape sequence '\\,'\n",
      "<unknown>:9: SyntaxWarning: invalid escape sequence '\\m'\n",
      "<unknown>:13: SyntaxWarning: invalid escape sequence '\\m'\n",
      "<unknown>:17: SyntaxWarning: invalid escape sequence '\\m'\n",
      "<unknown>:27: SyntaxWarning: invalid escape sequence '\\,'\n",
      "<unknown>:31: SyntaxWarning: invalid escape sequence '\\m'\n",
      "<unknown>:35: SyntaxWarning: invalid escape sequence '\\m'\n",
      "<unknown>:39: SyntaxWarning: invalid escape sequence '\\m'\n",
      "<unknown>:48: SyntaxWarning: invalid escape sequence '\\m'\n",
      "<unknown>:55: SyntaxWarning: invalid escape sequence '\\m'\n"
     ]
    },
    {
     "name": "stdout",
     "output_type": "stream",
     "text": [
      "Average Metric: 21.63 / 25 (86.5%): 100%|██████████| 25/25 [02:08<00:00,  5.15s/it]"
     ]
    },
    {
     "name": "stderr",
     "output_type": "stream",
     "text": [
      "2024/11/22 16:02:00 INFO dspy.evaluate.evaluate: Average Metric: 21.62962962962963 / 25 (86.5%)\n",
      "2024/11/22 16:02:00 INFO dspy.teleprompt.mipro_optimizer_v2: Score: 86.52 on minibatch of size 25 with parameters ['Predictor 0: Instruction 14'].\n",
      "2024/11/22 16:02:00 INFO dspy.teleprompt.mipro_optimizer_v2: Minibatch scores so far: [88.0, 85.78, 86.52]\n",
      "2024/11/22 16:02:00 INFO dspy.teleprompt.mipro_optimizer_v2: Full eval scores so far: [87.96]\n",
      "2024/11/22 16:02:00 INFO dspy.teleprompt.mipro_optimizer_v2: Best full score so far: 87.96\n",
      "2024/11/22 16:02:00 INFO dspy.teleprompt.mipro_optimizer_v2: ============================\n",
      "\n",
      "\n",
      "2024/11/22 16:02:00 INFO dspy.teleprompt.mipro_optimizer_v2: == Minibatch Trial 4 / 25 ==\n"
     ]
    },
    {
     "name": "stdout",
     "output_type": "stream",
     "text": [
      "\n",
      "Average Metric: 2.63 / 3 (87.7%):  12%|█▏        | 3/25 [00:32<02:54,  7.91s/it]"
     ]
    },
    {
     "name": "stderr",
     "output_type": "stream",
     "text": [
      "<unknown>:5: SyntaxWarning: invalid escape sequence '\\m'\n",
      "<unknown>:9: SyntaxWarning: invalid escape sequence '\\m'\n",
      "<unknown>:13: SyntaxWarning: invalid escape sequence '\\m'\n",
      "<unknown>:19: SyntaxWarning: invalid escape sequence '\\m'\n"
     ]
    },
    {
     "name": "stdout",
     "output_type": "stream",
     "text": [
      "Average Metric: 3.56 / 4 (88.9%):  16%|█▌        | 4/25 [00:36<02:11,  6.25s/it]"
     ]
    },
    {
     "name": "stderr",
     "output_type": "stream",
     "text": [
      "<unknown>:5: SyntaxWarning: invalid escape sequence '\\m'\n"
     ]
    },
    {
     "name": "stdout",
     "output_type": "stream",
     "text": [
      "Average Metric: 5.33 / 6 (88.9%):  24%|██▍       | 6/25 [00:43<01:31,  4.82s/it]"
     ]
    },
    {
     "name": "stderr",
     "output_type": "stream",
     "text": [
      "<unknown>:19: SyntaxWarning: invalid escape sequence '\\c'\n"
     ]
    },
    {
     "name": "stdout",
     "output_type": "stream",
     "text": [
      "Average Metric: 21.96 / 25 (87.9%): 100%|██████████| 25/25 [02:26<00:00,  5.87s/it]"
     ]
    },
    {
     "name": "stderr",
     "output_type": "stream",
     "text": [
      "2024/11/22 16:04:26 INFO dspy.evaluate.evaluate: Average Metric: 21.962962962962962 / 25 (87.9%)\n",
      "2024/11/22 16:04:26 INFO dspy.teleprompt.mipro_optimizer_v2: Score: 87.85 on minibatch of size 25 with parameters ['Predictor 0: Instruction 8'].\n",
      "2024/11/22 16:04:26 INFO dspy.teleprompt.mipro_optimizer_v2: Minibatch scores so far: [88.0, 85.78, 86.52, 87.85]\n",
      "2024/11/22 16:04:26 INFO dspy.teleprompt.mipro_optimizer_v2: Full eval scores so far: [87.96]\n",
      "2024/11/22 16:04:26 INFO dspy.teleprompt.mipro_optimizer_v2: Best full score so far: 87.96\n",
      "2024/11/22 16:04:26 INFO dspy.teleprompt.mipro_optimizer_v2: ============================\n",
      "\n",
      "\n",
      "2024/11/22 16:04:26 INFO dspy.teleprompt.mipro_optimizer_v2: == Minibatch Trial 5 / 25 ==\n"
     ]
    },
    {
     "name": "stdout",
     "output_type": "stream",
     "text": [
      "\n",
      "  0%|          | 0/25 [00:00<?, ?it/s]"
     ]
    },
    {
     "name": "stderr",
     "output_type": "stream",
     "text": [
      "<unknown>:25: SyntaxWarning: invalid escape sequence '\\m'\n",
      "<unknown>:31: SyntaxWarning: invalid escape sequence '\\m'\n",
      "<unknown>:40: SyntaxWarning: invalid escape sequence '\\m'\n"
     ]
    },
    {
     "name": "stdout",
     "output_type": "stream",
     "text": [
      "Average Metric: 21.74 / 25 (87.0%): 100%|██████████| 25/25 [02:16<00:00,  5.46s/it]"
     ]
    },
    {
     "name": "stderr",
     "output_type": "stream",
     "text": [
      "2024/11/22 16:06:43 INFO dspy.evaluate.evaluate: Average Metric: 21.74074074074074 / 25 (87.0%)\n",
      "2024/11/22 16:06:43 INFO dspy.teleprompt.mipro_optimizer_v2: Score: 86.96 on minibatch of size 25 with parameters ['Predictor 0: Instruction 13'].\n",
      "2024/11/22 16:06:43 INFO dspy.teleprompt.mipro_optimizer_v2: Minibatch scores so far: [88.0, 85.78, 86.52, 87.85, 86.96]\n",
      "2024/11/22 16:06:43 INFO dspy.teleprompt.mipro_optimizer_v2: Full eval scores so far: [87.96]\n",
      "2024/11/22 16:06:43 INFO dspy.teleprompt.mipro_optimizer_v2: Best full score so far: 87.96\n",
      "2024/11/22 16:06:43 INFO dspy.teleprompt.mipro_optimizer_v2: ============================\n",
      "\n",
      "\n",
      "2024/11/22 16:06:43 INFO dspy.teleprompt.mipro_optimizer_v2: == Minibatch Trial 6 / 25 ==\n"
     ]
    },
    {
     "name": "stdout",
     "output_type": "stream",
     "text": [
      "\n",
      "Average Metric: 4.07 / 5 (81.5%):  20%|██        | 5/25 [00:30<01:21,  4.09s/it]"
     ]
    },
    {
     "name": "stderr",
     "output_type": "stream",
     "text": [
      "<unknown>:5: SyntaxWarning: invalid escape sequence '\\e'\n",
      "<unknown>:9: SyntaxWarning: invalid escape sequence '\\e'\n",
      "<unknown>:13: SyntaxWarning: invalid escape sequence '\\e'\n",
      "<unknown>:19: SyntaxWarning: invalid escape sequence '\\e'\n",
      "<unknown>:28: SyntaxWarning: invalid escape sequence '\\e'\n"
     ]
    },
    {
     "name": "stdout",
     "output_type": "stream",
     "text": [
      "Average Metric: 22.11 / 25 (88.4%): 100%|██████████| 25/25 [02:04<00:00,  5.00s/it]"
     ]
    },
    {
     "name": "stderr",
     "output_type": "stream",
     "text": [
      "2024/11/22 16:08:48 INFO dspy.evaluate.evaluate: Average Metric: 22.11111111111111 / 25 (88.4%)\n",
      "2024/11/22 16:08:48 INFO dspy.teleprompt.mipro_optimizer_v2: Score: 88.44 on minibatch of size 25 with parameters ['Predictor 0: Instruction 4'].\n",
      "2024/11/22 16:08:48 INFO dspy.teleprompt.mipro_optimizer_v2: Minibatch scores so far: [88.0, 85.78, 86.52, 87.85, 86.96, 88.44]\n",
      "2024/11/22 16:08:48 INFO dspy.teleprompt.mipro_optimizer_v2: Full eval scores so far: [87.96]\n",
      "2024/11/22 16:08:48 INFO dspy.teleprompt.mipro_optimizer_v2: Best full score so far: 87.96\n",
      "2024/11/22 16:08:48 INFO dspy.teleprompt.mipro_optimizer_v2: ============================\n",
      "\n",
      "\n",
      "2024/11/22 16:08:48 INFO dspy.teleprompt.mipro_optimizer_v2: == Minibatch Trial 7 / 25 ==\n"
     ]
    },
    {
     "name": "stdout",
     "output_type": "stream",
     "text": [
      "\n",
      "Average Metric: 9.85 / 12 (82.1%):  48%|████▊     | 12/25 [00:48<00:24,  1.86s/it]"
     ]
    },
    {
     "name": "stderr",
     "output_type": "stream",
     "text": [
      "<unknown>:13: SyntaxWarning: invalid escape sequence '\\e'\n",
      "<unknown>:19: SyntaxWarning: invalid escape sequence '\\e'\n",
      "<unknown>:13: SyntaxWarning: invalid escape sequence '\\m'\n",
      "<unknown>:23: SyntaxWarning: invalid escape sequence '\\m'\n",
      "<unknown>:32: SyntaxWarning: invalid escape sequence '\\m'\n"
     ]
    },
    {
     "name": "stdout",
     "output_type": "stream",
     "text": [
      "Average Metric: 21.11 / 25 (84.4%): 100%|██████████| 25/25 [01:43<00:00,  4.12s/it]"
     ]
    },
    {
     "name": "stderr",
     "output_type": "stream",
     "text": [
      "2024/11/22 16:10:31 INFO dspy.evaluate.evaluate: Average Metric: 21.11111111111111 / 25 (84.4%)\n",
      "2024/11/22 16:10:31 INFO dspy.teleprompt.mipro_optimizer_v2: Score: 84.44 on minibatch of size 25 with parameters ['Predictor 0: Instruction 10'].\n",
      "2024/11/22 16:10:31 INFO dspy.teleprompt.mipro_optimizer_v2: Minibatch scores so far: [88.0, 85.78, 86.52, 87.85, 86.96, 88.44, 84.44]\n",
      "2024/11/22 16:10:31 INFO dspy.teleprompt.mipro_optimizer_v2: Full eval scores so far: [87.96]\n",
      "2024/11/22 16:10:31 INFO dspy.teleprompt.mipro_optimizer_v2: Best full score so far: 87.96\n",
      "2024/11/22 16:10:31 INFO dspy.teleprompt.mipro_optimizer_v2: ============================\n",
      "\n",
      "\n",
      "2024/11/22 16:10:31 INFO dspy.teleprompt.mipro_optimizer_v2: == Minibatch Trial 8 / 25 ==\n"
     ]
    },
    {
     "name": "stdout",
     "output_type": "stream",
     "text": [
      "\n",
      "Average Metric: 0.74 / 1 (74.1%):   0%|          | 0/25 [00:00<?, ?it/s]"
     ]
    },
    {
     "name": "stderr",
     "output_type": "stream",
     "text": [
      "<unknown>:23: SyntaxWarning: invalid escape sequence '\\c'\n",
      "<unknown>:39: SyntaxWarning: invalid escape sequence '\\c'\n"
     ]
    },
    {
     "name": "stdout",
     "output_type": "stream",
     "text": [
      "Average Metric: 11.48 / 13 (88.3%):  52%|█████▏    | 13/25 [00:58<00:59,  4.92s/it]"
     ]
    },
    {
     "name": "stderr",
     "output_type": "stream",
     "text": [
      "<unknown>:13: SyntaxWarning: invalid escape sequence '\\e'\n",
      "<unknown>:17: SyntaxWarning: invalid escape sequence '\\e'\n",
      "<unknown>:23: SyntaxWarning: invalid escape sequence '\\e'\n",
      "<unknown>:32: SyntaxWarning: invalid escape sequence '\\e'\n",
      "<unknown>:39: SyntaxWarning: invalid escape sequence '\\e'\n"
     ]
    },
    {
     "name": "stdout",
     "output_type": "stream",
     "text": [
      "Average Metric: 21.93 / 25 (87.7%): 100%|██████████| 25/25 [02:21<00:00,  5.66s/it]"
     ]
    },
    {
     "name": "stderr",
     "output_type": "stream",
     "text": [
      "2024/11/22 16:12:52 INFO dspy.evaluate.evaluate: Average Metric: 21.925925925925924 / 25 (87.7%)\n",
      "2024/11/22 16:12:52 INFO dspy.teleprompt.mipro_optimizer_v2: Score: 87.7 on minibatch of size 25 with parameters ['Predictor 0: Instruction 14'].\n",
      "2024/11/22 16:12:52 INFO dspy.teleprompt.mipro_optimizer_v2: Minibatch scores so far: [88.0, 85.78, 86.52, 87.85, 86.96, 88.44, 84.44, 87.7]\n",
      "2024/11/22 16:12:52 INFO dspy.teleprompt.mipro_optimizer_v2: Full eval scores so far: [87.96]\n",
      "2024/11/22 16:12:52 INFO dspy.teleprompt.mipro_optimizer_v2: Best full score so far: 87.96\n",
      "2024/11/22 16:12:52 INFO dspy.teleprompt.mipro_optimizer_v2: ============================\n",
      "\n",
      "\n",
      "2024/11/22 16:12:52 INFO dspy.teleprompt.mipro_optimizer_v2: == Minibatch Trial 9 / 25 ==\n"
     ]
    },
    {
     "name": "stdout",
     "output_type": "stream",
     "text": [
      "\n",
      "Average Metric: 10.67 / 13 (82.1%):  48%|████▊     | 12/25 [01:51<03:28, 16.04s/it]"
     ]
    },
    {
     "name": "stderr",
     "output_type": "stream",
     "text": [
      "<unknown>:13: SyntaxWarning: invalid escape sequence '\\m'\n",
      "<unknown>:17: SyntaxWarning: invalid escape sequence '\\m'\n",
      "<unknown>:31: SyntaxWarning: invalid escape sequence '\\m'\n",
      "<unknown>:35: SyntaxWarning: invalid escape sequence '\\m'\n",
      "<unknown>:44: SyntaxWarning: invalid escape sequence '\\m'\n",
      "<unknown>:51: SyntaxWarning: invalid escape sequence '\\m'\n"
     ]
    },
    {
     "name": "stdout",
     "output_type": "stream",
     "text": [
      "Average Metric: 13.37 / 16 (83.6%):  60%|██████    | 15/25 [02:23<01:48, 10.87s/it]"
     ]
    },
    {
     "name": "stderr",
     "output_type": "stream",
     "text": [
      "<unknown>:13: SyntaxWarning: invalid escape sequence '\\m'\n",
      "<unknown>:23: SyntaxWarning: invalid escape sequence '\\m'\n",
      "<unknown>:32: SyntaxWarning: invalid escape sequence '\\m'\n"
     ]
    },
    {
     "name": "stdout",
     "output_type": "stream",
     "text": [
      "Average Metric: 19.67 / 23 (85.5%):  92%|█████████▏| 23/25 [03:19<00:15,  7.83s/it]"
     ]
    },
    {
     "name": "stderr",
     "output_type": "stream",
     "text": [
      "<unknown>:5: SyntaxWarning: invalid escape sequence '\\m'\n",
      "<unknown>:9: SyntaxWarning: invalid escape sequence '\\m'\n",
      "<unknown>:13: SyntaxWarning: invalid escape sequence '\\m'\n",
      "<unknown>:17: SyntaxWarning: invalid escape sequence '\\m'\n",
      "<unknown>:31: SyntaxWarning: invalid escape sequence '\\m'\n",
      "<unknown>:35: SyntaxWarning: invalid escape sequence '\\m'\n",
      "<unknown>:44: SyntaxWarning: invalid escape sequence '\\m'\n",
      "<unknown>:51: SyntaxWarning: invalid escape sequence '\\m'\n",
      "<unknown>:58: SyntaxWarning: invalid escape sequence '\\m'\n",
      "<unknown>:65: SyntaxWarning: invalid escape sequence '\\m'\n",
      "<unknown>:72: SyntaxWarning: invalid escape sequence '\\m'\n"
     ]
    },
    {
     "name": "stdout",
     "output_type": "stream",
     "text": [
      "Average Metric: 21.48 / 25 (85.9%): 100%|██████████| 25/25 [03:36<00:00,  8.66s/it]"
     ]
    },
    {
     "name": "stderr",
     "output_type": "stream",
     "text": [
      "2024/11/22 16:16:29 INFO dspy.evaluate.evaluate: Average Metric: 21.48148148148148 / 25 (85.9%)\n",
      "2024/11/22 16:16:29 INFO dspy.teleprompt.mipro_optimizer_v2: Score: 85.93 on minibatch of size 25 with parameters ['Predictor 0: Instruction 10'].\n",
      "2024/11/22 16:16:29 INFO dspy.teleprompt.mipro_optimizer_v2: Minibatch scores so far: [88.0, 85.78, 86.52, 87.85, 86.96, 88.44, 84.44, 87.7, 85.93]\n",
      "2024/11/22 16:16:29 INFO dspy.teleprompt.mipro_optimizer_v2: Full eval scores so far: [87.96]\n",
      "2024/11/22 16:16:29 INFO dspy.teleprompt.mipro_optimizer_v2: Best full score so far: 87.96\n",
      "2024/11/22 16:16:29 INFO dspy.teleprompt.mipro_optimizer_v2: ============================\n",
      "\n",
      "\n",
      "2024/11/22 16:16:29 INFO dspy.teleprompt.mipro_optimizer_v2: == Minibatch Trial 10 / 25 ==\n"
     ]
    },
    {
     "name": "stdout",
     "output_type": "stream",
     "text": [
      "\n",
      "Average Metric: 4.41 / 5 (88.1%):  16%|█▌        | 4/25 [00:00<00:00, 746.88it/s] "
     ]
    },
    {
     "name": "stderr",
     "output_type": "stream",
     "text": [
      "<unknown>:23: SyntaxWarning: invalid escape sequence '\\c'\n",
      "<unknown>:32: SyntaxWarning: invalid escape sequence '\\c'\n"
     ]
    },
    {
     "name": "stdout",
     "output_type": "stream",
     "text": [
      "Average Metric: 22.00 / 25 (88.0%): 100%|██████████| 25/25 [01:23<00:00,  3.35s/it]"
     ]
    },
    {
     "name": "stderr",
     "output_type": "stream",
     "text": [
      "2024/11/22 16:17:53 INFO dspy.evaluate.evaluate: Average Metric: 22.0 / 25 (88.0%)\n",
      "2024/11/22 16:17:53 INFO dspy.teleprompt.mipro_optimizer_v2: Score: 88.0 on minibatch of size 25 with parameters ['Predictor 0: Instruction 10'].\n",
      "2024/11/22 16:17:53 INFO dspy.teleprompt.mipro_optimizer_v2: Minibatch scores so far: [88.0, 85.78, 86.52, 87.85, 86.96, 88.44, 84.44, 87.7, 85.93, 88.0]\n",
      "2024/11/22 16:17:53 INFO dspy.teleprompt.mipro_optimizer_v2: Full eval scores so far: [87.96]\n",
      "2024/11/22 16:17:53 INFO dspy.teleprompt.mipro_optimizer_v2: Best full score so far: 87.96\n",
      "2024/11/22 16:17:53 INFO dspy.teleprompt.mipro_optimizer_v2: =============================\n",
      "\n",
      "\n",
      "2024/11/22 16:17:53 INFO dspy.teleprompt.mipro_optimizer_v2: ===== Full Eval 1 =====\n",
      "2024/11/22 16:17:53 INFO dspy.teleprompt.mipro_optimizer_v2: Doing full eval on next top averaging program (Avg Score: 88.44) from minibatch trials...\n"
     ]
    },
    {
     "name": "stdout",
     "output_type": "stream",
     "text": [
      "\n",
      "Average Metric: 29.22 / 33 (88.6%):  40%|████      | 32/80 [02:04<02:05,  2.61s/it]"
     ]
    },
    {
     "name": "stderr",
     "output_type": "stream",
     "text": [
      "<unknown>:5: SyntaxWarning: invalid escape sequence '\\e'\n",
      "<unknown>:9: SyntaxWarning: invalid escape sequence '\\e'\n",
      "<unknown>:13: SyntaxWarning: invalid escape sequence '\\e'\n",
      "<unknown>:19: SyntaxWarning: invalid escape sequence '\\e'\n",
      "<unknown>:28: SyntaxWarning: invalid escape sequence '\\e'\n"
     ]
    },
    {
     "name": "stdout",
     "output_type": "stream",
     "text": [
      "Average Metric: 39.04 / 44 (88.7%):  55%|█████▌    | 44/80 [02:37<01:25,  2.37s/it]"
     ]
    },
    {
     "name": "stderr",
     "output_type": "stream",
     "text": [
      "<unknown>:23: SyntaxWarning: invalid escape sequence '\\c'\n"
     ]
    },
    {
     "name": "stdout",
     "output_type": "stream",
     "text": [
      "Average Metric: 39.81 / 45 (88.5%):  56%|█████▋    | 45/80 [02:43<01:57,  3.36s/it]"
     ]
    },
    {
     "name": "stderr",
     "output_type": "stream",
     "text": [
      "<unknown>:13: SyntaxWarning: invalid escape sequence '\\m'\n",
      "<unknown>:17: SyntaxWarning: invalid escape sequence '\\m'\n",
      "<unknown>:21: SyntaxWarning: invalid escape sequence '\\m'\n",
      "<unknown>:35: SyntaxWarning: invalid escape sequence '\\m'\n",
      "<unknown>:39: SyntaxWarning: invalid escape sequence '\\m'\n",
      "<unknown>:48: SyntaxWarning: invalid escape sequence '\\m'\n",
      "<unknown>:55: SyntaxWarning: invalid escape sequence '\\m'\n"
     ]
    },
    {
     "name": "stdout",
     "output_type": "stream",
     "text": [
      "Average Metric: 49.19 / 56 (87.8%):  69%|██████▉   | 55/80 [03:01<00:40,  1.60s/it]"
     ]
    },
    {
     "name": "stderr",
     "output_type": "stream",
     "text": [
      "<unknown>:13: SyntaxWarning: invalid escape sequence '\\m'\n",
      "<unknown>:23: SyntaxWarning: invalid escape sequence '\\m'\n",
      "<unknown>:32: SyntaxWarning: invalid escape sequence '\\m'\n"
     ]
    },
    {
     "name": "stdout",
     "output_type": "stream",
     "text": [
      "Average Metric: 70.44 / 80 (88.1%): 100%|██████████| 80/80 [04:24<00:00,  3.30s/it]"
     ]
    },
    {
     "name": "stderr",
     "output_type": "stream",
     "text": [
      "2024/11/22 16:22:17 INFO dspy.evaluate.evaluate: Average Metric: 70.44444444444444 / 80 (88.1%)\n",
      "2024/11/22 16:22:17 INFO dspy.teleprompt.mipro_optimizer_v2: \u001b[92mNew best full eval score!\u001b[0m Score: 88.06\n",
      "2024/11/22 16:22:17 INFO dspy.teleprompt.mipro_optimizer_v2: Full eval scores so far: [87.96, 88.06]\n",
      "2024/11/22 16:22:17 INFO dspy.teleprompt.mipro_optimizer_v2: Best full score so far: 88.06\n",
      "2024/11/22 16:22:17 INFO dspy.teleprompt.mipro_optimizer_v2: =======================\n",
      "2024/11/22 16:22:17 INFO dspy.teleprompt.mipro_optimizer_v2: \n",
      "\n",
      "2024/11/22 16:22:17 INFO dspy.teleprompt.mipro_optimizer_v2: == Minibatch Trial 11 / 25 ==\n",
      "<unknown>:13: SyntaxWarning: invalid escape sequence '\\m'\n",
      "<unknown>:17: SyntaxWarning: invalid escape sequence '\\m'\n",
      "<unknown>:21: SyntaxWarning: invalid escape sequence '\\m'\n",
      "<unknown>:35: SyntaxWarning: invalid escape sequence '\\m'\n",
      "<unknown>:39: SyntaxWarning: invalid escape sequence '\\m'\n",
      "<unknown>:48: SyntaxWarning: invalid escape sequence '\\m'\n",
      "<unknown>:55: SyntaxWarning: invalid escape sequence '\\m'\n"
     ]
    },
    {
     "name": "stdout",
     "output_type": "stream",
     "text": [
      "\n",
      "Average Metric: 21.63 / 25 (86.5%): 100%|██████████| 25/25 [00:00<00:00, 3807.19it/s]"
     ]
    },
    {
     "name": "stderr",
     "output_type": "stream",
     "text": [
      "2024/11/22 16:22:17 INFO dspy.evaluate.evaluate: Average Metric: 21.62962962962963 / 25 (86.5%)\n",
      "2024/11/22 16:22:17 INFO dspy.teleprompt.mipro_optimizer_v2: Score: 86.52 on minibatch of size 25 with parameters ['Predictor 0: Instruction 4'].\n",
      "2024/11/22 16:22:17 INFO dspy.teleprompt.mipro_optimizer_v2: Minibatch scores so far: [88.0, 85.78, 86.52, 87.85, 86.96, 88.44, 84.44, 87.7, 85.93, 88.0, 86.52]\n",
      "2024/11/22 16:22:17 INFO dspy.teleprompt.mipro_optimizer_v2: Full eval scores so far: [87.96, 88.06]\n",
      "2024/11/22 16:22:17 INFO dspy.teleprompt.mipro_optimizer_v2: Best full score so far: 88.06\n",
      "2024/11/22 16:22:17 INFO dspy.teleprompt.mipro_optimizer_v2: =============================\n",
      "\n",
      "\n",
      "2024/11/22 16:22:17 INFO dspy.teleprompt.mipro_optimizer_v2: == Minibatch Trial 12 / 25 ==\n",
      "<unknown>:23: SyntaxWarning: invalid escape sequence '\\c'\n",
      "<unknown>:32: SyntaxWarning: invalid escape sequence '\\c'\n",
      "<unknown>:39: SyntaxWarning: invalid escape sequence '\\c'\n"
     ]
    },
    {
     "name": "stdout",
     "output_type": "stream",
     "text": [
      "\n",
      "Average Metric: 4.52 / 5 (90.4%):  16%|█▌        | 4/25 [00:00<00:00, 1832.17it/s]"
     ]
    },
    {
     "name": "stderr",
     "output_type": "stream",
     "text": [
      "<unknown>:13: SyntaxWarning: invalid escape sequence '\\m'\n",
      "<unknown>:19: SyntaxWarning: invalid escape sequence '\\m'\n"
     ]
    },
    {
     "name": "stdout",
     "output_type": "stream",
     "text": [
      "Average Metric: 22.04 / 25 (88.1%): 100%|██████████| 25/25 [01:05<00:00,  2.62s/it]"
     ]
    },
    {
     "name": "stderr",
     "output_type": "stream",
     "text": [
      "2024/11/22 16:23:23 INFO dspy.evaluate.evaluate: Average Metric: 22.037037037037038 / 25 (88.1%)\n",
      "2024/11/22 16:23:23 INFO dspy.teleprompt.mipro_optimizer_v2: Score: 88.15 on minibatch of size 25 with parameters ['Predictor 0: Instruction 12'].\n",
      "2024/11/22 16:23:23 INFO dspy.teleprompt.mipro_optimizer_v2: Minibatch scores so far: [88.0, 85.78, 86.52, 87.85, 86.96, 88.44, 84.44, 87.7, 85.93, 88.0, 86.52, 88.15]\n",
      "2024/11/22 16:23:23 INFO dspy.teleprompt.mipro_optimizer_v2: Full eval scores so far: [87.96, 88.06]\n",
      "2024/11/22 16:23:23 INFO dspy.teleprompt.mipro_optimizer_v2: Best full score so far: 88.06\n",
      "2024/11/22 16:23:23 INFO dspy.teleprompt.mipro_optimizer_v2: =============================\n",
      "\n",
      "\n",
      "2024/11/22 16:23:23 INFO dspy.teleprompt.mipro_optimizer_v2: == Minibatch Trial 13 / 25 ==\n"
     ]
    },
    {
     "name": "stdout",
     "output_type": "stream",
     "text": [
      "\n",
      "Average Metric: 22.04 / 25 (88.1%): 100%|██████████| 25/25 [01:59<00:00,  4.77s/it]"
     ]
    },
    {
     "name": "stderr",
     "output_type": "stream",
     "text": [
      "2024/11/22 16:25:22 INFO dspy.evaluate.evaluate: Average Metric: 22.037037037037038 / 25 (88.1%)\n",
      "2024/11/22 16:25:22 INFO dspy.teleprompt.mipro_optimizer_v2: Score: 88.15 on minibatch of size 25 with parameters ['Predictor 0: Instruction 2'].\n",
      "2024/11/22 16:25:22 INFO dspy.teleprompt.mipro_optimizer_v2: Minibatch scores so far: [88.0, 85.78, 86.52, 87.85, 86.96, 88.44, 84.44, 87.7, 85.93, 88.0, 86.52, 88.15, 88.15]\n",
      "2024/11/22 16:25:22 INFO dspy.teleprompt.mipro_optimizer_v2: Full eval scores so far: [87.96, 88.06]\n",
      "2024/11/22 16:25:22 INFO dspy.teleprompt.mipro_optimizer_v2: Best full score so far: 88.06\n",
      "2024/11/22 16:25:22 INFO dspy.teleprompt.mipro_optimizer_v2: =============================\n",
      "\n",
      "\n",
      "2024/11/22 16:25:22 INFO dspy.teleprompt.mipro_optimizer_v2: == Minibatch Trial 14 / 25 ==\n",
      "<unknown>:13: SyntaxWarning: invalid escape sequence '\\m'\n",
      "<unknown>:19: SyntaxWarning: invalid escape sequence '\\m'\n",
      "<unknown>:23: SyntaxWarning: invalid escape sequence '\\c'\n",
      "<unknown>:32: SyntaxWarning: invalid escape sequence '\\c'\n",
      "<unknown>:39: SyntaxWarning: invalid escape sequence '\\c'\n"
     ]
    },
    {
     "name": "stdout",
     "output_type": "stream",
     "text": [
      "\n",
      "Average Metric: 6.11 / 7 (87.3%):  24%|██▍       | 6/25 [00:00<00:00, 704.85it/s] "
     ]
    },
    {
     "name": "stderr",
     "output_type": "stream",
     "text": [
      "<unknown>:13: SyntaxWarning: invalid escape sequence '\\e'\n",
      "<unknown>:19: SyntaxWarning: invalid escape sequence '\\e'\n"
     ]
    },
    {
     "name": "stdout",
     "output_type": "stream",
     "text": [
      "Average Metric: 16.89 / 20 (84.4%):  80%|████████  | 20/25 [00:26<00:05,  1.08s/it]"
     ]
    },
    {
     "name": "stderr",
     "output_type": "stream",
     "text": [
      "<unknown>:5: SyntaxWarning: invalid escape sequence '\\m'\n",
      "<unknown>:9: SyntaxWarning: invalid escape sequence '\\m'\n",
      "<unknown>:13: SyntaxWarning: invalid escape sequence '\\m'\n",
      "<unknown>:17: SyntaxWarning: invalid escape sequence '\\m'\n",
      "<unknown>:21: SyntaxWarning: invalid escape sequence '\\m'\n",
      "<unknown>:25: SyntaxWarning: invalid escape sequence '\\m'\n",
      "<unknown>:29: SyntaxWarning: invalid escape sequence '\\m'\n",
      "<unknown>:35: SyntaxWarning: invalid escape sequence '\\m'\n",
      "<unknown>:44: SyntaxWarning: invalid escape sequence '\\m'\n",
      "<unknown>:51: SyntaxWarning: invalid escape sequence '\\m'\n",
      "<unknown>:58: SyntaxWarning: invalid escape sequence '\\m'\n",
      "<unknown>:65: SyntaxWarning: invalid escape sequence '\\m'\n"
     ]
    },
    {
     "name": "stdout",
     "output_type": "stream",
     "text": [
      "Average Metric: 21.41 / 25 (85.6%): 100%|██████████| 25/25 [00:53<00:00,  2.15s/it]"
     ]
    },
    {
     "name": "stderr",
     "output_type": "stream",
     "text": [
      "2024/11/22 16:26:16 INFO dspy.evaluate.evaluate: Average Metric: 21.40740740740741 / 25 (85.6%)\n",
      "2024/11/22 16:26:16 INFO dspy.teleprompt.mipro_optimizer_v2: Score: 85.63 on minibatch of size 25 with parameters ['Predictor 0: Instruction 12'].\n",
      "2024/11/22 16:26:16 INFO dspy.teleprompt.mipro_optimizer_v2: Minibatch scores so far: [88.0, 85.78, 86.52, 87.85, 86.96, 88.44, 84.44, 87.7, 85.93, 88.0, 86.52, 88.15, 88.15, 85.63]\n",
      "2024/11/22 16:26:16 INFO dspy.teleprompt.mipro_optimizer_v2: Full eval scores so far: [87.96, 88.06]\n",
      "2024/11/22 16:26:16 INFO dspy.teleprompt.mipro_optimizer_v2: Best full score so far: 88.06\n",
      "2024/11/22 16:26:16 INFO dspy.teleprompt.mipro_optimizer_v2: =============================\n",
      "\n",
      "\n",
      "2024/11/22 16:26:16 INFO dspy.teleprompt.mipro_optimizer_v2: == Minibatch Trial 15 / 25 ==\n"
     ]
    },
    {
     "name": "stdout",
     "output_type": "stream",
     "text": [
      "\n",
      "Average Metric: 21.48 / 25 (85.9%): 100%|██████████| 25/25 [01:48<00:00,  4.32s/it]"
     ]
    },
    {
     "name": "stderr",
     "output_type": "stream",
     "text": [
      "2024/11/22 16:28:04 INFO dspy.evaluate.evaluate: Average Metric: 21.48148148148148 / 25 (85.9%)\n",
      "2024/11/22 16:28:04 INFO dspy.teleprompt.mipro_optimizer_v2: Score: 85.93 on minibatch of size 25 with parameters ['Predictor 0: Instruction 9'].\n",
      "2024/11/22 16:28:04 INFO dspy.teleprompt.mipro_optimizer_v2: Minibatch scores so far: [88.0, 85.78, 86.52, 87.85, 86.96, 88.44, 84.44, 87.7, 85.93, 88.0, 86.52, 88.15, 88.15, 85.63, 85.93]\n",
      "2024/11/22 16:28:04 INFO dspy.teleprompt.mipro_optimizer_v2: Full eval scores so far: [87.96, 88.06]\n",
      "2024/11/22 16:28:04 INFO dspy.teleprompt.mipro_optimizer_v2: Best full score so far: 88.06\n",
      "2024/11/22 16:28:04 INFO dspy.teleprompt.mipro_optimizer_v2: =============================\n",
      "\n",
      "\n",
      "2024/11/22 16:28:04 INFO dspy.teleprompt.mipro_optimizer_v2: == Minibatch Trial 16 / 25 ==\n"
     ]
    },
    {
     "name": "stdout",
     "output_type": "stream",
     "text": [
      "\n",
      "Average Metric: 5.33 / 6 (88.9%):  24%|██▍       | 6/25 [00:29<00:51,  2.72s/it]"
     ]
    },
    {
     "name": "stderr",
     "output_type": "stream",
     "text": [
      "<unknown>:5: SyntaxWarning: invalid escape sequence '\\m'\n",
      "<unknown>:9: SyntaxWarning: invalid escape sequence '\\m'\n",
      "<unknown>:13: SyntaxWarning: invalid escape sequence '\\m'\n",
      "<unknown>:17: SyntaxWarning: invalid escape sequence '\\m'\n",
      "<unknown>:21: SyntaxWarning: invalid escape sequence '\\m'\n",
      "<unknown>:25: SyntaxWarning: invalid escape sequence '\\m'\n",
      "<unknown>:31: SyntaxWarning: invalid escape sequence '\\m'\n",
      "<unknown>:40: SyntaxWarning: invalid escape sequence '\\m'\n",
      "<unknown>:47: SyntaxWarning: invalid escape sequence '\\m'\n",
      "<unknown>:54: SyntaxWarning: invalid escape sequence '\\m'\n",
      "<unknown>:61: SyntaxWarning: invalid escape sequence '\\m'\n",
      "<unknown>:68: SyntaxWarning: invalid escape sequence '\\m'\n"
     ]
    },
    {
     "name": "stdout",
     "output_type": "stream",
     "text": [
      "Average Metric: 21.30 / 25 (85.2%): 100%|██████████| 25/25 [01:49<00:00,  4.38s/it]"
     ]
    },
    {
     "name": "stderr",
     "output_type": "stream",
     "text": [
      "2024/11/22 16:29:53 INFO dspy.evaluate.evaluate: Average Metric: 21.296296296296298 / 25 (85.2%)\n",
      "2024/11/22 16:29:53 INFO dspy.teleprompt.mipro_optimizer_v2: Score: 85.19 on minibatch of size 25 with parameters ['Predictor 0: Instruction 18'].\n",
      "2024/11/22 16:29:53 INFO dspy.teleprompt.mipro_optimizer_v2: Minibatch scores so far: [88.0, 85.78, 86.52, 87.85, 86.96, 88.44, 84.44, 87.7, 85.93, 88.0, 86.52, 88.15, 88.15, 85.63, 85.93, 85.19]\n",
      "2024/11/22 16:29:53 INFO dspy.teleprompt.mipro_optimizer_v2: Full eval scores so far: [87.96, 88.06]\n",
      "2024/11/22 16:29:53 INFO dspy.teleprompt.mipro_optimizer_v2: Best full score so far: 88.06\n",
      "2024/11/22 16:29:53 INFO dspy.teleprompt.mipro_optimizer_v2: =============================\n",
      "\n",
      "\n",
      "2024/11/22 16:29:53 INFO dspy.teleprompt.mipro_optimizer_v2: == Minibatch Trial 17 / 25 ==\n"
     ]
    },
    {
     "name": "stdout",
     "output_type": "stream",
     "text": [
      "\n",
      "Average Metric: 11.56 / 13 (88.9%):  52%|█████▏    | 13/25 [01:03<00:51,  4.29s/it]"
     ]
    },
    {
     "name": "stderr",
     "output_type": "stream",
     "text": [
      "<unknown>:5: SyntaxWarning: invalid escape sequence '\\,'\n",
      "<unknown>:13: SyntaxWarning: invalid escape sequence '\\,'\n",
      "<unknown>:21: SyntaxWarning: invalid escape sequence '\\,'\n",
      "<unknown>:27: SyntaxWarning: invalid escape sequence '\\,'\n",
      "<unknown>:35: SyntaxWarning: invalid escape sequence '\\,'\n",
      "<unknown>:39: SyntaxWarning: invalid escape sequence '\\,'\n",
      "<unknown>:48: SyntaxWarning: invalid escape sequence '\\,'\n"
     ]
    },
    {
     "name": "stdout",
     "output_type": "stream",
     "text": [
      "Average Metric: 18.59 / 21 (88.5%):  84%|████████▍ | 21/25 [01:28<00:10,  2.61s/it]"
     ]
    },
    {
     "name": "stderr",
     "output_type": "stream",
     "text": [
      "<unknown>:5: SyntaxWarning: invalid escape sequence '\\m'\n",
      "<unknown>:11: SyntaxWarning: invalid escape sequence '\\m'\n",
      "<unknown>:15: SyntaxWarning: invalid escape sequence '\\c'\n",
      "<unknown>:19: SyntaxWarning: invalid escape sequence '\\c'\n",
      "<unknown>:23: SyntaxWarning: invalid escape sequence '\\;'\n"
     ]
    },
    {
     "name": "stdout",
     "output_type": "stream",
     "text": [
      "Average Metric: 22.07 / 25 (88.3%): 100%|██████████| 25/25 [01:47<00:00,  4.29s/it]"
     ]
    },
    {
     "name": "stderr",
     "output_type": "stream",
     "text": [
      "2024/11/22 16:31:41 INFO dspy.evaluate.evaluate: Average Metric: 22.074074074074073 / 25 (88.3%)\n",
      "2024/11/22 16:31:41 INFO dspy.teleprompt.mipro_optimizer_v2: Score: 88.3 on minibatch of size 25 with parameters ['Predictor 0: Instruction 11'].\n",
      "2024/11/22 16:31:41 INFO dspy.teleprompt.mipro_optimizer_v2: Minibatch scores so far: [88.0, 85.78, 86.52, 87.85, 86.96, 88.44, 84.44, 87.7, 85.93, 88.0, 86.52, 88.15, 88.15, 85.63, 85.93, 85.19, 88.3]\n",
      "2024/11/22 16:31:41 INFO dspy.teleprompt.mipro_optimizer_v2: Full eval scores so far: [87.96, 88.06]\n",
      "2024/11/22 16:31:41 INFO dspy.teleprompt.mipro_optimizer_v2: Best full score so far: 88.06\n",
      "2024/11/22 16:31:41 INFO dspy.teleprompt.mipro_optimizer_v2: =============================\n",
      "\n",
      "\n",
      "2024/11/22 16:31:41 INFO dspy.teleprompt.mipro_optimizer_v2: == Minibatch Trial 18 / 25 ==\n",
      "<unknown>:23: SyntaxWarning: invalid escape sequence '\\c'\n"
     ]
    },
    {
     "name": "stdout",
     "output_type": "stream",
     "text": [
      "\n",
      "Average Metric: 21.59 / 25 (86.4%): 100%|██████████| 25/25 [00:00<00:00, 4162.01it/s]"
     ]
    },
    {
     "name": "stderr",
     "output_type": "stream",
     "text": [
      "2024/11/22 16:31:41 INFO dspy.evaluate.evaluate: Average Metric: 21.59259259259259 / 25 (86.4%)\n",
      "2024/11/22 16:31:41 INFO dspy.teleprompt.mipro_optimizer_v2: Score: 86.37 on minibatch of size 25 with parameters ['Predictor 0: Instruction 4'].\n",
      "2024/11/22 16:31:41 INFO dspy.teleprompt.mipro_optimizer_v2: Minibatch scores so far: [88.0, 85.78, 86.52, 87.85, 86.96, 88.44, 84.44, 87.7, 85.93, 88.0, 86.52, 88.15, 88.15, 85.63, 85.93, 85.19, 88.3, 86.37]\n",
      "2024/11/22 16:31:41 INFO dspy.teleprompt.mipro_optimizer_v2: Full eval scores so far: [87.96, 88.06]\n",
      "2024/11/22 16:31:41 INFO dspy.teleprompt.mipro_optimizer_v2: Best full score so far: 88.06\n",
      "2024/11/22 16:31:41 INFO dspy.teleprompt.mipro_optimizer_v2: =============================\n",
      "\n",
      "\n",
      "2024/11/22 16:31:41 INFO dspy.teleprompt.mipro_optimizer_v2: == Minibatch Trial 19 / 25 ==\n"
     ]
    },
    {
     "name": "stdout",
     "output_type": "stream",
     "text": [
      "\n",
      "Average Metric: 2.52 / 3 (84.0%):   8%|▊         | 2/25 [00:00<00:00, 2075.87it/s]"
     ]
    },
    {
     "name": "stderr",
     "output_type": "stream",
     "text": [
      "<unknown>:5: SyntaxWarning: invalid escape sequence '\\m'\n",
      "<unknown>:9: SyntaxWarning: invalid escape sequence '\\m'\n",
      "<unknown>:13: SyntaxWarning: invalid escape sequence '\\m'\n",
      "<unknown>:17: SyntaxWarning: invalid escape sequence '\\m'\n",
      "<unknown>:23: SyntaxWarning: invalid escape sequence '\\m'\n",
      "<unknown>:32: SyntaxWarning: invalid escape sequence '\\m'\n",
      "<unknown>:39: SyntaxWarning: invalid escape sequence '\\m'\n",
      "<unknown>:46: SyntaxWarning: invalid escape sequence '\\m'\n"
     ]
    },
    {
     "name": "stdout",
     "output_type": "stream",
     "text": [
      "Average Metric: 17.04 / 21 (81.1%):  84%|████████▍ | 21/25 [00:53<00:05,  1.37s/it]"
     ]
    },
    {
     "name": "stderr",
     "output_type": "stream",
     "text": [
      "<unknown>:13: SyntaxWarning: invalid escape sequence '\\m'\n",
      "<unknown>:17: SyntaxWarning: invalid escape sequence '\\m'\n",
      "<unknown>:31: SyntaxWarning: invalid escape sequence '\\m'\n",
      "<unknown>:35: SyntaxWarning: invalid escape sequence '\\m'\n"
     ]
    },
    {
     "name": "stdout",
     "output_type": "stream",
     "text": [
      "Average Metric: 20.70 / 25 (82.8%): 100%|██████████| 25/25 [01:10<00:00,  2.82s/it]"
     ]
    },
    {
     "name": "stderr",
     "output_type": "stream",
     "text": [
      "2024/11/22 16:32:51 INFO dspy.evaluate.evaluate: Average Metric: 20.703703703703702 / 25 (82.8%)\n",
      "2024/11/22 16:32:51 INFO dspy.teleprompt.mipro_optimizer_v2: Score: 82.81 on minibatch of size 25 with parameters ['Predictor 0: Instruction 11'].\n",
      "2024/11/22 16:32:51 INFO dspy.teleprompt.mipro_optimizer_v2: Minibatch scores so far: [88.0, 85.78, 86.52, 87.85, 86.96, 88.44, 84.44, 87.7, 85.93, 88.0, 86.52, 88.15, 88.15, 85.63, 85.93, 85.19, 88.3, 86.37, 82.81]\n",
      "2024/11/22 16:32:51 INFO dspy.teleprompt.mipro_optimizer_v2: Full eval scores so far: [87.96, 88.06]\n",
      "2024/11/22 16:32:51 INFO dspy.teleprompt.mipro_optimizer_v2: Best full score so far: 88.06\n",
      "2024/11/22 16:32:51 INFO dspy.teleprompt.mipro_optimizer_v2: =============================\n",
      "\n",
      "\n",
      "2024/11/22 16:32:51 INFO dspy.teleprompt.mipro_optimizer_v2: == Minibatch Trial 20 / 25 ==\n"
     ]
    },
    {
     "name": "stdout",
     "output_type": "stream",
     "text": [
      "\n",
      "Average Metric: 14.67 / 17 (86.3%):  68%|██████▊   | 17/25 [01:20<00:24,  3.09s/it]"
     ]
    },
    {
     "name": "stderr",
     "output_type": "stream",
     "text": [
      "<unknown>:25: SyntaxWarning: invalid escape sequence '\\m'\n",
      "<unknown>:31: SyntaxWarning: invalid escape sequence '\\m'\n",
      "<unknown>:40: SyntaxWarning: invalid escape sequence '\\m'\n"
     ]
    },
    {
     "name": "stdout",
     "output_type": "stream",
     "text": [
      "Average Metric: 21.85 / 25 (87.4%): 100%|██████████| 25/25 [02:07<00:00,  5.11s/it]"
     ]
    },
    {
     "name": "stderr",
     "output_type": "stream",
     "text": [
      "2024/11/22 16:34:59 INFO dspy.evaluate.evaluate: Average Metric: 21.85185185185185 / 25 (87.4%)\n",
      "2024/11/22 16:34:59 INFO dspy.teleprompt.mipro_optimizer_v2: Score: 87.41 on minibatch of size 25 with parameters ['Predictor 0: Instruction 23'].\n",
      "2024/11/22 16:34:59 INFO dspy.teleprompt.mipro_optimizer_v2: Minibatch scores so far: [88.0, 85.78, 86.52, 87.85, 86.96, 88.44, 84.44, 87.7, 85.93, 88.0, 86.52, 88.15, 88.15, 85.63, 85.93, 85.19, 88.3, 86.37, 82.81, 87.41]\n",
      "2024/11/22 16:34:59 INFO dspy.teleprompt.mipro_optimizer_v2: Full eval scores so far: [87.96, 88.06]\n",
      "2024/11/22 16:34:59 INFO dspy.teleprompt.mipro_optimizer_v2: Best full score so far: 88.06\n",
      "2024/11/22 16:34:59 INFO dspy.teleprompt.mipro_optimizer_v2: =============================\n",
      "\n",
      "\n",
      "2024/11/22 16:34:59 INFO dspy.teleprompt.mipro_optimizer_v2: ===== Full Eval 2 =====\n",
      "2024/11/22 16:34:59 INFO dspy.teleprompt.mipro_optimizer_v2: Doing full eval on next top averaging program (Avg Score: 88.15) from minibatch trials...\n"
     ]
    },
    {
     "name": "stdout",
     "output_type": "stream",
     "text": [
      "\n",
      "Average Metric: 2.74 / 3 (91.4%):   2%|▎         | 2/80 [00:00<00:00, 1842.03it/s]"
     ]
    },
    {
     "name": "stderr",
     "output_type": "stream",
     "text": [
      "<unknown>:5: SyntaxWarning: invalid escape sequence '\\m'\n",
      "<unknown>:9: SyntaxWarning: invalid escape sequence '\\m'\n",
      "<unknown>:13: SyntaxWarning: invalid escape sequence '\\m'\n",
      "<unknown>:17: SyntaxWarning: invalid escape sequence '\\m'\n",
      "<unknown>:21: SyntaxWarning: invalid escape sequence '\\m'\n",
      "<unknown>:25: SyntaxWarning: invalid escape sequence '\\m'\n",
      "<unknown>:31: SyntaxWarning: invalid escape sequence '\\m'\n",
      "<unknown>:40: SyntaxWarning: invalid escape sequence '\\m'\n",
      "<unknown>:47: SyntaxWarning: invalid escape sequence '\\m'\n",
      "<unknown>:54: SyntaxWarning: invalid escape sequence '\\m'\n",
      "<unknown>:61: SyntaxWarning: invalid escape sequence '\\m'\n",
      "<unknown>:68: SyntaxWarning: invalid escape sequence '\\m'\n"
     ]
    },
    {
     "name": "stdout",
     "output_type": "stream",
     "text": [
      "Average Metric: 10.67 / 12 (88.9%):  14%|█▍        | 11/80 [00:27<02:11,  1.90s/it]"
     ]
    },
    {
     "name": "stderr",
     "output_type": "stream",
     "text": [
      "<unknown>:19: SyntaxWarning: invalid escape sequence '\\('\n",
      "<unknown>:23: SyntaxWarning: invalid escape sequence '\\('\n"
     ]
    },
    {
     "name": "stdout",
     "output_type": "stream",
     "text": [
      "Average Metric: 39.33 / 44 (89.4%):  55%|█████▌    | 44/80 [02:16<02:23,  3.98s/it]"
     ]
    },
    {
     "name": "stderr",
     "output_type": "stream",
     "text": [
      "<unknown>:23: SyntaxWarning: invalid escape sequence '\\c'\n"
     ]
    },
    {
     "name": "stdout",
     "output_type": "stream",
     "text": [
      "Average Metric: 40.26 / 45 (89.5%):  56%|█████▋    | 45/80 [02:24<03:05,  5.30s/it]"
     ]
    },
    {
     "name": "stderr",
     "output_type": "stream",
     "text": [
      "<unknown>:13: SyntaxWarning: invalid escape sequence '\\m'\n",
      "<unknown>:17: SyntaxWarning: invalid escape sequence '\\m'\n",
      "<unknown>:21: SyntaxWarning: invalid escape sequence '\\m'\n",
      "<unknown>:35: SyntaxWarning: invalid escape sequence '\\m'\n",
      "<unknown>:39: SyntaxWarning: invalid escape sequence '\\m'\n"
     ]
    },
    {
     "name": "stdout",
     "output_type": "stream",
     "text": [
      "Average Metric: 46.59 / 52 (89.6%):  65%|██████▌   | 52/80 [02:39<01:11,  2.55s/it]"
     ]
    },
    {
     "name": "stderr",
     "output_type": "stream",
     "text": [
      "<unknown>:21: SyntaxWarning: invalid escape sequence '\\m'\n",
      "<unknown>:27: SyntaxWarning: invalid escape sequence '\\m'\n"
     ]
    },
    {
     "name": "stdout",
     "output_type": "stream",
     "text": [
      "Average Metric: 52.78 / 59 (89.5%):  74%|███████▍  | 59/80 [03:01<00:53,  2.57s/it]"
     ]
    },
    {
     "name": "stderr",
     "output_type": "stream",
     "text": [
      "<unknown>:5: SyntaxWarning: invalid escape sequence '\\,'\n",
      "<unknown>:9: SyntaxWarning: invalid escape sequence '\\ '\n",
      "<unknown>:13: SyntaxWarning: invalid escape sequence '\\m'\n",
      "<unknown>:17: SyntaxWarning: invalid escape sequence '\\m'\n",
      "<unknown>:23: SyntaxWarning: invalid escape sequence '\\,'\n",
      "<unknown>:27: SyntaxWarning: invalid escape sequence '\\ '\n",
      "<unknown>:31: SyntaxWarning: invalid escape sequence '\\,'\n",
      "<unknown>:35: SyntaxWarning: invalid escape sequence '\\,'\n",
      "<unknown>:51: SyntaxWarning: invalid escape sequence '\\m'\n"
     ]
    },
    {
     "name": "stdout",
     "output_type": "stream",
     "text": [
      "Average Metric: 71.33 / 80 (89.2%): 100%|██████████| 80/80 [03:52<00:00,  2.91s/it]"
     ]
    },
    {
     "name": "stderr",
     "output_type": "stream",
     "text": [
      "2024/11/22 16:38:52 INFO dspy.evaluate.evaluate: Average Metric: 71.33333333333333 / 80 (89.2%)\n",
      "2024/11/22 16:38:52 INFO dspy.teleprompt.mipro_optimizer_v2: \u001b[92mNew best full eval score!\u001b[0m Score: 89.17\n",
      "2024/11/22 16:38:52 INFO dspy.teleprompt.mipro_optimizer_v2: Full eval scores so far: [87.96, 88.06, 89.17]\n",
      "2024/11/22 16:38:52 INFO dspy.teleprompt.mipro_optimizer_v2: Best full score so far: 89.17\n",
      "2024/11/22 16:38:52 INFO dspy.teleprompt.mipro_optimizer_v2: =======================\n",
      "2024/11/22 16:38:52 INFO dspy.teleprompt.mipro_optimizer_v2: \n",
      "\n",
      "2024/11/22 16:38:52 INFO dspy.teleprompt.mipro_optimizer_v2: == Minibatch Trial 21 / 25 ==\n"
     ]
    },
    {
     "name": "stdout",
     "output_type": "stream",
     "text": [
      "\n",
      "  0%|          | 0/25 [00:00<?, ?it/s]"
     ]
    },
    {
     "name": "stderr",
     "output_type": "stream",
     "text": [
      "<unknown>:5: SyntaxWarning: invalid escape sequence '\\m'\n",
      "<unknown>:9: SyntaxWarning: invalid escape sequence '\\m'\n",
      "<unknown>:13: SyntaxWarning: invalid escape sequence '\\m'\n",
      "<unknown>:17: SyntaxWarning: invalid escape sequence '\\m'\n",
      "<unknown>:27: SyntaxWarning: invalid escape sequence '\\m'\n"
     ]
    },
    {
     "name": "stdout",
     "output_type": "stream",
     "text": [
      "Average Metric: 17.00 / 19 (89.5%):  76%|███████▌  | 19/25 [01:44<00:25,  4.19s/it]"
     ]
    },
    {
     "name": "stderr",
     "output_type": "stream",
     "text": [
      "<unknown>:9: SyntaxWarning: invalid escape sequence '\\m'\n"
     ]
    },
    {
     "name": "stdout",
     "output_type": "stream",
     "text": [
      "Average Metric: 22.26 / 25 (89.0%): 100%|██████████| 25/25 [02:08<00:00,  5.15s/it]"
     ]
    },
    {
     "name": "stderr",
     "output_type": "stream",
     "text": [
      "2024/11/22 16:41:01 INFO dspy.evaluate.evaluate: Average Metric: 22.25925925925926 / 25 (89.0%)\n",
      "2024/11/22 16:41:01 INFO dspy.teleprompt.mipro_optimizer_v2: Score: 89.04 on minibatch of size 25 with parameters ['Predictor 0: Instruction 17'].\n",
      "2024/11/22 16:41:01 INFO dspy.teleprompt.mipro_optimizer_v2: Minibatch scores so far: [88.0, 85.78, 86.52, 87.85, 86.96, 88.44, 84.44, 87.7, 85.93, 88.0, 86.52, 88.15, 88.15, 85.63, 85.93, 85.19, 88.3, 86.37, 82.81, 87.41, 89.04]\n",
      "2024/11/22 16:41:01 INFO dspy.teleprompt.mipro_optimizer_v2: Full eval scores so far: [87.96, 88.06, 89.17]\n",
      "2024/11/22 16:41:01 INFO dspy.teleprompt.mipro_optimizer_v2: Best full score so far: 89.17\n",
      "2024/11/22 16:41:01 INFO dspy.teleprompt.mipro_optimizer_v2: =============================\n",
      "\n",
      "\n",
      "2024/11/22 16:41:01 INFO dspy.teleprompt.mipro_optimizer_v2: == Minibatch Trial 22 / 25 ==\n",
      "<unknown>:5: SyntaxWarning: invalid escape sequence '\\m'\n",
      "<unknown>:9: SyntaxWarning: invalid escape sequence '\\m'\n",
      "<unknown>:13: SyntaxWarning: invalid escape sequence '\\m'\n",
      "<unknown>:17: SyntaxWarning: invalid escape sequence '\\m'\n",
      "<unknown>:27: SyntaxWarning: invalid escape sequence '\\m'\n"
     ]
    },
    {
     "name": "stdout",
     "output_type": "stream",
     "text": [
      "\n",
      "Average Metric: 3.52 / 4 (88.0%):  12%|█▏        | 3/25 [00:00<00:00, 1579.97it/s]"
     ]
    },
    {
     "name": "stderr",
     "output_type": "stream",
     "text": [
      "<unknown>:23: SyntaxWarning: invalid escape sequence '\\c'\n",
      "<unknown>:32: SyntaxWarning: invalid escape sequence '\\c'\n",
      "<unknown>:13: SyntaxWarning: invalid escape sequence '\\m'\n",
      "<unknown>:17: SyntaxWarning: invalid escape sequence '\\m'\n",
      "<unknown>:21: SyntaxWarning: invalid escape sequence '\\m'\n",
      "<unknown>:35: SyntaxWarning: invalid escape sequence '\\m'\n",
      "<unknown>:39: SyntaxWarning: invalid escape sequence '\\m'\n",
      "<unknown>:19: SyntaxWarning: invalid escape sequence '\\m'\n",
      "<unknown>:23: SyntaxWarning: invalid escape sequence '\\m'\n"
     ]
    },
    {
     "name": "stdout",
     "output_type": "stream",
     "text": [
      "Average Metric: 22.44 / 25 (89.8%): 100%|██████████| 25/25 [01:19<00:00,  3.18s/it]"
     ]
    },
    {
     "name": "stderr",
     "output_type": "stream",
     "text": [
      "2024/11/22 16:42:20 INFO dspy.evaluate.evaluate: Average Metric: 22.444444444444443 / 25 (89.8%)\n",
      "2024/11/22 16:42:20 INFO dspy.teleprompt.mipro_optimizer_v2: Score: 89.78 on minibatch of size 25 with parameters ['Predictor 0: Instruction 17'].\n",
      "2024/11/22 16:42:20 INFO dspy.teleprompt.mipro_optimizer_v2: Minibatch scores so far: [88.0, 85.78, 86.52, 87.85, 86.96, 88.44, 84.44, 87.7, 85.93, 88.0, 86.52, 88.15, 88.15, 85.63, 85.93, 85.19, 88.3, 86.37, 82.81, 87.41, 89.04, 89.78]\n",
      "2024/11/22 16:42:20 INFO dspy.teleprompt.mipro_optimizer_v2: Full eval scores so far: [87.96, 88.06, 89.17]\n",
      "2024/11/22 16:42:20 INFO dspy.teleprompt.mipro_optimizer_v2: Best full score so far: 89.17\n",
      "2024/11/22 16:42:20 INFO dspy.teleprompt.mipro_optimizer_v2: =============================\n",
      "\n",
      "\n",
      "2024/11/22 16:42:20 INFO dspy.teleprompt.mipro_optimizer_v2: == Minibatch Trial 23 / 25 ==\n"
     ]
    },
    {
     "name": "stdout",
     "output_type": "stream",
     "text": [
      "\n",
      "Average Metric: 9.78 / 11 (88.9%):  40%|████      | 10/25 [00:26<00:58,  3.89s/it]"
     ]
    },
    {
     "name": "stderr",
     "output_type": "stream",
     "text": [
      "<unknown>:9: SyntaxWarning: invalid escape sequence '\\m'\n"
     ]
    },
    {
     "name": "stdout",
     "output_type": "stream",
     "text": [
      "Average Metric: 14.26 / 16 (89.1%):  60%|██████    | 15/25 [00:28<00:15,  1.53s/it]"
     ]
    },
    {
     "name": "stderr",
     "output_type": "stream",
     "text": [
      "<unknown>:5: SyntaxWarning: invalid escape sequence '\\m'\n",
      "<unknown>:9: SyntaxWarning: invalid escape sequence '\\m'\n",
      "<unknown>:13: SyntaxWarning: invalid escape sequence '\\m'\n",
      "<unknown>:27: SyntaxWarning: invalid escape sequence '\\m'\n",
      "<unknown>:31: SyntaxWarning: invalid escape sequence '\\m'\n",
      "<unknown>:35: SyntaxWarning: invalid escape sequence '\\m'\n"
     ]
    },
    {
     "name": "stdout",
     "output_type": "stream",
     "text": [
      "Average Metric: 15.04 / 17 (88.5%):  68%|██████▊   | 17/25 [00:33<00:11,  1.45s/it]"
     ]
    },
    {
     "name": "stderr",
     "output_type": "stream",
     "text": [
      "<unknown>:13: SyntaxWarning: invalid escape sequence '\\m'\n",
      "<unknown>:19: SyntaxWarning: invalid escape sequence '\\m'\n"
     ]
    },
    {
     "name": "stdout",
     "output_type": "stream",
     "text": [
      "Average Metric: 22.11 / 25 (88.4%): 100%|██████████| 25/25 [01:01<00:00,  2.44s/it]"
     ]
    },
    {
     "name": "stderr",
     "output_type": "stream",
     "text": [
      "2024/11/22 16:43:21 INFO dspy.evaluate.evaluate: Average Metric: 22.11111111111111 / 25 (88.4%)\n",
      "2024/11/22 16:43:21 INFO dspy.teleprompt.mipro_optimizer_v2: Score: 88.44 on minibatch of size 25 with parameters ['Predictor 0: Instruction 17'].\n",
      "2024/11/22 16:43:21 INFO dspy.teleprompt.mipro_optimizer_v2: Minibatch scores so far: [88.0, 85.78, 86.52, 87.85, 86.96, 88.44, 84.44, 87.7, 85.93, 88.0, 86.52, 88.15, 88.15, 85.63, 85.93, 85.19, 88.3, 86.37, 82.81, 87.41, 89.04, 89.78, 88.44]\n",
      "2024/11/22 16:43:21 INFO dspy.teleprompt.mipro_optimizer_v2: Full eval scores so far: [87.96, 88.06, 89.17]\n",
      "2024/11/22 16:43:21 INFO dspy.teleprompt.mipro_optimizer_v2: Best full score so far: 89.17\n",
      "2024/11/22 16:43:21 INFO dspy.teleprompt.mipro_optimizer_v2: =============================\n",
      "\n",
      "\n",
      "2024/11/22 16:43:21 INFO dspy.teleprompt.mipro_optimizer_v2: == Minibatch Trial 24 / 25 ==\n",
      "<unknown>:13: SyntaxWarning: invalid escape sequence '\\m'\n",
      "<unknown>:17: SyntaxWarning: invalid escape sequence '\\m'\n",
      "<unknown>:21: SyntaxWarning: invalid escape sequence '\\m'\n",
      "<unknown>:35: SyntaxWarning: invalid escape sequence '\\m'\n",
      "<unknown>:39: SyntaxWarning: invalid escape sequence '\\m'\n",
      "<unknown>:5: SyntaxWarning: invalid escape sequence '\\m'\n",
      "<unknown>:9: SyntaxWarning: invalid escape sequence '\\m'\n",
      "<unknown>:13: SyntaxWarning: invalid escape sequence '\\m'\n",
      "<unknown>:17: SyntaxWarning: invalid escape sequence '\\m'\n",
      "<unknown>:27: SyntaxWarning: invalid escape sequence '\\m'\n",
      "<unknown>:5: SyntaxWarning: invalid escape sequence '\\m'\n",
      "<unknown>:9: SyntaxWarning: invalid escape sequence '\\m'\n",
      "<unknown>:13: SyntaxWarning: invalid escape sequence '\\m'\n",
      "<unknown>:27: SyntaxWarning: invalid escape sequence '\\m'\n",
      "<unknown>:31: SyntaxWarning: invalid escape sequence '\\m'\n",
      "<unknown>:35: SyntaxWarning: invalid escape sequence '\\m'\n",
      "<unknown>:13: SyntaxWarning: invalid escape sequence '\\m'\n",
      "<unknown>:19: SyntaxWarning: invalid escape sequence '\\m'\n"
     ]
    },
    {
     "name": "stdout",
     "output_type": "stream",
     "text": [
      "\n",
      "Average Metric: 22.30 / 25 (89.2%): 100%|██████████| 25/25 [01:00<00:00,  2.41s/it] "
     ]
    },
    {
     "name": "stderr",
     "output_type": "stream",
     "text": [
      "2024/11/22 16:44:22 INFO dspy.evaluate.evaluate: Average Metric: 22.296296296296298 / 25 (89.2%)\n",
      "2024/11/22 16:44:22 INFO dspy.teleprompt.mipro_optimizer_v2: Score: 89.19 on minibatch of size 25 with parameters ['Predictor 0: Instruction 17'].\n",
      "2024/11/22 16:44:22 INFO dspy.teleprompt.mipro_optimizer_v2: Minibatch scores so far: [88.0, 85.78, 86.52, 87.85, 86.96, 88.44, 84.44, 87.7, 85.93, 88.0, 86.52, 88.15, 88.15, 85.63, 85.93, 85.19, 88.3, 86.37, 82.81, 87.41, 89.04, 89.78, 88.44, 89.19]\n",
      "2024/11/22 16:44:22 INFO dspy.teleprompt.mipro_optimizer_v2: Full eval scores so far: [87.96, 88.06, 89.17]\n",
      "2024/11/22 16:44:22 INFO dspy.teleprompt.mipro_optimizer_v2: Best full score so far: 89.17\n",
      "2024/11/22 16:44:22 INFO dspy.teleprompt.mipro_optimizer_v2: =============================\n",
      "\n",
      "\n",
      "2024/11/22 16:44:22 INFO dspy.teleprompt.mipro_optimizer_v2: == Minibatch Trial 25 / 25 ==\n",
      "<unknown>:13: SyntaxWarning: invalid escape sequence '\\m'\n",
      "<unknown>:19: SyntaxWarning: invalid escape sequence '\\m'\n",
      "<unknown>:23: SyntaxWarning: invalid escape sequence '\\m'\n",
      "<unknown>:19: SyntaxWarning: invalid escape sequence '\\m'\n",
      "<unknown>:5: SyntaxWarning: invalid escape sequence '\\m'\n",
      "<unknown>:9: SyntaxWarning: invalid escape sequence '\\m'\n",
      "<unknown>:13: SyntaxWarning: invalid escape sequence '\\m'\n",
      "<unknown>:17: SyntaxWarning: invalid escape sequence '\\m'\n",
      "<unknown>:27: SyntaxWarning: invalid escape sequence '\\m'\n",
      "<unknown>:13: SyntaxWarning: invalid escape sequence '\\m'\n",
      "<unknown>:17: SyntaxWarning: invalid escape sequence '\\m'\n",
      "<unknown>:21: SyntaxWarning: invalid escape sequence '\\m'\n",
      "<unknown>:35: SyntaxWarning: invalid escape sequence '\\m'\n",
      "<unknown>:39: SyntaxWarning: invalid escape sequence '\\m'\n"
     ]
    },
    {
     "name": "stdout",
     "output_type": "stream",
     "text": [
      "\n",
      "Average Metric: 22.11 / 25 (88.4%): 100%|██████████| 25/25 [00:42<00:00,  1.70s/it] "
     ]
    },
    {
     "name": "stderr",
     "output_type": "stream",
     "text": [
      "2024/11/22 16:45:04 INFO dspy.evaluate.evaluate: Average Metric: 22.11111111111111 / 25 (88.4%)\n",
      "2024/11/22 16:45:04 INFO dspy.teleprompt.mipro_optimizer_v2: Score: 88.44 on minibatch of size 25 with parameters ['Predictor 0: Instruction 17'].\n",
      "2024/11/22 16:45:04 INFO dspy.teleprompt.mipro_optimizer_v2: Minibatch scores so far: [88.0, 85.78, 86.52, 87.85, 86.96, 88.44, 84.44, 87.7, 85.93, 88.0, 86.52, 88.15, 88.15, 85.63, 85.93, 85.19, 88.3, 86.37, 82.81, 87.41, 89.04, 89.78, 88.44, 89.19, 88.44]\n",
      "2024/11/22 16:45:04 INFO dspy.teleprompt.mipro_optimizer_v2: Full eval scores so far: [87.96, 88.06, 89.17]\n",
      "2024/11/22 16:45:04 INFO dspy.teleprompt.mipro_optimizer_v2: Best full score so far: 89.17\n",
      "2024/11/22 16:45:04 INFO dspy.teleprompt.mipro_optimizer_v2: =============================\n",
      "\n",
      "\n",
      "2024/11/22 16:45:04 INFO dspy.teleprompt.mipro_optimizer_v2: ===== Full Eval 3 =====\n",
      "2024/11/22 16:45:04 INFO dspy.teleprompt.mipro_optimizer_v2: Doing full eval on next top averaging program (Avg Score: 88.978) from minibatch trials...\n",
      "<unknown>:13: SyntaxWarning: invalid escape sequence '\\m'\n",
      "<unknown>:19: SyntaxWarning: invalid escape sequence '\\m'\n",
      "<unknown>:19: SyntaxWarning: invalid escape sequence '\\m'\n",
      "<unknown>:23: SyntaxWarning: invalid escape sequence '\\m'\n",
      "<unknown>:5: SyntaxWarning: invalid escape sequence '\\m'\n",
      "<unknown>:9: SyntaxWarning: invalid escape sequence '\\m'\n",
      "<unknown>:13: SyntaxWarning: invalid escape sequence '\\m'\n",
      "<unknown>:27: SyntaxWarning: invalid escape sequence '\\m'\n",
      "<unknown>:31: SyntaxWarning: invalid escape sequence '\\m'\n",
      "<unknown>:35: SyntaxWarning: invalid escape sequence '\\m'\n"
     ]
    },
    {
     "name": "stdout",
     "output_type": "stream",
     "text": [
      "\n",
      "Average Metric: 26.81 / 30 (89.4%):  36%|███▋      | 29/80 [00:00<00:00, 671.64it/s]"
     ]
    },
    {
     "name": "stderr",
     "output_type": "stream",
     "text": [
      "<unknown>:5: SyntaxWarning: invalid escape sequence '\\m'\n",
      "<unknown>:9: SyntaxWarning: invalid escape sequence '\\m'\n",
      "<unknown>:13: SyntaxWarning: invalid escape sequence '\\m'\n",
      "<unknown>:17: SyntaxWarning: invalid escape sequence '\\m'\n",
      "<unknown>:21: SyntaxWarning: invalid escape sequence '\\m'\n",
      "<unknown>:27: SyntaxWarning: invalid escape sequence '\\m'\n",
      "<unknown>:31: SyntaxWarning: invalid escape sequence '\\m'\n",
      "<unknown>:40: SyntaxWarning: invalid escape sequence '\\m'\n",
      "<unknown>:47: SyntaxWarning: invalid escape sequence '\\m'\n",
      "<unknown>:54: SyntaxWarning: invalid escape sequence '\\m'\n",
      "<unknown>:61: SyntaxWarning: invalid escape sequence '\\m'\n"
     ]
    },
    {
     "name": "stdout",
     "output_type": "stream",
     "text": [
      "Average Metric: 40.26 / 46 (87.5%):  56%|█████▋    | 45/80 [00:22<00:20,  1.74it/s] "
     ]
    },
    {
     "name": "stderr",
     "output_type": "stream",
     "text": [
      "<unknown>:5: SyntaxWarning: invalid escape sequence '\\m'\n",
      "<unknown>:9: SyntaxWarning: invalid escape sequence '\\m'\n",
      "<unknown>:13: SyntaxWarning: invalid escape sequence '\\m'\n",
      "<unknown>:17: SyntaxWarning: invalid escape sequence '\\m'\n",
      "<unknown>:27: SyntaxWarning: invalid escape sequence '\\m'\n",
      "<unknown>:23: SyntaxWarning: invalid escape sequence '\\c'\n",
      "<unknown>:32: SyntaxWarning: invalid escape sequence '\\c'\n",
      "<unknown>:13: SyntaxWarning: invalid escape sequence '\\m'\n",
      "<unknown>:17: SyntaxWarning: invalid escape sequence '\\m'\n",
      "<unknown>:21: SyntaxWarning: invalid escape sequence '\\m'\n",
      "<unknown>:35: SyntaxWarning: invalid escape sequence '\\m'\n",
      "<unknown>:39: SyntaxWarning: invalid escape sequence '\\m'\n"
     ]
    },
    {
     "name": "stdout",
     "output_type": "stream",
     "text": [
      "Average Metric: 41.19 / 47 (87.6%):  59%|█████▉    | 47/80 [00:23<00:12,  2.55it/s]"
     ]
    },
    {
     "name": "stderr",
     "output_type": "stream",
     "text": [
      "<unknown>:11: SyntaxWarning: invalid escape sequence '\\m'\n"
     ]
    },
    {
     "name": "stdout",
     "output_type": "stream",
     "text": [
      "Average Metric: 65.63 / 75 (87.5%):  92%|█████████▎| 74/80 [00:48<00:05,  1.18it/s]"
     ]
    },
    {
     "name": "stderr",
     "output_type": "stream",
     "text": [
      "<unknown>:9: SyntaxWarning: invalid escape sequence '\\m'\n"
     ]
    },
    {
     "name": "stdout",
     "output_type": "stream",
     "text": [
      "Average Metric: 70.15 / 80 (87.7%): 100%|██████████| 80/80 [01:11<00:00,  1.11it/s]"
     ]
    },
    {
     "name": "stderr",
     "output_type": "stream",
     "text": [
      "2024/11/22 16:46:16 INFO dspy.evaluate.evaluate: Average Metric: 70.14814814814815 / 80 (87.7%)\n",
      "2024/11/22 16:46:16 INFO dspy.teleprompt.mipro_optimizer_v2: Full eval scores so far: [87.96, 88.06, 89.17, 87.69]\n",
      "2024/11/22 16:46:16 INFO dspy.teleprompt.mipro_optimizer_v2: Best full score so far: 89.17\n",
      "2024/11/22 16:46:16 INFO dspy.teleprompt.mipro_optimizer_v2: =======================\n",
      "2024/11/22 16:46:16 INFO dspy.teleprompt.mipro_optimizer_v2: \n",
      "\n",
      "2024/11/22 16:46:16 INFO dspy.teleprompt.mipro_optimizer_v2: Returning best identified program with score 89.17!\n"
     ]
    },
    {
     "name": "stdout",
     "output_type": "stream",
     "text": [
      "\n"
     ]
    }
   ],
   "source": [
    "\n",
    "\n",
    "zeroshot_optimized_program = teleprompter.compile(\n",
    "    ChemOntology(),\n",
    "    trainset=trainset,\n",
    "    max_bootstrapped_demos=0, # ZERO FEW-SHOT EXAMPLES\n",
    "    max_labeled_demos=0, # ZERO FEW-SHOT EXAMPLES\n",
    "    requires_permission_to_run=False,\n",
    ")\n"
   ]
  },
  {
   "cell_type": "code",
   "execution_count": 48,
   "metadata": {},
   "outputs": [],
   "source": [
    "\n",
    "# Save optimize program for future use\n",
    "zeroshot_optimized_program.save(f\"medium_100trainset_v1\")\n"
   ]
  },
  {
   "cell_type": "code",
   "execution_count": 49,
   "metadata": {},
   "outputs": [
    {
     "name": "stdout",
     "output_type": "stream",
     "text": [
      "  0%|          | 0/20 [00:00<?, ?it/s]"
     ]
    },
    {
     "name": "stderr",
     "output_type": "stream",
     "text": [
      "<unknown>:5: SyntaxWarning: invalid escape sequence '\\m'\n"
     ]
    },
    {
     "name": "stdout",
     "output_type": "stream",
     "text": [
      "Average Metric: 12.22 / 14 (87.3%):  70%|███████   | 14/20 [00:47<00:12,  2.12s/it]"
     ]
    },
    {
     "name": "stderr",
     "output_type": "stream",
     "text": [
      "<unknown>:13: SyntaxWarning: invalid escape sequence '\\m'\n"
     ]
    },
    {
     "name": "stdout",
     "output_type": "stream",
     "text": [
      "Average Metric: 13.15 / 15 (87.7%):  75%|███████▌  | 15/20 [00:50<00:11,  2.30s/it]"
     ]
    },
    {
     "name": "stderr",
     "output_type": "stream",
     "text": [
      "<unknown>:5: SyntaxWarning: invalid escape sequence '\\!'\n",
      "<unknown>:9: SyntaxWarning: invalid escape sequence '\\!'\n",
      "<unknown>:23: SyntaxWarning: invalid escape sequence '\\!'\n"
     ]
    },
    {
     "name": "stdout",
     "output_type": "stream",
     "text": [
      "Average Metric: 15.81 / 20 (79.1%): 100%|██████████| 20/20 [01:11<00:00,  3.58s/it]"
     ]
    },
    {
     "name": "stderr",
     "output_type": "stream",
     "text": [
      "2024/11/22 16:54:52 INFO dspy.evaluate.evaluate: Average Metric: 15.814814814814815 / 20 (79.1%)\n"
     ]
    },
    {
     "name": "stdout",
     "output_type": "stream",
     "text": [
      "\n"
     ]
    },
    {
     "data": {
      "text/html": [
       "<div>\n",
       "<style scoped>\n",
       "    .dataframe tbody tr th:only-of-type {\n",
       "        vertical-align: middle;\n",
       "    }\n",
       "\n",
       "    .dataframe tbody tr th {\n",
       "        vertical-align: top;\n",
       "    }\n",
       "\n",
       "    .dataframe thead th {\n",
       "        text-align: right;\n",
       "    }\n",
       "</style>\n",
       "<table border=\"1\" class=\"dataframe\">\n",
       "  <thead>\n",
       "    <tr style=\"text-align: right;\">\n",
       "      <th></th>\n",
       "      <th>context</th>\n",
       "      <th>reasoning</th>\n",
       "      <th>ontology</th>\n",
       "      <th>metric</th>\n",
       "    </tr>\n",
       "  </thead>\n",
       "  <tbody>\n",
       "    <tr>\n",
       "      <th>0</th>\n",
       "      <td>To some, stoichiometry is no more exciting than the law of conserv...</td>\n",
       "      <td>The text discusses the concept of stoichiometry and its importance...</td>\n",
       "      <td>entities=[Entity(name='Stoichiometry', information='Stoichiometry ...</td>\n",
       "      <td>✔️ [0.889]</td>\n",
       "    </tr>\n",
       "    <tr>\n",
       "      <th>1</th>\n",
       "      <td>If a glass tube that is open at both ends stands upright in a cont...</td>\n",
       "      <td>The text describes a physical experiment involving a glass tube an...</td>\n",
       "      <td>entities=[Entity(name='Glass_Tube', information='A glass tube that...</td>\n",
       "      <td>✔️ [0.889]</td>\n",
       "    </tr>\n",
       "    <tr>\n",
       "      <th>2</th>\n",
       "      <td>This is the Schrodinger equation of a free particle moving in one ...</td>\n",
       "      <td>The text describes a scenario involving a particle subjected to a ...</td>\n",
       "      <td>entities=[Entity(name='Particle', information='A particle moving i...</td>\n",
       "      <td>✔️ [0.889]</td>\n",
       "    </tr>\n",
       "    <tr>\n",
       "      <th>3</th>\n",
       "      <td>It is interesting to note that the nitrogen atom also shows little...</td>\n",
       "      <td>The text discusses the stability of the nitrogen atom and its anio...</td>\n",
       "      <td>entities=[Entity(name='Nitrogen_Atom(N)', information='The nitroge...</td>\n",
       "      <td>✔️ [0.926]</td>\n",
       "    </tr>\n",
       "    <tr>\n",
       "      <th>4</th>\n",
       "      <td>generally the central focus of a problem is the conversion of a ma...</td>\n",
       "      <td>The text discusses the process of converting mass in grams to mole...</td>\n",
       "      <td>entities=[Entity(name='Mass', information='Mass is a measure of th...</td>\n",
       "      <td>✔️ [0.926]</td>\n",
       "    </tr>\n",
       "    <tr>\n",
       "      <th>5</th>\n",
       "      <td>The three subatomic particles considered in this section are the o...</td>\n",
       "      <td>The text discusses subatomic particles, specifically electrons, ne...</td>\n",
       "      <td>entities=[Entity(name='Electron', information='The electron is bel...</td>\n",
       "      <td>✔️ [0.704]</td>\n",
       "    </tr>\n",
       "    <tr>\n",
       "      <th>6</th>\n",
       "      <td>As a result of experiments of the type just described, we find tha...</td>\n",
       "      <td>The text describes a phenomenon related to the photoelectric effec...</td>\n",
       "      <td>entities=[Entity(name='StoppingVoltage(Vs)', information='The stop...</td>\n",
       "      <td>✔️ [0.741]</td>\n",
       "    </tr>\n",
       "    <tr>\n",
       "      <th>7</th>\n",
       "      <td>of blood. Estimates of BAC can be obtained from breath samples by ...</td>\n",
       "      <td>The text discusses the estimation of Blood Alcohol Concentration (...</td>\n",
       "      <td>entities=[Entity(name='Blood Alcohol Concentration(BAC)', informat...</td>\n",
       "      <td>✔️ [0.889]</td>\n",
       "    </tr>\n",
       "    <tr>\n",
       "      <th>8</th>\n",
       "      <td>Electrostatic potential maps are a powerful way of displaying the ...</td>\n",
       "      <td>The text discusses the concept of electrostatic potential maps and...</td>\n",
       "      <td>entities=[Entity(name='Electrostatic Potential Map', information='...</td>\n",
       "      <td>✔️ [0.889]</td>\n",
       "    </tr>\n",
       "    <tr>\n",
       "      <th>9</th>\n",
       "      <td>Our major undertaking in this section will be to describe the thre...</td>\n",
       "      <td>The text discusses the three-dimensional probability density distr...</td>\n",
       "      <td>entities=[Entity(name='Hydrogen Atom', information='The hydrogen a...</td>\n",
       "      <td>✔️ [0.926]</td>\n",
       "    </tr>\n",
       "  </tbody>\n",
       "</table>\n",
       "</div>"
      ],
      "text/plain": [
       "                                                                 context  \\\n",
       "0  To some, stoichiometry is no more exciting than the law of conserv...   \n",
       "1  If a glass tube that is open at both ends stands upright in a cont...   \n",
       "2  This is the Schrodinger equation of a free particle moving in one ...   \n",
       "3  It is interesting to note that the nitrogen atom also shows little...   \n",
       "4  generally the central focus of a problem is the conversion of a ma...   \n",
       "5  The three subatomic particles considered in this section are the o...   \n",
       "6  As a result of experiments of the type just described, we find tha...   \n",
       "7  of blood. Estimates of BAC can be obtained from breath samples by ...   \n",
       "8  Electrostatic potential maps are a powerful way of displaying the ...   \n",
       "9  Our major undertaking in this section will be to describe the thre...   \n",
       "\n",
       "                                                               reasoning  \\\n",
       "0  The text discusses the concept of stoichiometry and its importance...   \n",
       "1  The text describes a physical experiment involving a glass tube an...   \n",
       "2  The text describes a scenario involving a particle subjected to a ...   \n",
       "3  The text discusses the stability of the nitrogen atom and its anio...   \n",
       "4  The text discusses the process of converting mass in grams to mole...   \n",
       "5  The text discusses subatomic particles, specifically electrons, ne...   \n",
       "6  The text describes a phenomenon related to the photoelectric effec...   \n",
       "7  The text discusses the estimation of Blood Alcohol Concentration (...   \n",
       "8  The text discusses the concept of electrostatic potential maps and...   \n",
       "9  The text discusses the three-dimensional probability density distr...   \n",
       "\n",
       "                                                                ontology  \\\n",
       "0  entities=[Entity(name='Stoichiometry', information='Stoichiometry ...   \n",
       "1  entities=[Entity(name='Glass_Tube', information='A glass tube that...   \n",
       "2  entities=[Entity(name='Particle', information='A particle moving i...   \n",
       "3  entities=[Entity(name='Nitrogen_Atom(N)', information='The nitroge...   \n",
       "4  entities=[Entity(name='Mass', information='Mass is a measure of th...   \n",
       "5  entities=[Entity(name='Electron', information='The electron is bel...   \n",
       "6  entities=[Entity(name='StoppingVoltage(Vs)', information='The stop...   \n",
       "7  entities=[Entity(name='Blood Alcohol Concentration(BAC)', informat...   \n",
       "8  entities=[Entity(name='Electrostatic Potential Map', information='...   \n",
       "9  entities=[Entity(name='Hydrogen Atom', information='The hydrogen a...   \n",
       "\n",
       "       metric  \n",
       "0  ✔️ [0.889]  \n",
       "1  ✔️ [0.889]  \n",
       "2  ✔️ [0.889]  \n",
       "3  ✔️ [0.926]  \n",
       "4  ✔️ [0.926]  \n",
       "5  ✔️ [0.704]  \n",
       "6  ✔️ [0.741]  \n",
       "7  ✔️ [0.889]  \n",
       "8  ✔️ [0.889]  \n",
       "9  ✔️ [0.926]  "
      ]
     },
     "metadata": {},
     "output_type": "display_data"
    },
    {
     "data": {
      "text/html": [
       "\n",
       "                <div style='\n",
       "                    text-align: center;\n",
       "                    font-size: 16px;\n",
       "                    font-weight: bold;\n",
       "                    color: #555;\n",
       "                    margin: 10px 0;'>\n",
       "                    ... 10 more rows not displayed ...\n",
       "                </div>\n",
       "                "
      ],
      "text/plain": [
       "<IPython.core.display.HTML object>"
      ]
     },
     "metadata": {},
     "output_type": "display_data"
    },
    {
     "data": {
      "text/plain": [
       "79.07"
      ]
     },
     "execution_count": 49,
     "metadata": {},
     "output_type": "execute_result"
    }
   ],
   "source": [
    "evaluate(zeroshot_optimized_program, devset=devset, metric=metric)"
   ]
  },
  {
   "cell_type": "code",
   "execution_count": 139,
   "metadata": {},
   "outputs": [],
   "source": [
    "zeroshot_optimized_program = ChemOntology()\n",
    "zeroshot_optimized_program.load(f\"medium_100trainset_v1\")\n"
   ]
  },
  {
   "cell_type": "code",
   "execution_count": 143,
   "metadata": {},
   "outputs": [],
   "source": [
    "tests = [\"\"\"\n",
    "###### How electron donation and withdrawal change chemical shifts  \\nWe can get an idea of the effect of electron distribution by looking at a series of benzene rings\\nwith the same substituent in the 1 and 4 positions. This pattern makes all four hydrogens on\\nthe ring identical. Here are a few compounds listed in order of chemical shift: largest shift\\n(lowest fi eld; most deshielded) fi rst. Conjugation is shown by the usual curly arrows, and\\ninductive effects by a straight arrow by the side of the group. Only one hydrogen atom and\\none set of arrows are shown. \n",
    "\"\"\",\n",
    "\"\"\"\n",
    "\\nConjugation, as discussed in\\nChapter 7, is felt through π bonds,\\nwhile inductive effects are the\\nresult of electron withdrawal or\\ndonation felt simply by polarization\\nof the σ bonds of the molecule.\\nSee p. 135.  \\nthe effect of electron-withdrawing groups\\nby conjugation  \\nby inductive effects  \\n**H**  \\n**O**  \\n**O**  \\n**HO**  \\n**N**  \\nδH 8.48 δH 8.10 **C** δH 8.10 δH 8.07 δH 7.78  \\n**N**  \\n**O**  \\n**O**  \\n**OH**  \\n**C**  \\n**N**  \\n**O**  \\n**H**  \\n**F** **F**  \\n**F**  \\nThe largest shifts come from groups that withdraw electrons by conjugation. \n",
    "\"\"\",\n",
    "\"\"\"\n",
    "Nitro is the\\nmost powerful—this should not surprise you as we saw the same in non-aromatic compounds\\nin both [13]C and [1]H NMR spectra. Then come the carbonyl and nitrile group followed by groups\\nshowing simple inductive withdrawal. CF3 is an important example of this kind of group—\\nthree fl uorine atoms combine to exert a powerful effect.  \\n-----  \\nIn the middle of our sequence, around the position of benzene itself at 7.27 ppm, come\\nthe halogens, whose inductive electron withdrawal and lone pair donation are nearly\\nbalanced.  \\nbalance between withdrawal by inductive effect and donation of lone pairs by conjugation  \\n**I** δH 7.40 **Br** δH 7.32 δH 7.27 **Cl** δH 7.24 **F** δH 7.00  \\n**I**  \\n**Br**  \\n**Cl**  \\n**F**  \n",
    "\"\"\",\n",
    "\"\"\"\n",
    "\\nAlkyl groups are weak inductive donators, but the groups which give the most shielding—\\nperhaps surprisingly—are those containing the electronegative atoms O and N. Despite being\\ninductively electron withdrawing (the C–O and C–N σ bonds are polarized with δ + C), on\\nbalance conjugation of their lone pairs with the ring (as you saw on p. 278) makes them net\\nelectron donors. They increase the shielding at the ring hydrogens. \n",
    "\"\"\",\n",
    "\"\"\"\n",
    "Amino groups are the best.\\nNote that one nitrogen-based functional group (NO2) is the best electron withdrawer while\\nanother (NH2) is the best electron donor.  \\nthe effect of electron-donating groups  \\nby inductive effect  \\nbalance between withdrawal by inductive effect and donation\\nof lone pairs by conjugation—electron donation wins  \\n**H**  \\nδH 7.03  \\n**H**  \\n**H**  \\n**CH3**  \\nδH 6.80 **O**  \\n**H** **H**  \\nδH 6.59 **N**  \\n**H**  \\nδH 6.35  \\n**H**  \\n**H**  \\n**CH3**  \\n**O**  \\n**CH3**  \\n**H**  \\n**H**  \\n**N**  \\n**O**  \\nδH 7.27  \\n**H**  \\n**H**  \\nδH 7.27  \\nδH 5.68  \\n**H**  \\n**H**  \\nδH 5.68  \\n**O**  \\nδH 6.0  \\n**H**  \\n**H**  \\nδH 7.0  \\nδH 4.65  \\n**H**  \\n**H**  \\nδH 6.35  \\nAs far as the donors with lone pairs are concerned (the halogens plus O and N), two factors\\nare important—the size of the lone pairs and the electronegativity of the element. \n",
    "\"\"\",\n",
    "\"\"\"\n",
    "If we look\\nat the four halides at the top of this page the lone pairs are in 2p (F), 3p (Cl), 4p (Br), and 5p (I)\\norbitals. In all cases the orbitals on the benzene ring are 2p so the fl uorine orbital is of the\\nright size to interact well and the others too large. Even though fl uorine is the most electronegative, it is still the best donor. The others don’t pull so much electron density away, but\\nthey can’t give so much back either.\\nIf we compare the fi rst row of the p block elements—F, OH, and NH2—all have lone pairs\\nin 2p orbitals so now electronegativity is the only variable. As you would expect, the most\\nelectronegative element, F, is now the weakest donor.\n",
    "\"\"\"\n",
    "]\n",
    "\n"
   ]
  },
  {
   "cell_type": "code",
   "execution_count": 145,
   "metadata": {},
   "outputs": [
    {
     "name": "stdout",
     "output_type": "stream",
     "text": [
      "Entities:\n",
      "  - Name: Electron Donation\n",
      "    Information: Electron donation refers to the process by which an electron-rich species donates electrons to another species, affecting chemical shifts.\n",
      "  - Name: Electron Withdrawal\n",
      "    Information: Electron withdrawal is the process by which an electron-deficient species attracts electrons from another species, affecting chemical shifts.\n",
      "  - Name: Chemical Shift\n",
      "    Information: Chemical shift is a change in the resonant frequency of a nucleus due to the electronic environment, often measured in NMR spectroscopy.\n",
      "  - Name: Benzene Ring\n",
      "    Information: A benzene ring is a cyclic hydrocarbon with alternating double bonds, often used as a model to study electron distribution effects.\n",
      "  - Name: Substituent\n",
      "    Information: A substituent is an atom or group of atoms that replaces hydrogen in a hydrocarbon, affecting the chemical properties of the molecule.\n",
      "  - Name: Conjugation\n",
      "    Information: Conjugation refers to the overlap of p-orbitals across adjacent single and multiple bonds, affecting electron distribution and chemical shifts.\n",
      "  - Name: Inductive Effect\n",
      "    Information: The inductive effect is the transmission of charge through a chain of atoms in a molecule by electrostatic induction, affecting electron distribution.\n",
      "\n",
      "Data Properties:\n",
      "  - Name: Chemical_Shift_Value\n",
      "    Information: The chemical shift value indicates the position of a hydrogen atom in a benzene ring with substituents, measured in parts per million (ppm).\n",
      "\n",
      "Object Properties:\n",
      "  - Name: affects_chemical_shift\n",
      "    Domain: Electron Donation\n",
      "    Range: Chemical Shift\n",
      "    Restriction: some\n",
      "    Information: Electron donation affects the chemical shift of hydrogen atoms in a benzene ring.\n",
      "  - Name: affects_chemical_shift\n",
      "    Domain: Electron Withdrawal\n",
      "    Range: Chemical Shift\n",
      "    Restriction: some\n",
      "    Information: Electron withdrawal affects the chemical shift of hydrogen atoms in a benzene ring.\n",
      "  - Name: has_substituent\n",
      "    Domain: Benzene Ring\n",
      "    Range: Substituent\n",
      "    Restriction: some\n",
      "    Information: A benzene ring can have substituents at specific positions, affecting its chemical properties.\n",
      "  - Name: involves_conjugation\n",
      "    Domain: Benzene Ring\n",
      "    Range: Conjugation\n",
      "    Restriction: some\n",
      "    Information: Conjugation involves the overlap of p-orbitals in a benzene ring, affecting electron distribution.\n",
      "  - Name: involves_inductive_effect\n",
      "    Domain: Benzene Ring\n",
      "    Range: Inductive Effect\n",
      "    Restriction: some\n",
      "    Information: The inductive effect involves the transmission of charge through a benzene ring, affecting electron distribution.\n",
      "Entities:\n",
      "  - Name: Conjugation\n",
      "    Information: Conjugation is felt through π bonds and involves the interaction of electron clouds in adjacent p orbitals.\n",
      "  - Name: Inductive_Effect\n",
      "    Information: Inductive effects are the result of electron withdrawal or donation felt by polarization of the σ bonds of the molecule.\n",
      "  - Name: Electron_Withdrawing_Group\n",
      "    Information: Electron-withdrawing groups affect chemical shifts by withdrawing electrons through conjugation or inductive effects.\n",
      "  - Name: Hydrogen(H)\n",
      "    Information: Hydrogen is a chemical element with the symbol H.\n",
      "  - Name: Oxygen(O)\n",
      "    Information: Oxygen is a chemical element with the symbol O.\n",
      "  - Name: Nitrogen(N)\n",
      "    Information: Nitrogen is a chemical element with the symbol N.\n",
      "  - Name: Carbon(C)\n",
      "    Information: Carbon is a chemical element with the symbol C.\n",
      "  - Name: Fluorine(F)\n",
      "    Information: Fluorine is a chemical element with the symbol F.\n",
      "  - Name: Hydroxyl(OH)\n",
      "    Information: Hydroxyl is a functional group consisting of an oxygen atom bonded to a hydrogen atom.\n",
      "\n",
      "Data Properties:\n",
      "  - Name: Chemical_Shift\n",
      "    Information: Chemical shifts (δH values) are indicative of the environment around hydrogen atoms in a molecule, influenced by electron-withdrawing groups.\n",
      "\n",
      "Object Properties:\n",
      "  - Name: influences\n",
      "    Domain: Electron_Withdrawing_Group\n",
      "    Range: Chemical_Shift\n",
      "    Restriction: some\n",
      "    Information: Electron-withdrawing groups influence chemical shifts by withdrawing electrons through conjugation or inductive effects.\n",
      "  - Name: involves\n",
      "    Domain: Conjugation\n",
      "    Range: Electron_Withdrawing_Group\n",
      "    Restriction: some\n",
      "    Information: Conjugation involves electron-withdrawing groups that affect chemical shifts.\n",
      "  - Name: involves\n",
      "    Domain: Inductive_Effect\n",
      "    Range: Electron_Withdrawing_Group\n",
      "    Restriction: some\n",
      "    Information: Inductive effects involve electron-withdrawing groups that affect chemical shifts.\n",
      "Entities:\n",
      "  - Name: Nitro\n",
      "    Information: Nitro is the most powerful group in terms of electron withdrawal in both [13]C and [1]H NMR spectra.\n",
      "  - Name: Carbonyl\n",
      "    Information: Carbonyl is a chemical group that follows Nitro in terms of electron withdrawal power.\n",
      "  - Name: Nitrile\n",
      "    Information: Nitrile is a chemical group that follows Nitro in terms of electron withdrawal power.\n",
      "  - Name: CF3\n",
      "    Information: CF3 is a group with three fluorine atoms that exerts a powerful inductive withdrawal effect.\n",
      "  - Name: Iodine(I)\n",
      "    Information: Iodine is a halogen with a δH value of 7.40 in NMR spectra.\n",
      "  - Name: Bromine(Br)\n",
      "    Information: Bromine is a halogen with a δH value of 7.32 in NMR spectra.\n",
      "  - Name: Chlorine(Cl)\n",
      "    Information: Chlorine is a halogen with a δH value of 7.24 in NMR spectra.\n",
      "  - Name: Fluorine(F)\n",
      "    Information: Fluorine is a halogen with a δH value of 7.00 in NMR spectra.\n",
      "\n",
      "Data Properties:\n",
      "  - Name: delta_H_value\n",
      "    Information: The δH value represents the chemical shift in NMR spectra for halogens.\n",
      "\n",
      "Object Properties:\n",
      "  - Name: exerts_inductive_withdrawal\n",
      "    Domain: CF3\n",
      "    Range: Nitro\n",
      "    Restriction: some\n",
      "    Information: CF3 exerts a powerful inductive withdrawal effect similar to Nitro.\n",
      "  - Name: has_electron_withdrawal_power\n",
      "    Domain: Carbonyl\n",
      "    Range: Nitro\n",
      "    Restriction: some\n",
      "    Information: Carbonyl has electron withdrawal power following Nitro.\n",
      "  - Name: has_electron_withdrawal_power\n",
      "    Domain: Nitrile\n",
      "    Range: Nitro\n",
      "    Restriction: some\n",
      "    Information: Nitrile has electron withdrawal power following Nitro.\n",
      "  - Name: has_delta_H_value\n",
      "    Domain: Iodine(I)\n",
      "    Range: delta_H_value\n",
      "    Restriction: only\n",
      "    Information: Iodine has a δH value of 7.40 in NMR spectra.\n",
      "  - Name: has_delta_H_value\n",
      "    Domain: Bromine(Br)\n",
      "    Range: delta_H_value\n",
      "    Restriction: only\n",
      "    Information: Bromine has a δH value of 7.32 in NMR spectra.\n",
      "  - Name: has_delta_H_value\n",
      "    Domain: Chlorine(Cl)\n",
      "    Range: delta_H_value\n",
      "    Restriction: only\n",
      "    Information: Chlorine has a δH value of 7.24 in NMR spectra.\n",
      "  - Name: has_delta_H_value\n",
      "    Domain: Fluorine(F)\n",
      "    Range: delta_H_value\n",
      "    Restriction: only\n",
      "    Information: Fluorine has a δH value of 7.00 in NMR spectra.\n",
      "Entities:\n",
      "  - Name: Alkyl groups\n",
      "    Information: Alkyl groups are weak inductive donators.\n",
      "  - Name: Electronegative atoms\n",
      "    Information: Electronegative atoms like O and N are part of groups that give the most shielding.\n",
      "  - Name: Oxygen (O)\n",
      "    Information: Oxygen is an electronegative atom involved in electron withdrawing and donating effects.\n",
      "  - Name: Nitrogen (N)\n",
      "    Information: Nitrogen is an electronegative atom involved in electron withdrawing and donating effects.\n",
      "  - Name: Ring hydrogens\n",
      "    Information: Ring hydrogens experience increased shielding due to the presence of certain groups.\n",
      "\n",
      "Data Properties:\n",
      "  - Name: inductive_donating\n",
      "    Information: Alkyl groups are weak inductive donators.\n",
      "  - Name: electron_withdrawing\n",
      "    Information: The C–O and C–N σ bonds are polarized with δ + C, making them inductively electron withdrawing.\n",
      "  - Name: net_electron_donors\n",
      "    Information: Despite being inductively electron withdrawing, conjugation of lone pairs with the ring makes them net electron donors.\n",
      "  - Name: increased_shielding\n",
      "    Information: Electronegative atoms increase the shielding at the ring hydrogens.\n",
      "\n",
      "Object Properties:\n",
      "  - Name: conjugation_with_ring\n",
      "    Domain: Electronegative atoms\n",
      "    Range: Ring hydrogens\n",
      "    Restriction: some\n",
      "    Information: Conjugation of lone pairs with the ring makes electronegative atoms net electron donors, increasing shielding at the ring hydrogens.\n",
      "Entities:\n",
      "  - Name: Amino Group(NH2)\n",
      "    Information: The amino group (NH2) is described as the best electron donor.\n",
      "  - Name: Nitro Group(NO2)\n",
      "    Information: The nitro group (NO2) is described as the best electron withdrawer.\n",
      "  - Name: Inductive Effect\n",
      "    Information: The inductive effect is mentioned as a process affecting electron donation and withdrawal.\n",
      "  - Name: Conjugation\n",
      "    Information: Conjugation is mentioned as a process where lone pairs are donated.\n",
      "  - Name: Nitrogen(N)\n",
      "    Information: Nitrogen is mentioned as an element with lone pairs that can donate electrons.\n",
      "  - Name: Oxygen(O)\n",
      "    Information: Oxygen is mentioned as an element with lone pairs that can donate electrons.\n",
      "  - Name: Hydrogen(H)\n",
      "    Information: Hydrogen atoms are mentioned with specific chemical shifts in NMR spectroscopy.\n",
      "\n",
      "Data Properties:\n",
      "  - Name: Chemical_Shift_7.03\n",
      "    Information: The chemical shift δH 7.03 is associated with a hydrogen atom.\n",
      "  - Name: Chemical_Shift_6.80\n",
      "    Information: The chemical shift δH 6.80 is associated with a hydrogen atom.\n",
      "  - Name: Chemical_Shift_6.59\n",
      "    Information: The chemical shift δH 6.59 is associated with a hydrogen atom.\n",
      "  - Name: Chemical_Shift_6.35\n",
      "    Information: The chemical shift δH 6.35 is associated with a hydrogen atom.\n",
      "  - Name: Chemical_Shift_7.27\n",
      "    Information: The chemical shift δH 7.27 is associated with a hydrogen atom.\n",
      "  - Name: Chemical_Shift_5.68\n",
      "    Information: The chemical shift δH 5.68 is associated with a hydrogen atom.\n",
      "  - Name: Chemical_Shift_6.0\n",
      "    Information: The chemical shift δH 6.0 is associated with a hydrogen atom.\n",
      "  - Name: Chemical_Shift_4.65\n",
      "    Information: The chemical shift δH 4.65 is associated with a hydrogen atom.\n",
      "\n",
      "Object Properties:\n",
      "  - Name: donates_electrons\n",
      "    Domain: Amino Group(NH2)\n",
      "    Range: Inductive Effect\n",
      "    Restriction: some\n",
      "    Information: The amino group donates electrons by inductive effect.\n",
      "  - Name: withdraws_electrons\n",
      "    Domain: Nitro Group(NO2)\n",
      "    Range: Inductive Effect\n",
      "    Restriction: some\n",
      "    Information: The nitro group withdraws electrons by inductive effect.\n",
      "  - Name: donates_lone_pairs\n",
      "    Domain: Nitrogen(N)\n",
      "    Range: Conjugation\n",
      "    Restriction: some\n",
      "    Information: Nitrogen donates lone pairs by conjugation.\n",
      "  - Name: donates_lone_pairs\n",
      "    Domain: Oxygen(O)\n",
      "    Range: Conjugation\n",
      "    Restriction: some\n",
      "    Information: Oxygen donates lone pairs by conjugation.\n",
      "Entities:\n",
      "  - Name: Fluorine(F)\n",
      "    Information: Fluorine is a halide with lone pairs in 2p orbitals and is the most electronegative element discussed.\n",
      "  - Name: Chlorine(Cl)\n",
      "    Information: Chlorine is a halide with lone pairs in 3p orbitals.\n",
      "  - Name: Bromine(Br)\n",
      "    Information: Bromine is a halide with lone pairs in 4p orbitals.\n",
      "  - Name: Iodine(I)\n",
      "    Information: Iodine is a halide with lone pairs in 5p orbitals.\n",
      "  - Name: Benzene_Ring\n",
      "    Information: The benzene ring has orbitals in 2p.\n",
      "  - Name: Hydroxyl(OH)\n",
      "    Information: Hydroxyl is a group with lone pairs in 2p orbitals.\n",
      "  - Name: Amino(NH2)\n",
      "    Information: Amino is a group with lone pairs in 2p orbitals.\n",
      "\n",
      "Data Properties:\n",
      "  - Name: Orbital_Type\n",
      "    Information: The orbital type for Fluorine is 2p, for Chlorine is 3p, for Bromine is 4p, and for Iodine is 5p.\n",
      "  - Name: Electronegativity\n",
      "    Information: Fluorine is the most electronegative element among the halides and p block elements discussed.\n",
      "\n",
      "Object Properties:\n",
      "  - Name: interacts_with\n",
      "    Domain: Fluorine(F)\n",
      "    Range: Benzene_Ring\n",
      "    Restriction: some\n",
      "    Information: Fluorine interacts well with the benzene ring due to its orbital size being the right size to interact.\n",
      "  - Name: interacts_with\n",
      "    Domain: Chlorine(Cl)\n",
      "    Range: Benzene_Ring\n",
      "    Restriction: some\n",
      "    Information: Chlorine interacts with the benzene ring, but its orbital is too large for optimal interaction.\n",
      "  - Name: interacts_with\n",
      "    Domain: Bromine(Br)\n",
      "    Range: Benzene_Ring\n",
      "    Restriction: some\n",
      "    Information: Bromine interacts with the benzene ring, but its orbital is too large for optimal interaction.\n",
      "  - Name: interacts_with\n",
      "    Domain: Iodine(I)\n",
      "    Range: Benzene_Ring\n",
      "    Restriction: some\n",
      "    Information: Iodine interacts with the benzene ring, but its orbital is too large for optimal interaction.\n",
      "  - Name: donor_strength\n",
      "    Domain: Fluorine(F)\n",
      "    Range: Benzene_Ring\n",
      "    Restriction: only\n",
      "    Information: Fluorine is the best donor despite being the most electronegative.\n",
      "  - Name: donor_strength\n",
      "    Domain: Hydroxyl(OH)\n",
      "    Range: Benzene_Ring\n",
      "    Restriction: only\n",
      "    Information: Hydroxyl is a donor with lone pairs in 2p orbitals.\n",
      "  - Name: donor_strength\n",
      "    Domain: Amino(NH2)\n",
      "    Range: Benzene_Ring\n",
      "    Restriction: only\n",
      "    Information: Amino is a donor with lone pairs in 2p orbitals.\n"
     ]
    }
   ],
   "source": [
    "for test in tests:\n",
    "    print(ontology_to_string(zeroshot_optimized_program(test).ontology))\n",
    "\n",
    "\n",
    "\n"
   ]
  },
  {
   "cell_type": "code",
   "execution_count": 153,
   "metadata": {},
   "outputs": [
    {
     "name": "stdout",
     "output_type": "stream",
     "text": [
      "\n",
      "Entity Accuracy Score: 5\n",
      "Data Property Correctness Score: 4\n",
      "Object Property Completeness Score: 3\n",
      "Ontology Structure Score: 4\n",
      "Overall Score: 8\n",
      "\n",
      "Total Score: 24\n",
      "Percentage Score: 88.89%\n",
      "\n",
      "Reason:\n",
      "entity accuracy: \n",
      "data property correctness: The ontology lacks explicit capture of dependencies for the chemical shift value, which affects the assessment score.\n",
      "object property completeness: The ontology lacks object property chains and inverse relationships, and the use of 'some' restrictions may not fully capture the specificity of interactions.\n",
      "ontology structure: \n",
      "overall score: \n",
      "\n",
      "\n",
      "Entity Accuracy Score: 4\n",
      "Data Property Correctness Score: 4\n",
      "Object Property Completeness Score: 3\n",
      "Ontology Structure Score: 4\n",
      "Overall Score: 6\n",
      "\n",
      "Total Score: 21\n",
      "Percentage Score: 77.78%\n",
      "\n",
      "Reason:\n",
      "entity accuracy: The ontology does not fully capture an appropriate chemical classification hierarchy, which prevents it from achieving a perfect score.\n",
      "data property correctness: The ontology lacks explicit mention of the range of δH values, which is a minor inconsistency.\n",
      "object property completeness: The ontology lacks object property chains and inverse relationships, and the use of relationship restrictions is limited.\n",
      "ontology structure: \n",
      "overall score: The ontology is mostly accurate and valid but lacks some specific details and context for full comprehensiveness and knowledge independence.\n",
      "\n",
      "\n",
      "Entity Accuracy Score: 3\n",
      "Data Property Correctness Score: 5\n",
      "Object Property Completeness Score: 3\n",
      "Ontology Structure Score: 4\n",
      "Overall Score: 6\n",
      "\n",
      "Total Score: 21\n",
      "Percentage Score: 77.78%\n",
      "\n",
      "Reason:\n",
      "entity accuracy: The ontology is well-structured in terms of naming and definition but lacks clarity in some relationships and does not explicitly capture a hierarchical classification of chemical entities.\n",
      "data property correctness: \n",
      "object property completeness: The ontology lacks object property chains and inverse relationships, and the application of relationship restrictions could be improved.\n",
      "ontology structure: \n",
      "overall score: The ontology extraction is mostly accurate and aligns well with chemical expertise, but it misses some nuanced information about the balance of effects for halogens, affecting its comprehensiveness and knowledge independence.\n",
      "\n",
      "\n",
      "Entity Accuracy Score: 5\n",
      "Data Property Correctness Score: 4\n",
      "Object Property Completeness Score: 3\n",
      "Ontology Structure Score: 4\n",
      "Overall Score: 7\n",
      "\n",
      "Total Score: 23\n",
      "Percentage Score: 85.19%\n",
      "\n",
      "Reason:\n",
      "entity accuracy: \n",
      "data property correctness: The ontology lacks specification of units and ranges for data properties, which is necessary for full chemical validity.\n",
      "object property completeness: The ontology partially meets the criteria, capturing key interactions and valid domain-range specifications, but lacks complexity in property chains and inverse relationships.\n",
      "ontology structure: \n",
      "overall score: The ontology is nearly perfect but requires slight context for full understanding, affecting knowledge independence.\n",
      "\n",
      "\n",
      "Entity Accuracy Score: 5\n",
      "Data Property Correctness Score: 4\n",
      "Object Property Completeness Score: 3\n",
      "Ontology Structure Score: 4\n",
      "Overall Score: 6\n",
      "\n",
      "Total Score: 22\n",
      "Percentage Score: 81.48%\n",
      "\n",
      "Reason:\n",
      "entity accuracy: \n",
      "data property correctness: The ontology lacks explicit capture of dependencies between chemical shifts and molecular environments or structural contexts.\n",
      "object property completeness: The ontology lacks object property chains and inverse relationships, which are necessary for a full score.\n",
      "ontology structure: \n",
      "overall score: The ontology extraction is mostly accurate and aligns well with chemical expertise, but it lacks some comprehensiveness and could be more independent of the source text context.\n",
      "\n",
      "\n",
      "Entity Accuracy Score: 3\n",
      "Data Property Correctness Score: 3\n",
      "Object Property Completeness Score: 2\n",
      "Ontology Structure Score: 3\n",
      "Overall Score: 8\n",
      "\n",
      "Total Score: 19\n",
      "Percentage Score: 70.37%\n",
      "\n",
      "Reason:\n",
      "entity accuracy: The ontology accurately names and defines entities and avoids redundancy, but it lacks a comprehensive representation of entity relationships and hierarchy, particularly in capturing the nuances of donor strength changes among p block elements.\n",
      "data property correctness: The ontology lacks specification of units and ranges for data properties, and dependencies between properties are not clearly captured.\n",
      "object property completeness: The ontology captures some key interactions and has valid domain and range specifications, but it lacks accurate relationship restrictions, complex process representation, and inverse relationships.\n",
      "ontology structure: The ontology lacks differentiation in the donor strength context for Fluorine, affecting cross-reference accuracy.\n",
      "overall score: \n",
      "\n"
     ]
    }
   ],
   "source": [
    "for test in tests:\n",
    "    print(metric(dspy.Prediction(context=test),zeroshot_optimized_program(test), verbose=True))\n"
   ]
  },
  {
   "cell_type": "code",
   "execution_count": 154,
   "metadata": {},
   "outputs": [
    {
     "name": "stdout",
     "output_type": "stream",
     "text": [
      "\n",
      "Entity Accuracy Score: 5\n",
      "Data Property Correctness Score: 5\n",
      "Object Property Completeness Score: 2\n",
      "Ontology Structure Score: 4\n",
      "Overall Score: 7\n",
      "\n",
      "Total Score: 23\n",
      "Percentage Score: 85.19%\n",
      "\n",
      "Reason:\n",
      "entity accuracy: \n",
      "data property correctness: \n",
      "object property completeness: The ontology lacks detailed relationship restrictions, complex process representation, and inverse relationships.\n",
      "ontology structure: \n",
      "overall score: The ontology is mostly comprehensive but could include more details on the balance of effects for halogens.\n",
      "\n"
     ]
    }
   ],
   "source": [
    "print(metric(dspy.Prediction(context=test_context),zeroshot_optimized_program(test_context), verbose=True))\n"
   ]
  },
  {
   "cell_type": "code",
   "execution_count": null,
   "metadata": {},
   "outputs": [],
   "source": []
  }
 ],
 "metadata": {
  "kernelspec": {
   "display_name": "OntologyConstruction",
   "language": "python",
   "name": "python3"
  },
  "language_info": {
   "codemirror_mode": {
    "name": "ipython",
    "version": 3
   },
   "file_extension": ".py",
   "mimetype": "text/x-python",
   "name": "python",
   "nbconvert_exporter": "python",
   "pygments_lexer": "ipython3",
   "version": "3.13.0"
  }
 },
 "nbformat": 4,
 "nbformat_minor": 2
}
